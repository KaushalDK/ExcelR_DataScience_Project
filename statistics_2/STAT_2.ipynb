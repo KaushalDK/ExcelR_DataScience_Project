{
 "cells": [
  {
   "cell_type": "code",
   "execution_count": 5,
   "id": "3465f311",
   "metadata": {},
   "outputs": [
    {
     "data": {
      "image/png": "[encoded data removed]",
      "text/plain": [
       "<Figure size 720x360 with 1 Axes>"
      ]
     },
     "metadata": {
      "needs_background": "light"
     },
     "output_type": "display_data"
    }
   ],
   "source": [
    "import numpy as np\n",
    "import matplotlib.pyplot as plt\n",
    " \n",
    "  \n",
    "# creating the dataset\n",
    "data = {'C':20, 'C++':15, 'Java':30,\n",
    "        'Python':35}\n",
    "courses = list(data.keys())\n",
    "values = list(data.values())\n",
    "  \n",
    "fig = plt.figure(figsize = (10, 5))\n",
    " \n",
    "# creating the bar plot\n",
    "plt.bar(courses, values, color ='maroon',\n",
    "        width = 0.4)\n",
    " \n",
    "plt.xlabel(\"Courses offered\")\n",
    "plt.ylabel(\"No. of students enrolled\")\n",
    "plt.title(\"Students enrolled in different courses\")\n",
    "plt.show()"
   ]
  },
  {
   "cell_type": "code",
   "execution_count": 2,
   "id": "78704269",
   "metadata": {},
   "outputs": [],
   "source": [
    "import pandas as pd"
   ]
  },
  {
   "cell_type": "code",
   "execution_count": 9,
   "id": "f6e9a3ee",
   "metadata": {},
   "outputs": [
    {
     "data": {
      "text/html": [
       "<div>\n",
       "<style scoped>\n",
       "    .dataframe tbody tr th:only-of-type {\n",
       "        vertical-align: middle;\n",
       "    }\n",
       "\n",
       "    .dataframe tbody tr th {\n",
       "        vertical-align: top;\n",
       "    }\n",
       "\n",
       "    .dataframe thead th {\n",
       "        text-align: right;\n",
       "    }\n",
       "</style>\n",
       "<table border=\"1\" class=\"dataframe\">\n",
       "  <thead>\n",
       "    <tr style=\"text-align: right;\">\n",
       "      <th></th>\n",
       "      <th>Name of company</th>\n",
       "      <th>Measure X</th>\n",
       "    </tr>\n",
       "  </thead>\n",
       "  <tbody>\n",
       "    <tr>\n",
       "      <th>0</th>\n",
       "      <td>Allied Signal</td>\n",
       "      <td>24.23%</td>\n",
       "    </tr>\n",
       "    <tr>\n",
       "      <th>1</th>\n",
       "      <td>Bankers Trust</td>\n",
       "      <td>25.53%</td>\n",
       "    </tr>\n",
       "    <tr>\n",
       "      <th>2</th>\n",
       "      <td>General Mills</td>\n",
       "      <td>25.41%</td>\n",
       "    </tr>\n",
       "    <tr>\n",
       "      <th>3</th>\n",
       "      <td>ITT Industries</td>\n",
       "      <td>24.14%</td>\n",
       "    </tr>\n",
       "    <tr>\n",
       "      <th>4</th>\n",
       "      <td>J.P.Morgan &amp; Co.</td>\n",
       "      <td>29.62%</td>\n",
       "    </tr>\n",
       "    <tr>\n",
       "      <th>5</th>\n",
       "      <td>Lehman Brothers</td>\n",
       "      <td>28.25%</td>\n",
       "    </tr>\n",
       "    <tr>\n",
       "      <th>6</th>\n",
       "      <td>Marriott</td>\n",
       "      <td>25.81%</td>\n",
       "    </tr>\n",
       "    <tr>\n",
       "      <th>7</th>\n",
       "      <td>MCI</td>\n",
       "      <td>24.39%</td>\n",
       "    </tr>\n",
       "    <tr>\n",
       "      <th>8</th>\n",
       "      <td>Merrill Lynch</td>\n",
       "      <td>40.26%</td>\n",
       "    </tr>\n",
       "    <tr>\n",
       "      <th>9</th>\n",
       "      <td>Microsoft</td>\n",
       "      <td>32.95%</td>\n",
       "    </tr>\n",
       "    <tr>\n",
       "      <th>10</th>\n",
       "      <td>Morgan Stanley</td>\n",
       "      <td>91.36%</td>\n",
       "    </tr>\n",
       "    <tr>\n",
       "      <th>11</th>\n",
       "      <td>Sun Microsystems</td>\n",
       "      <td>25.99%</td>\n",
       "    </tr>\n",
       "    <tr>\n",
       "      <th>12</th>\n",
       "      <td>Travelers</td>\n",
       "      <td>39.42%</td>\n",
       "    </tr>\n",
       "    <tr>\n",
       "      <th>13</th>\n",
       "      <td>US Airways</td>\n",
       "      <td>26.71%</td>\n",
       "    </tr>\n",
       "    <tr>\n",
       "      <th>14</th>\n",
       "      <td>Warner-Lambert</td>\n",
       "      <td>35.00%</td>\n",
       "    </tr>\n",
       "  </tbody>\n",
       "</table>\n",
       "</div>"
      ],
      "text/plain": [
       "     Name of company Measure X\n",
       "0      Allied Signal    24.23%\n",
       "1      Bankers Trust    25.53%\n",
       "2      General Mills    25.41%\n",
       "3     ITT Industries    24.14%\n",
       "4   J.P.Morgan & Co.    29.62%\n",
       "5    Lehman Brothers    28.25%\n",
       "6           Marriott    25.81%\n",
       "7                MCI    24.39%\n",
       "8      Merrill Lynch    40.26%\n",
       "9          Microsoft    32.95%\n",
       "10    Morgan Stanley    91.36%\n",
       "11  Sun Microsystems    25.99%\n",
       "12         Travelers    39.42%\n",
       "13        US Airways    26.71%\n",
       "14    Warner-Lambert    35.00%"
      ]
     },
     "execution_count": 9,
     "metadata": {},
     "output_type": "execute_result"
    }
   ],
   "source": [
    "data_q_1 = pd.read_csv('data_q_1.csv')\n",
    "data_q_1"
   ]
  },
  {
   "cell_type": "code",
   "execution_count": 10,
   "id": "7e9349f5",
   "metadata": {},
   "outputs": [
    {
     "data": {
      "text/html": [
       "<div>\n",
       "<style scoped>\n",
       "    .dataframe tbody tr th:only-of-type {\n",
       "        vertical-align: middle;\n",
       "    }\n",
       "\n",
       "    .dataframe tbody tr th {\n",
       "        vertical-align: top;\n",
       "    }\n",
       "\n",
       "    .dataframe thead th {\n",
       "        text-align: right;\n",
       "    }\n",
       "</style>\n",
       "<table border=\"1\" class=\"dataframe\">\n",
       "  <thead>\n",
       "    <tr style=\"text-align: right;\">\n",
       "      <th></th>\n",
       "      <th>Name of company</th>\n",
       "      <th>Measure X</th>\n",
       "    </tr>\n",
       "  </thead>\n",
       "  <tbody>\n",
       "    <tr>\n",
       "      <th>0</th>\n",
       "      <td>Allied Signal</td>\n",
       "      <td>24.23</td>\n",
       "    </tr>\n",
       "    <tr>\n",
       "      <th>1</th>\n",
       "      <td>Bankers Trust</td>\n",
       "      <td>25.53</td>\n",
       "    </tr>\n",
       "    <tr>\n",
       "      <th>2</th>\n",
       "      <td>General Mills</td>\n",
       "      <td>25.41</td>\n",
       "    </tr>\n",
       "    <tr>\n",
       "      <th>3</th>\n",
       "      <td>ITT Industries</td>\n",
       "      <td>24.14</td>\n",
       "    </tr>\n",
       "    <tr>\n",
       "      <th>4</th>\n",
       "      <td>J.P.Morgan &amp; Co.</td>\n",
       "      <td>29.62</td>\n",
       "    </tr>\n",
       "    <tr>\n",
       "      <th>5</th>\n",
       "      <td>Lehman Brothers</td>\n",
       "      <td>28.25</td>\n",
       "    </tr>\n",
       "    <tr>\n",
       "      <th>6</th>\n",
       "      <td>Marriott</td>\n",
       "      <td>25.81</td>\n",
       "    </tr>\n",
       "    <tr>\n",
       "      <th>7</th>\n",
       "      <td>MCI</td>\n",
       "      <td>24.39</td>\n",
       "    </tr>\n",
       "    <tr>\n",
       "      <th>8</th>\n",
       "      <td>Merrill Lynch</td>\n",
       "      <td>40.26</td>\n",
       "    </tr>\n",
       "    <tr>\n",
       "      <th>9</th>\n",
       "      <td>Microsoft</td>\n",
       "      <td>32.95</td>\n",
       "    </tr>\n",
       "    <tr>\n",
       "      <th>10</th>\n",
       "      <td>Morgan Stanley</td>\n",
       "      <td>91.36</td>\n",
       "    </tr>\n",
       "    <tr>\n",
       "      <th>11</th>\n",
       "      <td>Sun Microsystems</td>\n",
       "      <td>25.99</td>\n",
       "    </tr>\n",
       "    <tr>\n",
       "      <th>12</th>\n",
       "      <td>Travelers</td>\n",
       "      <td>39.42</td>\n",
       "    </tr>\n",
       "    <tr>\n",
       "      <th>13</th>\n",
       "      <td>US Airways</td>\n",
       "      <td>26.71</td>\n",
       "    </tr>\n",
       "    <tr>\n",
       "      <th>14</th>\n",
       "      <td>Warner-Lambert</td>\n",
       "      <td>35.00</td>\n",
       "    </tr>\n",
       "  </tbody>\n",
       "</table>\n",
       "</div>"
      ],
      "text/plain": [
       "     Name of company Measure X\n",
       "0      Allied Signal     24.23\n",
       "1      Bankers Trust     25.53\n",
       "2      General Mills     25.41\n",
       "3     ITT Industries     24.14\n",
       "4   J.P.Morgan & Co.     29.62\n",
       "5    Lehman Brothers     28.25\n",
       "6           Marriott     25.81\n",
       "7                MCI     24.39\n",
       "8      Merrill Lynch     40.26\n",
       "9          Microsoft     32.95\n",
       "10    Morgan Stanley     91.36\n",
       "11  Sun Microsystems     25.99\n",
       "12         Travelers     39.42\n",
       "13        US Airways     26.71\n",
       "14    Warner-Lambert     35.00"
      ]
     },
     "execution_count": 10,
     "metadata": {},
     "output_type": "execute_result"
    }
   ],
   "source": [
    "d_1 = data_q_1.replace('%',value='', regex=True)\n",
    "d_1"
   ]
  },
  {
   "cell_type": "code",
   "execution_count": 11,
   "id": "cd61deea",
   "metadata": {},
   "outputs": [
    {
     "data": {
      "text/html": [
       "<div>\n",
       "<style scoped>\n",
       "    .dataframe tbody tr th:only-of-type {\n",
       "        vertical-align: middle;\n",
       "    }\n",
       "\n",
       "    .dataframe tbody tr th {\n",
       "        vertical-align: top;\n",
       "    }\n",
       "\n",
       "    .dataframe thead th {\n",
       "        text-align: right;\n",
       "    }\n",
       "</style>\n",
       "<table border=\"1\" class=\"dataframe\">\n",
       "  <thead>\n",
       "    <tr style=\"text-align: right;\">\n",
       "      <th></th>\n",
       "      <th>Name of company</th>\n",
       "      <th>Measure X</th>\n",
       "    </tr>\n",
       "  </thead>\n",
       "  <tbody>\n",
       "    <tr>\n",
       "      <th>0</th>\n",
       "      <td>Allied Signal</td>\n",
       "      <td>24.23</td>\n",
       "    </tr>\n",
       "    <tr>\n",
       "      <th>1</th>\n",
       "      <td>Bankers Trust</td>\n",
       "      <td>25.53</td>\n",
       "    </tr>\n",
       "    <tr>\n",
       "      <th>2</th>\n",
       "      <td>General Mills</td>\n",
       "      <td>25.41</td>\n",
       "    </tr>\n",
       "    <tr>\n",
       "      <th>3</th>\n",
       "      <td>ITT Industries</td>\n",
       "      <td>24.14</td>\n",
       "    </tr>\n",
       "    <tr>\n",
       "      <th>4</th>\n",
       "      <td>J.P.Morgan &amp; Co.</td>\n",
       "      <td>29.62</td>\n",
       "    </tr>\n",
       "    <tr>\n",
       "      <th>5</th>\n",
       "      <td>Lehman Brothers</td>\n",
       "      <td>28.25</td>\n",
       "    </tr>\n",
       "    <tr>\n",
       "      <th>6</th>\n",
       "      <td>Marriott</td>\n",
       "      <td>25.81</td>\n",
       "    </tr>\n",
       "    <tr>\n",
       "      <th>7</th>\n",
       "      <td>MCI</td>\n",
       "      <td>24.39</td>\n",
       "    </tr>\n",
       "    <tr>\n",
       "      <th>8</th>\n",
       "      <td>Merrill Lynch</td>\n",
       "      <td>40.26</td>\n",
       "    </tr>\n",
       "    <tr>\n",
       "      <th>9</th>\n",
       "      <td>Microsoft</td>\n",
       "      <td>32.95</td>\n",
       "    </tr>\n",
       "    <tr>\n",
       "      <th>10</th>\n",
       "      <td>Morgan Stanley</td>\n",
       "      <td>91.36</td>\n",
       "    </tr>\n",
       "    <tr>\n",
       "      <th>11</th>\n",
       "      <td>Sun Microsystems</td>\n",
       "      <td>25.99</td>\n",
       "    </tr>\n",
       "    <tr>\n",
       "      <th>12</th>\n",
       "      <td>Travelers</td>\n",
       "      <td>39.42</td>\n",
       "    </tr>\n",
       "    <tr>\n",
       "      <th>13</th>\n",
       "      <td>US Airways</td>\n",
       "      <td>26.71</td>\n",
       "    </tr>\n",
       "    <tr>\n",
       "      <th>14</th>\n",
       "      <td>Warner-Lambert</td>\n",
       "      <td>35.00</td>\n",
       "    </tr>\n",
       "  </tbody>\n",
       "</table>\n",
       "</div>"
      ],
      "text/plain": [
       "     Name of company  Measure X\n",
       "0      Allied Signal      24.23\n",
       "1      Bankers Trust      25.53\n",
       "2      General Mills      25.41\n",
       "3     ITT Industries      24.14\n",
       "4   J.P.Morgan & Co.      29.62\n",
       "5    Lehman Brothers      28.25\n",
       "6           Marriott      25.81\n",
       "7                MCI      24.39\n",
       "8      Merrill Lynch      40.26\n",
       "9          Microsoft      32.95\n",
       "10    Morgan Stanley      91.36\n",
       "11  Sun Microsystems      25.99\n",
       "12         Travelers      39.42\n",
       "13        US Airways      26.71\n",
       "14    Warner-Lambert      35.00"
      ]
     },
     "execution_count": 11,
     "metadata": {},
     "output_type": "execute_result"
    }
   ],
   "source": [
    "d_1['Measure X'] = d_1['Measure X'].astype(float)\n",
    "d_1"
   ]
  },
  {
   "cell_type": "code",
   "execution_count": 26,
   "id": "e107ae72",
   "metadata": {},
   "outputs": [
    {
     "data": {
      "image/png": "[encoded data removed]",
      "text/plain": [
       "<Figure size 1152x360 with 1 Axes>"
      ]
     },
     "metadata": {
      "needs_background": "light"
     },
     "output_type": "display_data"
    }
   ],
   "source": [
    "\n",
    "fig = plt.figure(figsize = (16, 5))\n",
    "plt.bar(d_1['Name of company'], d_1['Measure X'], width = 0.8)\n",
    "plt.xticks(rotation = 90)\n",
    "plt.xlabel(\"Name of Company\", fontsize=20)\n",
    "plt.ylabel(\"Measure X\", fontsize=20)\n",
    "plt.title(\"Stat_2_Q_1\")\n",
    "plt.show()"
   ]
  },
  {
   "cell_type": "code",
   "execution_count": 6,
   "id": "caeaa8fd",
   "metadata": {},
   "outputs": [],
   "source": [
    "import statistics"
   ]
  },
  {
   "cell_type": "code",
   "execution_count": 29,
   "id": "f9b4f3b1",
   "metadata": {},
   "outputs": [
    {
     "data": {
      "text/plain": [
       "33.27133333333333"
      ]
     },
     "execution_count": 29,
     "metadata": {},
     "output_type": "execute_result"
    }
   ],
   "source": [
    "statistics.mean(d_1['Measure X'])"
   ]
  },
  {
   "cell_type": "code",
   "execution_count": 30,
   "id": "07bb36f6",
   "metadata": {},
   "outputs": [
    {
     "data": {
      "text/plain": [
       "16.945400921222028"
      ]
     },
     "execution_count": 30,
     "metadata": {},
     "output_type": "execute_result"
    }
   ],
   "source": [
    "statistics.stdev(d_1['Measure X'])"
   ]
  },
  {
   "cell_type": "code",
   "execution_count": 31,
   "id": "c685a753",
   "metadata": {},
   "outputs": [
    {
     "data": {
      "text/plain": [
       "4.11703777004778"
      ]
     },
     "execution_count": 31,
     "metadata": {},
     "output_type": "execute_result"
    }
   ],
   "source": [
    "np.sqrt(16.95)"
   ]
  },
  {
   "cell_type": "code",
   "execution_count": 35,
   "id": "2e4b570d",
   "metadata": {},
   "outputs": [],
   "source": [
    "A = [-2000,-1000,0,1000,2000,3000]\n",
    "B = [0.1,0.1,0.2,0.2,0.3,0.1]"
   ]
  },
  {
   "cell_type": "code",
   "execution_count": 39,
   "id": "ad29be47",
   "metadata": {},
   "outputs": [
    {
     "data": {
      "image/png": "[encoded data removed]",
      "text/plain": [
       "<Figure size 720x360 with 1 Axes>"
      ]
     },
     "metadata": {
      "needs_background": "light"
     },
     "output_type": "display_data"
    }
   ],
   "source": [
    "fig = plt.figure(figsize = (10, 5))\n",
    "plt.bar(A, B, width = 100)\n",
    "plt.xlabel(\"Returns\", fontsize=20)\n",
    "plt.ylabel(\"Probability\", fontsize=20)\n",
    "plt.title(\"Stat_2_Q_5- Probability Distribution\")\n",
    "plt.show()"
   ]
  },
  {
   "cell_type": "code",
   "execution_count": 40,
   "id": "503d1866",
   "metadata": {},
   "outputs": [
    {
     "data": {
      "text/plain": [
       "500"
      ]
     },
     "execution_count": 40,
     "metadata": {},
     "output_type": "execute_result"
    }
   ],
   "source": [
    "statistics.mean(A)"
   ]
  },
  {
   "cell_type": "code",
   "execution_count": 41,
   "id": "b11d852e",
   "metadata": {},
   "outputs": [
    {
     "data": {
      "text/plain": [
       "0.16666666666666669"
      ]
     },
     "execution_count": 41,
     "metadata": {},
     "output_type": "execute_result"
    }
   ],
   "source": [
    "statistics.mean(B)"
   ]
  },
  {
   "cell_type": "code",
   "execution_count": 43,
   "id": "9b846cc2",
   "metadata": {},
   "outputs": [
    {
     "data": {
      "text/plain": [
       "1870.8286933869706"
      ]
     },
     "execution_count": 43,
     "metadata": {},
     "output_type": "execute_result"
    }
   ],
   "source": [
    "statistics.stdev(A)"
   ]
  },
  {
   "cell_type": "code",
   "execution_count": 15,
   "id": "e8942698",
   "metadata": {},
   "outputs": [],
   "source": [
    "from scipy import stats"
   ]
  },
  {
   "cell_type": "code",
   "execution_count": 49,
   "id": "202f9800",
   "metadata": {},
   "outputs": [
    {
     "data": {
      "text/plain": [
       "0.26598552904870054"
      ]
     },
     "execution_count": 49,
     "metadata": {},
     "output_type": "execute_result"
    }
   ],
   "source": [
    "1 - stats.norm(45, 8).cdf(50)"
   ]
  },
  {
   "cell_type": "code",
   "execution_count": 51,
   "id": "431f7625",
   "metadata": {},
   "outputs": [
    {
     "data": {
      "text/plain": [
       "36.484487890347154"
      ]
     },
     "execution_count": 51,
     "metadata": {},
     "output_type": "execute_result"
    }
   ],
   "source": [
    "stats.norm(38, 6).cdf(30)*400"
   ]
  },
  {
   "cell_type": "code",
   "execution_count": 52,
   "id": "398df531",
   "metadata": {},
   "outputs": [
    {
     "data": {
      "text/plain": [
       "2.5758293035489004"
      ]
     },
     "execution_count": 52,
     "metadata": {},
     "output_type": "execute_result"
    }
   ],
   "source": [
    "stats.norm.ppf(.995)"
   ]
  },
  {
   "cell_type": "code",
   "execution_count": 53,
   "id": "252d3fba",
   "metadata": {},
   "outputs": [
    {
     "data": {
      "text/plain": [
       "-1.5758293035489004"
      ]
     },
     "execution_count": 53,
     "metadata": {},
     "output_type": "execute_result"
    }
   ],
   "source": [
    "1 - stats.norm.ppf(0.995)"
   ]
  },
  {
   "cell_type": "code",
   "execution_count": 55,
   "id": "b299f851",
   "metadata": {},
   "outputs": [
    {
     "data": {
      "text/plain": [
       "151.51600000000002"
      ]
     },
     "execution_count": 55,
     "metadata": {},
     "output_type": "execute_result"
    }
   ],
   "source": [
    "2.5758*20 +100"
   ]
  },
  {
   "cell_type": "code",
   "execution_count": 56,
   "id": "d46f0ed5",
   "metadata": {},
   "outputs": [
    {
     "data": {
      "text/plain": [
       "-48.483999999999995"
      ]
     },
     "execution_count": 56,
     "metadata": {},
     "output_type": "execute_result"
    }
   ],
   "source": [
    "2.5758*20 -100"
   ]
  },
  {
   "cell_type": "code",
   "execution_count": 3,
   "id": "338ece7b",
   "metadata": {},
   "outputs": [
    {
     "data": {
      "text/plain": [
       "-1.6448536269514729"
      ]
     },
     "execution_count": 3,
     "metadata": {},
     "output_type": "execute_result"
    }
   ],
   "source": [
    "stats.norm.ppf(.05)"
   ]
  },
  {
   "cell_type": "code",
   "execution_count": 4,
   "id": "3e078762",
   "metadata": {},
   "outputs": [
    {
     "data": {
      "text/plain": [
       "3.7750000000000004"
      ]
     },
     "execution_count": 4,
     "metadata": {},
     "output_type": "execute_result"
    }
   ],
   "source": [
    "-1.645*5+12"
   ]
  },
  {
   "cell_type": "code",
   "execution_count": 5,
   "id": "057520ca",
   "metadata": {},
   "outputs": [
    {
     "data": {
      "text/plain": [
       "169.875"
      ]
     },
     "execution_count": 5,
     "metadata": {},
     "output_type": "execute_result"
    }
   ],
   "source": [
    "3.775*45"
   ]
  },
  {
   "cell_type": "code",
   "execution_count": 7,
   "id": "92c2d63c",
   "metadata": {},
   "outputs": [
    {
     "data": {
      "text/plain": [
       "0.952242797563695"
      ]
     },
     "execution_count": 7,
     "metadata": {},
     "output_type": "execute_result"
    }
   ],
   "source": [
    "stats.norm.sf(1.667)"
   ]
  },
  {
   "cell_type": "code",
   "execution_count": 9,
   "id": "b26216e5",
   "metadata": {},
   "outputs": [
    {
     "data": {
      "text/plain": [
       "0.040059156863817086"
      ]
     },
     "execution_count": 9,
     "metadata": {},
     "output_type": "execute_result"
    }
   ],
   "source": [
    "stats.norm.sf(1.75)"
   ]
  },
  {
   "cell_type": "code",
   "execution_count": 3,
   "id": "2b9c3783",
   "metadata": {},
   "outputs": [],
   "source": [
    "s_1 = [-2000, -1000, 0 , 1000, 2000, 3000]\n",
    "s_2 = [0.1, 0.1, 0.2, 0.2, 0.3, 0.1]"
   ]
  },
  {
   "cell_type": "code",
   "execution_count": 4,
   "id": "d6c83443",
   "metadata": {},
   "outputs": [
    {
     "data": {
      "image/png": "[encoded data removed]",
      "text/plain": [
       "<Figure size 1152x360 with 1 Axes>"
      ]
     },
     "metadata": {
      "needs_background": "light"
     },
     "output_type": "display_data"
    }
   ],
   "source": [
    "fig = plt.figure(figsize = (16, 5))\n",
    "plt.bar(s_1, s_2, width = 0.8)\n",
    "plt.xticks(rotation = 90)\n",
    "plt.xlabel(\"Name of Company\", fontsize=20)\n",
    "plt.ylabel(\"Measure X\", fontsize=20)\n",
    "plt.title(\"Stat_2_Q_1\")\n",
    "plt.show()"
   ]
  },
  {
   "cell_type": "code",
   "execution_count": 10,
   "id": "adf347b3",
   "metadata": {},
   "outputs": [],
   "source": [
    "x = [-2000, -1000, 0 , 1000, 2000, 3000]\n",
    "Px = [0.1, 0.1, 0.2, 0.2, 0.3, 0.1]"
   ]
  },
  {
   "cell_type": "code",
   "execution_count": 11,
   "id": "7d3a9114",
   "metadata": {},
   "outputs": [
    {
     "data": {
      "text/plain": [
       "3500000"
      ]
     },
     "execution_count": 11,
     "metadata": {},
     "output_type": "execute_result"
    }
   ],
   "source": [
    "statistics.variance(x)"
   ]
  },
  {
   "cell_type": "code",
   "execution_count": 12,
   "id": "5ce215e9",
   "metadata": {},
   "outputs": [
    {
     "data": {
      "text/plain": [
       "1870.8286933869706"
      ]
     },
     "execution_count": 12,
     "metadata": {},
     "output_type": "execute_result"
    }
   ],
   "source": [
    "statistics.stdev(x)"
   ]
  },
  {
   "cell_type": "code",
   "execution_count": 16,
   "id": "30de869b",
   "metadata": {},
   "outputs": [
    {
     "data": {
      "text/plain": [
       "0.009895942173618739"
      ]
     },
     "execution_count": 16,
     "metadata": {},
     "output_type": "execute_result"
    }
   ],
   "source": [
    "stats.norm.pdf(45, loc=50, scale=40)"
   ]
  },
  {
   "cell_type": "code",
   "execution_count": 17,
   "id": "ce8147fd",
   "metadata": {},
   "outputs": [
    {
     "data": {
      "text/plain": [
       "0.009895942173618739"
      ]
     },
     "execution_count": 17,
     "metadata": {},
     "output_type": "execute_result"
    }
   ],
   "source": [
    "stats.norm.pdf(55, loc=50, scale=40)"
   ]
  },
  {
   "cell_type": "code",
   "execution_count": 18,
   "id": "772dfb03",
   "metadata": {},
   "outputs": [
    {
     "data": {
      "text/plain": [
       "0.04566227134725548"
      ]
     },
     "execution_count": 18,
     "metadata": {},
     "output_type": "execute_result"
    }
   ],
   "source": [
    "stats.norm.pdf(45, loc=50, scale=4)"
   ]
  },
  {
   "cell_type": "code",
   "execution_count": 20,
   "id": "e6a452b9",
   "metadata": {},
   "outputs": [
    {
     "data": {
      "text/plain": [
       "0.04566227134725548"
      ]
     },
     "execution_count": 20,
     "metadata": {},
     "output_type": "execute_result"
    }
   ],
   "source": [
    "stats.norm.pdf(55, loc=50, scale=4)"
   ]
  },
  {
   "cell_type": "code",
   "execution_count": null,
   "id": "53d3c31d",
   "metadata": {},
   "outputs": [],
   "source": [
    "stats.norm.pdf"
   ]
  }
 ],
 "metadata": {
  "kernelspec": {
   "display_name": "Python 3 (ipykernel)",
   "language": "python",
   "name": "python3"
  },
  "language_info": {
   "codemirror_mode": {
    "name": "ipython",
    "version": 3
   },
   "file_extension": ".py",
   "mimetype": "text/x-python",
   "name": "python",
   "nbconvert_exporter": "python",
   "pygments_lexer": "ipython3",
   "version": "3.9.7"
  }
 },
 "nbformat": 4,
 "nbformat_minor": 5
}

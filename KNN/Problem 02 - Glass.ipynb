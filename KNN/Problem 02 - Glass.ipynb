{
 "cells": [
  {
   "cell_type": "markdown",
   "id": "131c4363",
   "metadata": {},
   "source": [
    "### Problem 01 - Glass\n",
    "Prepare a model for glass classification using KNN"
   ]
  },
  {
   "cell_type": "markdown",
   "id": "ba5be184",
   "metadata": {},
   "source": [
    "#### 1. Importing the Libraries"
   ]
  },
  {
   "cell_type": "code",
   "execution_count": 14,
   "id": "31d0d478",
   "metadata": {},
   "outputs": [],
   "source": [
    "import pandas as pd \n",
    "import numpy as np \n",
    "import matplotlib.pyplot as plt\n",
    "import seaborn as sns\n",
    "from sklearn.preprocessing import minmax_scale, StandardScaler , MinMaxScaler\n",
    "from sklearn.model_selection import train_test_split , cross_val_score\n",
    "from sklearn.neighbors import KNeighborsClassifier \n",
    "from sklearn.metrics import accuracy_score, confusion_matrix, precision_score, plot_confusion_matrix\n",
    "import warnings\n",
    "warnings.filterwarnings('ignore')\n",
    "from sklearn.model_selection import KFold,cross_val_score, LeaveOneOut\n"
   ]
  },
  {
   "cell_type": "markdown",
   "id": "0374bffd",
   "metadata": {},
   "source": [
    "####  2. Importing the Data"
   ]
  },
  {
   "cell_type": "code",
   "execution_count": 3,
   "id": "a20152ea",
   "metadata": {},
   "outputs": [
    {
     "data": {
      "text/html": [
       "<div>\n",
       "<style scoped>\n",
       "    .dataframe tbody tr th:only-of-type {\n",
       "        vertical-align: middle;\n",
       "    }\n",
       "\n",
       "    .dataframe tbody tr th {\n",
       "        vertical-align: top;\n",
       "    }\n",
       "\n",
       "    .dataframe thead th {\n",
       "        text-align: right;\n",
       "    }\n",
       "</style>\n",
       "<table border=\"1\" class=\"dataframe\">\n",
       "  <thead>\n",
       "    <tr style=\"text-align: right;\">\n",
       "      <th></th>\n",
       "      <th>RI</th>\n",
       "      <th>Na</th>\n",
       "      <th>Mg</th>\n",
       "      <th>Al</th>\n",
       "      <th>Si</th>\n",
       "      <th>K</th>\n",
       "      <th>Ca</th>\n",
       "      <th>Ba</th>\n",
       "      <th>Fe</th>\n",
       "      <th>Type</th>\n",
       "    </tr>\n",
       "  </thead>\n",
       "  <tbody>\n",
       "    <tr>\n",
       "      <th>0</th>\n",
       "      <td>1.52101</td>\n",
       "      <td>13.64</td>\n",
       "      <td>4.49</td>\n",
       "      <td>1.10</td>\n",
       "      <td>71.78</td>\n",
       "      <td>0.06</td>\n",
       "      <td>8.75</td>\n",
       "      <td>0.00</td>\n",
       "      <td>0.0</td>\n",
       "      <td>1</td>\n",
       "    </tr>\n",
       "    <tr>\n",
       "      <th>1</th>\n",
       "      <td>1.51761</td>\n",
       "      <td>13.89</td>\n",
       "      <td>3.60</td>\n",
       "      <td>1.36</td>\n",
       "      <td>72.73</td>\n",
       "      <td>0.48</td>\n",
       "      <td>7.83</td>\n",
       "      <td>0.00</td>\n",
       "      <td>0.0</td>\n",
       "      <td>1</td>\n",
       "    </tr>\n",
       "    <tr>\n",
       "      <th>2</th>\n",
       "      <td>1.51618</td>\n",
       "      <td>13.53</td>\n",
       "      <td>3.55</td>\n",
       "      <td>1.54</td>\n",
       "      <td>72.99</td>\n",
       "      <td>0.39</td>\n",
       "      <td>7.78</td>\n",
       "      <td>0.00</td>\n",
       "      <td>0.0</td>\n",
       "      <td>1</td>\n",
       "    </tr>\n",
       "    <tr>\n",
       "      <th>3</th>\n",
       "      <td>1.51766</td>\n",
       "      <td>13.21</td>\n",
       "      <td>3.69</td>\n",
       "      <td>1.29</td>\n",
       "      <td>72.61</td>\n",
       "      <td>0.57</td>\n",
       "      <td>8.22</td>\n",
       "      <td>0.00</td>\n",
       "      <td>0.0</td>\n",
       "      <td>1</td>\n",
       "    </tr>\n",
       "    <tr>\n",
       "      <th>4</th>\n",
       "      <td>1.51742</td>\n",
       "      <td>13.27</td>\n",
       "      <td>3.62</td>\n",
       "      <td>1.24</td>\n",
       "      <td>73.08</td>\n",
       "      <td>0.55</td>\n",
       "      <td>8.07</td>\n",
       "      <td>0.00</td>\n",
       "      <td>0.0</td>\n",
       "      <td>1</td>\n",
       "    </tr>\n",
       "    <tr>\n",
       "      <th>...</th>\n",
       "      <td>...</td>\n",
       "      <td>...</td>\n",
       "      <td>...</td>\n",
       "      <td>...</td>\n",
       "      <td>...</td>\n",
       "      <td>...</td>\n",
       "      <td>...</td>\n",
       "      <td>...</td>\n",
       "      <td>...</td>\n",
       "      <td>...</td>\n",
       "    </tr>\n",
       "    <tr>\n",
       "      <th>209</th>\n",
       "      <td>1.51623</td>\n",
       "      <td>14.14</td>\n",
       "      <td>0.00</td>\n",
       "      <td>2.88</td>\n",
       "      <td>72.61</td>\n",
       "      <td>0.08</td>\n",
       "      <td>9.18</td>\n",
       "      <td>1.06</td>\n",
       "      <td>0.0</td>\n",
       "      <td>7</td>\n",
       "    </tr>\n",
       "    <tr>\n",
       "      <th>210</th>\n",
       "      <td>1.51685</td>\n",
       "      <td>14.92</td>\n",
       "      <td>0.00</td>\n",
       "      <td>1.99</td>\n",
       "      <td>73.06</td>\n",
       "      <td>0.00</td>\n",
       "      <td>8.40</td>\n",
       "      <td>1.59</td>\n",
       "      <td>0.0</td>\n",
       "      <td>7</td>\n",
       "    </tr>\n",
       "    <tr>\n",
       "      <th>211</th>\n",
       "      <td>1.52065</td>\n",
       "      <td>14.36</td>\n",
       "      <td>0.00</td>\n",
       "      <td>2.02</td>\n",
       "      <td>73.42</td>\n",
       "      <td>0.00</td>\n",
       "      <td>8.44</td>\n",
       "      <td>1.64</td>\n",
       "      <td>0.0</td>\n",
       "      <td>7</td>\n",
       "    </tr>\n",
       "    <tr>\n",
       "      <th>212</th>\n",
       "      <td>1.51651</td>\n",
       "      <td>14.38</td>\n",
       "      <td>0.00</td>\n",
       "      <td>1.94</td>\n",
       "      <td>73.61</td>\n",
       "      <td>0.00</td>\n",
       "      <td>8.48</td>\n",
       "      <td>1.57</td>\n",
       "      <td>0.0</td>\n",
       "      <td>7</td>\n",
       "    </tr>\n",
       "    <tr>\n",
       "      <th>213</th>\n",
       "      <td>1.51711</td>\n",
       "      <td>14.23</td>\n",
       "      <td>0.00</td>\n",
       "      <td>2.08</td>\n",
       "      <td>73.36</td>\n",
       "      <td>0.00</td>\n",
       "      <td>8.62</td>\n",
       "      <td>1.67</td>\n",
       "      <td>0.0</td>\n",
       "      <td>7</td>\n",
       "    </tr>\n",
       "  </tbody>\n",
       "</table>\n",
       "<p>214 rows × 10 columns</p>\n",
       "</div>"
      ],
      "text/plain": [
       "          RI     Na    Mg    Al     Si     K    Ca    Ba   Fe  Type\n",
       "0    1.52101  13.64  4.49  1.10  71.78  0.06  8.75  0.00  0.0     1\n",
       "1    1.51761  13.89  3.60  1.36  72.73  0.48  7.83  0.00  0.0     1\n",
       "2    1.51618  13.53  3.55  1.54  72.99  0.39  7.78  0.00  0.0     1\n",
       "3    1.51766  13.21  3.69  1.29  72.61  0.57  8.22  0.00  0.0     1\n",
       "4    1.51742  13.27  3.62  1.24  73.08  0.55  8.07  0.00  0.0     1\n",
       "..       ...    ...   ...   ...    ...   ...   ...   ...  ...   ...\n",
       "209  1.51623  14.14  0.00  2.88  72.61  0.08  9.18  1.06  0.0     7\n",
       "210  1.51685  14.92  0.00  1.99  73.06  0.00  8.40  1.59  0.0     7\n",
       "211  1.52065  14.36  0.00  2.02  73.42  0.00  8.44  1.64  0.0     7\n",
       "212  1.51651  14.38  0.00  1.94  73.61  0.00  8.48  1.57  0.0     7\n",
       "213  1.51711  14.23  0.00  2.08  73.36  0.00  8.62  1.67  0.0     7\n",
       "\n",
       "[214 rows x 10 columns]"
      ]
     },
     "execution_count": 3,
     "metadata": {},
     "output_type": "execute_result"
    }
   ],
   "source": [
    "data_1 = pd.read_csv('glass.csv')\n",
    "data_1"
   ]
  },
  {
   "cell_type": "markdown",
   "id": "69fc9feb",
   "metadata": {},
   "source": [
    "####  3. Data Understanding"
   ]
  },
  {
   "cell_type": "code",
   "execution_count": 4,
   "id": "4c0b988c",
   "metadata": {},
   "outputs": [
    {
     "data": {
      "text/plain": [
       "RI      float64\n",
       "Na      float64\n",
       "Mg      float64\n",
       "Al      float64\n",
       "Si      float64\n",
       "K       float64\n",
       "Ca      float64\n",
       "Ba      float64\n",
       "Fe      float64\n",
       "Type      int64\n",
       "dtype: object"
      ]
     },
     "execution_count": 4,
     "metadata": {},
     "output_type": "execute_result"
    }
   ],
   "source": [
    "data_1.dtypes"
   ]
  },
  {
   "cell_type": "code",
   "execution_count": 5,
   "id": "79eaeee1",
   "metadata": {},
   "outputs": [
    {
     "data": {
      "text/plain": [
       "RI      0\n",
       "Na      0\n",
       "Mg      0\n",
       "Al      0\n",
       "Si      0\n",
       "K       0\n",
       "Ca      0\n",
       "Ba      0\n",
       "Fe      0\n",
       "Type    0\n",
       "dtype: int64"
      ]
     },
     "execution_count": 5,
     "metadata": {},
     "output_type": "execute_result"
    }
   ],
   "source": [
    "data_1.isnull().sum()"
   ]
  },
  {
   "cell_type": "code",
   "execution_count": 6,
   "id": "375e46df",
   "metadata": {},
   "outputs": [
    {
     "data": {
      "text/plain": [
       "(214, 10)"
      ]
     },
     "execution_count": 6,
     "metadata": {},
     "output_type": "execute_result"
    }
   ],
   "source": [
    "data_1.shape"
   ]
  },
  {
   "cell_type": "code",
   "execution_count": 7,
   "id": "a767636c",
   "metadata": {},
   "outputs": [
    {
     "data": {
      "text/html": [
       "<div>\n",
       "<style scoped>\n",
       "    .dataframe tbody tr th:only-of-type {\n",
       "        vertical-align: middle;\n",
       "    }\n",
       "\n",
       "    .dataframe tbody tr th {\n",
       "        vertical-align: top;\n",
       "    }\n",
       "\n",
       "    .dataframe thead th {\n",
       "        text-align: right;\n",
       "    }\n",
       "</style>\n",
       "<table border=\"1\" class=\"dataframe\">\n",
       "  <thead>\n",
       "    <tr style=\"text-align: right;\">\n",
       "      <th></th>\n",
       "      <th>RI</th>\n",
       "      <th>Na</th>\n",
       "      <th>Mg</th>\n",
       "      <th>Al</th>\n",
       "      <th>Si</th>\n",
       "      <th>K</th>\n",
       "      <th>Ca</th>\n",
       "      <th>Ba</th>\n",
       "      <th>Fe</th>\n",
       "      <th>Type</th>\n",
       "    </tr>\n",
       "  </thead>\n",
       "  <tbody>\n",
       "    <tr>\n",
       "      <th>count</th>\n",
       "      <td>214.000000</td>\n",
       "      <td>214.000000</td>\n",
       "      <td>214.000000</td>\n",
       "      <td>214.000000</td>\n",
       "      <td>214.000000</td>\n",
       "      <td>214.000000</td>\n",
       "      <td>214.000000</td>\n",
       "      <td>214.000000</td>\n",
       "      <td>214.000000</td>\n",
       "      <td>214.000000</td>\n",
       "    </tr>\n",
       "    <tr>\n",
       "      <th>mean</th>\n",
       "      <td>1.518365</td>\n",
       "      <td>13.407850</td>\n",
       "      <td>2.684533</td>\n",
       "      <td>1.444907</td>\n",
       "      <td>72.650935</td>\n",
       "      <td>0.497056</td>\n",
       "      <td>8.956963</td>\n",
       "      <td>0.175047</td>\n",
       "      <td>0.057009</td>\n",
       "      <td>2.780374</td>\n",
       "    </tr>\n",
       "    <tr>\n",
       "      <th>std</th>\n",
       "      <td>0.003037</td>\n",
       "      <td>0.816604</td>\n",
       "      <td>1.442408</td>\n",
       "      <td>0.499270</td>\n",
       "      <td>0.774546</td>\n",
       "      <td>0.652192</td>\n",
       "      <td>1.423153</td>\n",
       "      <td>0.497219</td>\n",
       "      <td>0.097439</td>\n",
       "      <td>2.103739</td>\n",
       "    </tr>\n",
       "    <tr>\n",
       "      <th>min</th>\n",
       "      <td>1.511150</td>\n",
       "      <td>10.730000</td>\n",
       "      <td>0.000000</td>\n",
       "      <td>0.290000</td>\n",
       "      <td>69.810000</td>\n",
       "      <td>0.000000</td>\n",
       "      <td>5.430000</td>\n",
       "      <td>0.000000</td>\n",
       "      <td>0.000000</td>\n",
       "      <td>1.000000</td>\n",
       "    </tr>\n",
       "    <tr>\n",
       "      <th>25%</th>\n",
       "      <td>1.516522</td>\n",
       "      <td>12.907500</td>\n",
       "      <td>2.115000</td>\n",
       "      <td>1.190000</td>\n",
       "      <td>72.280000</td>\n",
       "      <td>0.122500</td>\n",
       "      <td>8.240000</td>\n",
       "      <td>0.000000</td>\n",
       "      <td>0.000000</td>\n",
       "      <td>1.000000</td>\n",
       "    </tr>\n",
       "    <tr>\n",
       "      <th>50%</th>\n",
       "      <td>1.517680</td>\n",
       "      <td>13.300000</td>\n",
       "      <td>3.480000</td>\n",
       "      <td>1.360000</td>\n",
       "      <td>72.790000</td>\n",
       "      <td>0.555000</td>\n",
       "      <td>8.600000</td>\n",
       "      <td>0.000000</td>\n",
       "      <td>0.000000</td>\n",
       "      <td>2.000000</td>\n",
       "    </tr>\n",
       "    <tr>\n",
       "      <th>75%</th>\n",
       "      <td>1.519157</td>\n",
       "      <td>13.825000</td>\n",
       "      <td>3.600000</td>\n",
       "      <td>1.630000</td>\n",
       "      <td>73.087500</td>\n",
       "      <td>0.610000</td>\n",
       "      <td>9.172500</td>\n",
       "      <td>0.000000</td>\n",
       "      <td>0.100000</td>\n",
       "      <td>3.000000</td>\n",
       "    </tr>\n",
       "    <tr>\n",
       "      <th>max</th>\n",
       "      <td>1.533930</td>\n",
       "      <td>17.380000</td>\n",
       "      <td>4.490000</td>\n",
       "      <td>3.500000</td>\n",
       "      <td>75.410000</td>\n",
       "      <td>6.210000</td>\n",
       "      <td>16.190000</td>\n",
       "      <td>3.150000</td>\n",
       "      <td>0.510000</td>\n",
       "      <td>7.000000</td>\n",
       "    </tr>\n",
       "  </tbody>\n",
       "</table>\n",
       "</div>"
      ],
      "text/plain": [
       "               RI          Na          Mg          Al          Si           K  \\\n",
       "count  214.000000  214.000000  214.000000  214.000000  214.000000  214.000000   \n",
       "mean     1.518365   13.407850    2.684533    1.444907   72.650935    0.497056   \n",
       "std      0.003037    0.816604    1.442408    0.499270    0.774546    0.652192   \n",
       "min      1.511150   10.730000    0.000000    0.290000   69.810000    0.000000   \n",
       "25%      1.516522   12.907500    2.115000    1.190000   72.280000    0.122500   \n",
       "50%      1.517680   13.300000    3.480000    1.360000   72.790000    0.555000   \n",
       "75%      1.519157   13.825000    3.600000    1.630000   73.087500    0.610000   \n",
       "max      1.533930   17.380000    4.490000    3.500000   75.410000    6.210000   \n",
       "\n",
       "               Ca          Ba          Fe        Type  \n",
       "count  214.000000  214.000000  214.000000  214.000000  \n",
       "mean     8.956963    0.175047    0.057009    2.780374  \n",
       "std      1.423153    0.497219    0.097439    2.103739  \n",
       "min      5.430000    0.000000    0.000000    1.000000  \n",
       "25%      8.240000    0.000000    0.000000    1.000000  \n",
       "50%      8.600000    0.000000    0.000000    2.000000  \n",
       "75%      9.172500    0.000000    0.100000    3.000000  \n",
       "max     16.190000    3.150000    0.510000    7.000000  "
      ]
     },
     "execution_count": 7,
     "metadata": {},
     "output_type": "execute_result"
    }
   ],
   "source": [
    "data_1.describe()"
   ]
  },
  {
   "cell_type": "code",
   "execution_count": 8,
   "id": "a52b8ade",
   "metadata": {},
   "outputs": [
    {
     "data": {
      "text/plain": [
       "2    76\n",
       "1    70\n",
       "7    29\n",
       "3    17\n",
       "5    13\n",
       "6     9\n",
       "Name: Type, dtype: int64"
      ]
     },
     "execution_count": 8,
     "metadata": {},
     "output_type": "execute_result"
    }
   ],
   "source": [
    "data_1['Type'].value_counts()"
   ]
  },
  {
   "cell_type": "code",
   "execution_count": 9,
   "id": "fac2185f",
   "metadata": {},
   "outputs": [],
   "source": [
    "# from above there total 7 class for different glasses and class 1 and 2 have highest frequency in given observations.\n",
    "## description for classes are given.\n",
    "###"
   ]
  },
  {
   "cell_type": "code",
   "execution_count": 10,
   "id": "5db16c58",
   "metadata": {},
   "outputs": [],
   "source": [
    "corr_1 = data_1.corr()"
   ]
  },
  {
   "cell_type": "code",
   "execution_count": 11,
   "id": "e5b37a4a",
   "metadata": {},
   "outputs": [
    {
     "data": {
      "text/plain": [
       "<AxesSubplot:>"
      ]
     },
     "execution_count": 11,
     "metadata": {},
     "output_type": "execute_result"
    },
    {
     "data": {
      "image/png": "[encoded data removed]",
      "text/plain": [
       "<Figure size 1080x576 with 2 Axes>"
      ]
     },
     "metadata": {},
     "output_type": "display_data"
    }
   ],
   "source": [
    "sns.set(rc = {'figure.figsize':(15,8)})\n",
    "sns.heatmap(corr_1, annot = True )"
   ]
  },
  {
   "cell_type": "markdown",
   "id": "55b78eb2",
   "metadata": {},
   "source": [
    "#### 4. Data Preparation"
   ]
  },
  {
   "cell_type": "code",
   "execution_count": 19,
   "id": "00366217",
   "metadata": {},
   "outputs": [],
   "source": [
    "X_unscaled = data_1.drop(labels = ['Type'], axis = 1)\n",
    "y = data_1[['Type']]"
   ]
  },
  {
   "cell_type": "code",
   "execution_count": 20,
   "id": "5deff0a7",
   "metadata": {},
   "outputs": [],
   "source": [
    "mm_scale = MinMaxScaler()"
   ]
  },
  {
   "cell_type": "code",
   "execution_count": 22,
   "id": "6b921c5c",
   "metadata": {},
   "outputs": [],
   "source": [
    "mm_scale = mm_scale.fit_transform(X_unscaled)"
   ]
  },
  {
   "cell_type": "code",
   "execution_count": 25,
   "id": "e6ee8e05",
   "metadata": {},
   "outputs": [
    {
     "data": {
      "text/html": [
       "<div>\n",
       "<style scoped>\n",
       "    .dataframe tbody tr th:only-of-type {\n",
       "        vertical-align: middle;\n",
       "    }\n",
       "\n",
       "    .dataframe tbody tr th {\n",
       "        vertical-align: top;\n",
       "    }\n",
       "\n",
       "    .dataframe thead th {\n",
       "        text-align: right;\n",
       "    }\n",
       "</style>\n",
       "<table border=\"1\" class=\"dataframe\">\n",
       "  <thead>\n",
       "    <tr style=\"text-align: right;\">\n",
       "      <th></th>\n",
       "      <th>RI</th>\n",
       "      <th>Na</th>\n",
       "      <th>Mg</th>\n",
       "      <th>Al</th>\n",
       "      <th>Si</th>\n",
       "      <th>K</th>\n",
       "      <th>Ca</th>\n",
       "      <th>Ba</th>\n",
       "      <th>Fe</th>\n",
       "    </tr>\n",
       "  </thead>\n",
       "  <tbody>\n",
       "    <tr>\n",
       "      <th>0</th>\n",
       "      <td>0.432836</td>\n",
       "      <td>0.437594</td>\n",
       "      <td>1.000000</td>\n",
       "      <td>0.252336</td>\n",
       "      <td>0.351786</td>\n",
       "      <td>0.009662</td>\n",
       "      <td>0.308550</td>\n",
       "      <td>0.000000</td>\n",
       "      <td>0.0</td>\n",
       "    </tr>\n",
       "    <tr>\n",
       "      <th>1</th>\n",
       "      <td>0.283582</td>\n",
       "      <td>0.475188</td>\n",
       "      <td>0.801782</td>\n",
       "      <td>0.333333</td>\n",
       "      <td>0.521429</td>\n",
       "      <td>0.077295</td>\n",
       "      <td>0.223048</td>\n",
       "      <td>0.000000</td>\n",
       "      <td>0.0</td>\n",
       "    </tr>\n",
       "    <tr>\n",
       "      <th>2</th>\n",
       "      <td>0.220808</td>\n",
       "      <td>0.421053</td>\n",
       "      <td>0.790646</td>\n",
       "      <td>0.389408</td>\n",
       "      <td>0.567857</td>\n",
       "      <td>0.062802</td>\n",
       "      <td>0.218401</td>\n",
       "      <td>0.000000</td>\n",
       "      <td>0.0</td>\n",
       "    </tr>\n",
       "    <tr>\n",
       "      <th>3</th>\n",
       "      <td>0.285777</td>\n",
       "      <td>0.372932</td>\n",
       "      <td>0.821826</td>\n",
       "      <td>0.311526</td>\n",
       "      <td>0.500000</td>\n",
       "      <td>0.091787</td>\n",
       "      <td>0.259294</td>\n",
       "      <td>0.000000</td>\n",
       "      <td>0.0</td>\n",
       "    </tr>\n",
       "    <tr>\n",
       "      <th>4</th>\n",
       "      <td>0.275241</td>\n",
       "      <td>0.381955</td>\n",
       "      <td>0.806236</td>\n",
       "      <td>0.295950</td>\n",
       "      <td>0.583929</td>\n",
       "      <td>0.088567</td>\n",
       "      <td>0.245353</td>\n",
       "      <td>0.000000</td>\n",
       "      <td>0.0</td>\n",
       "    </tr>\n",
       "    <tr>\n",
       "      <th>...</th>\n",
       "      <td>...</td>\n",
       "      <td>...</td>\n",
       "      <td>...</td>\n",
       "      <td>...</td>\n",
       "      <td>...</td>\n",
       "      <td>...</td>\n",
       "      <td>...</td>\n",
       "      <td>...</td>\n",
       "      <td>...</td>\n",
       "    </tr>\n",
       "    <tr>\n",
       "      <th>209</th>\n",
       "      <td>0.223003</td>\n",
       "      <td>0.512782</td>\n",
       "      <td>0.000000</td>\n",
       "      <td>0.806854</td>\n",
       "      <td>0.500000</td>\n",
       "      <td>0.012882</td>\n",
       "      <td>0.348513</td>\n",
       "      <td>0.336508</td>\n",
       "      <td>0.0</td>\n",
       "    </tr>\n",
       "    <tr>\n",
       "      <th>210</th>\n",
       "      <td>0.250219</td>\n",
       "      <td>0.630075</td>\n",
       "      <td>0.000000</td>\n",
       "      <td>0.529595</td>\n",
       "      <td>0.580357</td>\n",
       "      <td>0.000000</td>\n",
       "      <td>0.276022</td>\n",
       "      <td>0.504762</td>\n",
       "      <td>0.0</td>\n",
       "    </tr>\n",
       "    <tr>\n",
       "      <th>211</th>\n",
       "      <td>0.417032</td>\n",
       "      <td>0.545865</td>\n",
       "      <td>0.000000</td>\n",
       "      <td>0.538941</td>\n",
       "      <td>0.644643</td>\n",
       "      <td>0.000000</td>\n",
       "      <td>0.279740</td>\n",
       "      <td>0.520635</td>\n",
       "      <td>0.0</td>\n",
       "    </tr>\n",
       "    <tr>\n",
       "      <th>212</th>\n",
       "      <td>0.235294</td>\n",
       "      <td>0.548872</td>\n",
       "      <td>0.000000</td>\n",
       "      <td>0.514019</td>\n",
       "      <td>0.678571</td>\n",
       "      <td>0.000000</td>\n",
       "      <td>0.283457</td>\n",
       "      <td>0.498413</td>\n",
       "      <td>0.0</td>\n",
       "    </tr>\n",
       "    <tr>\n",
       "      <th>213</th>\n",
       "      <td>0.261633</td>\n",
       "      <td>0.526316</td>\n",
       "      <td>0.000000</td>\n",
       "      <td>0.557632</td>\n",
       "      <td>0.633929</td>\n",
       "      <td>0.000000</td>\n",
       "      <td>0.296468</td>\n",
       "      <td>0.530159</td>\n",
       "      <td>0.0</td>\n",
       "    </tr>\n",
       "  </tbody>\n",
       "</table>\n",
       "<p>214 rows × 9 columns</p>\n",
       "</div>"
      ],
      "text/plain": [
       "           RI        Na        Mg        Al        Si         K        Ca  \\\n",
       "0    0.432836  0.437594  1.000000  0.252336  0.351786  0.009662  0.308550   \n",
       "1    0.283582  0.475188  0.801782  0.333333  0.521429  0.077295  0.223048   \n",
       "2    0.220808  0.421053  0.790646  0.389408  0.567857  0.062802  0.218401   \n",
       "3    0.285777  0.372932  0.821826  0.311526  0.500000  0.091787  0.259294   \n",
       "4    0.275241  0.381955  0.806236  0.295950  0.583929  0.088567  0.245353   \n",
       "..        ...       ...       ...       ...       ...       ...       ...   \n",
       "209  0.223003  0.512782  0.000000  0.806854  0.500000  0.012882  0.348513   \n",
       "210  0.250219  0.630075  0.000000  0.529595  0.580357  0.000000  0.276022   \n",
       "211  0.417032  0.545865  0.000000  0.538941  0.644643  0.000000  0.279740   \n",
       "212  0.235294  0.548872  0.000000  0.514019  0.678571  0.000000  0.283457   \n",
       "213  0.261633  0.526316  0.000000  0.557632  0.633929  0.000000  0.296468   \n",
       "\n",
       "           Ba   Fe  \n",
       "0    0.000000  0.0  \n",
       "1    0.000000  0.0  \n",
       "2    0.000000  0.0  \n",
       "3    0.000000  0.0  \n",
       "4    0.000000  0.0  \n",
       "..        ...  ...  \n",
       "209  0.336508  0.0  \n",
       "210  0.504762  0.0  \n",
       "211  0.520635  0.0  \n",
       "212  0.498413  0.0  \n",
       "213  0.530159  0.0  \n",
       "\n",
       "[214 rows x 9 columns]"
      ]
     },
     "execution_count": 25,
     "metadata": {},
     "output_type": "execute_result"
    }
   ],
   "source": [
    "X= pd.DataFrame(data = mm_scale,columns=X_unscaled.columns)\n",
    "X"
   ]
  },
  {
   "cell_type": "code",
   "execution_count": null,
   "id": "99ebdd08",
   "metadata": {},
   "outputs": [],
   "source": []
  },
  {
   "cell_type": "code",
   "execution_count": 26,
   "id": "010ea685",
   "metadata": {},
   "outputs": [
    {
     "data": {
      "text/plain": [
       "(         RI        Na        Mg        Al        Si         K        Ca   Ba  \\\n",
       " 0  0.432836  0.437594  1.000000  0.252336  0.351786  0.009662  0.308550  0.0   \n",
       " 1  0.283582  0.475188  0.801782  0.333333  0.521429  0.077295  0.223048  0.0   \n",
       " 2  0.220808  0.421053  0.790646  0.389408  0.567857  0.062802  0.218401  0.0   \n",
       " 3  0.285777  0.372932  0.821826  0.311526  0.500000  0.091787  0.259294  0.0   \n",
       " 4  0.275241  0.381955  0.806236  0.295950  0.583929  0.088567  0.245353  0.0   \n",
       " \n",
       "     Fe  \n",
       " 0  0.0  \n",
       " 1  0.0  \n",
       " 2  0.0  \n",
       " 3  0.0  \n",
       " 4  0.0  ,\n",
       "    Type\n",
       " 0     1\n",
       " 1     1\n",
       " 2     1\n",
       " 3     1\n",
       " 4     1)"
      ]
     },
     "execution_count": 26,
     "metadata": {},
     "output_type": "execute_result"
    }
   ],
   "source": [
    "X.head(),y.head()"
   ]
  },
  {
   "cell_type": "code",
   "execution_count": 27,
   "id": "2feda201",
   "metadata": {},
   "outputs": [
    {
     "data": {
      "text/plain": [
       "((214, 9), (214, 1))"
      ]
     },
     "execution_count": 27,
     "metadata": {},
     "output_type": "execute_result"
    }
   ],
   "source": [
    "X.shape , y.shape"
   ]
  },
  {
   "cell_type": "code",
   "execution_count": 28,
   "id": "4be762db",
   "metadata": {},
   "outputs": [],
   "source": [
    "X_train, X_test, y_train, y_test = train_test_split(X, y, test_size=0.2, random_state=1, stratify=y, shuffle=True)"
   ]
  },
  {
   "cell_type": "code",
   "execution_count": 29,
   "id": "8d9b6ac3",
   "metadata": {},
   "outputs": [
    {
     "data": {
      "text/plain": [
       "((171, 9), (43, 9), (171, 1), (43, 1))"
      ]
     },
     "execution_count": 29,
     "metadata": {},
     "output_type": "execute_result"
    }
   ],
   "source": [
    "X_train.shape, X_test.shape , y_train.shape , y_test.shape"
   ]
  },
  {
   "cell_type": "markdown",
   "id": "b52a5aa5",
   "metadata": {},
   "source": [
    "#### 5. Model Building | 6.Model Training | 7. Model Testing"
   ]
  },
  {
   "cell_type": "code",
   "execution_count": 30,
   "id": "5d0ca07a",
   "metadata": {},
   "outputs": [
    {
     "name": "stdout",
     "output_type": "stream",
     "text": [
      "Training Accuracy Comparison fro different values of K\n",
      "Accuracy Score for K= 3 :  0.7953\n",
      "Accuracy Score for K= 5 :  0.7778\n",
      "Accuracy Score for K= 7 :  0.7076\n",
      "Accuracy Score for K= 9 :  0.6608\n",
      "Accuracy Score for K= 11 :  0.6901\n",
      "Accuracy Score for K= 13 :  0.6608\n",
      "Accuracy Score for K= 15 :  0.6316\n",
      "Accuracy Score for K= 17 :  0.6433\n",
      "Accuracy Score for K= 19 :  0.6667\n",
      "Accuracy Score for K= 21 :  0.6491\n",
      "0.7953\n"
     ]
    }
   ],
   "source": [
    "print('Training Accuracy Comparison fro different values of K')\n",
    "acc_score = []\n",
    "i_for_graph = []\n",
    "for i in range(2,22):\n",
    "    if i%2 == 1:\n",
    "        knn_classifier_i = KNeighborsClassifier(n_neighbors=i)\n",
    "        knn_classifier_i.fit(X_train,y_train)\n",
    "        y_pred_i = knn_classifier_i.predict(X_train)\n",
    "        acc_score_i = round(accuracy_score(y_train,y_pred_i),4)\n",
    "        acc_score.append(acc_score_i)\n",
    "        print('Accuracy Score for K=',i,': ', acc_score_i)\n",
    "        i_for_graph.append(i)\n",
    "        i=i+1 \n",
    "    else :\n",
    "        i=i+1 \n",
    "print(np.max(acc_score))"
   ]
  },
  {
   "cell_type": "code",
   "execution_count": 31,
   "id": "73a27598",
   "metadata": {},
   "outputs": [
    {
     "name": "stdout",
     "output_type": "stream",
     "text": [
      "Testing Accuracy Comparison for different values of K\n",
      "Accuracy Score for K= 3 :  0.6977\n",
      "Accuracy Score for K= 5 :  0.6512\n",
      "Accuracy Score for K= 7 :  0.6279\n",
      "Accuracy Score for K= 9 :  0.6744\n",
      "Accuracy Score for K= 11 :  0.6512\n",
      "Accuracy Score for K= 13 :  0.6279\n",
      "Accuracy Score for K= 15 :  0.6279\n",
      "Accuracy Score for K= 17 :  0.6744\n",
      "Accuracy Score for K= 19 :  0.6279\n",
      "Accuracy Score for K= 21 :  0.6512\n",
      "0.6977\n"
     ]
    }
   ],
   "source": [
    "print('Testing Accuracy Comparison for different values of K')\n",
    "acc_score_test = []\n",
    "for i in range(2,22):\n",
    "    if i%2 == 1:\n",
    "        knn_classifier_i = KNeighborsClassifier(n_neighbors=i)\n",
    "        knn_classifier_i.fit(X_train,y_train)\n",
    "        y_pred_test_i = knn_classifier_i.predict(X_test)\n",
    "        acc_score_test_i = round(accuracy_score(y_test,y_pred_test_i),4)\n",
    "        acc_score_test.append(acc_score_test_i)\n",
    "        print('Accuracy Score for K=',i,': ', acc_score_test_i)\n",
    "        i=i+1 \n",
    "    else :\n",
    "        i=i+1 \n",
    "print(np.max(acc_score_test))"
   ]
  },
  {
   "cell_type": "code",
   "execution_count": 32,
   "id": "78f93eb3",
   "metadata": {},
   "outputs": [
    {
     "data": {
      "image/png": "[encoded data removed]",
      "text/plain": [
       "<Figure size 1080x576 with 1 Axes>"
      ]
     },
     "metadata": {},
     "output_type": "display_data"
    }
   ],
   "source": [
    "plt.plot(i_for_graph,acc_score, label = 'TRAIN')\n",
    "plt.plot(i_for_graph,acc_score_test, color = 'red', label = 'TEST')\n",
    "plt.legend()\n",
    "plt.xlim(0,22)\n",
    "plt.xticks(range(1,23,2)) \n",
    "plt.ylim(0.4, 0.9)\n",
    "plt.xlabel('Neighbours')\n",
    "plt.ylabel('CV Scores')\n",
    "plt.title('Neighbors Vs CV Scores')\n",
    "plt.show()"
   ]
  },
  {
   "cell_type": "code",
   "execution_count": 34,
   "id": "6a1d0dcf",
   "metadata": {},
   "outputs": [],
   "source": [
    "# from above we can conclude training and testing accuracy is higher fro K value  =3 it is 79.53 % and 69.77%  respectively\n",
    "## so the K = 3 is selected for model."
   ]
  },
  {
   "cell_type": "markdown",
   "id": "119fe40b",
   "metadata": {},
   "source": [
    "#### 8. Output Evaluation"
   ]
  },
  {
   "cell_type": "code",
   "execution_count": 35,
   "id": "0e17a9db",
   "metadata": {},
   "outputs": [],
   "source": [
    "knn_classifier_3 = KNeighborsClassifier(n_neighbors=3)\n",
    "knn_classifier_3.fit(X_train,y_train)\n",
    "y_pred_3 = knn_classifier_3.predict(X_train)\n",
    "y_pred_test_3 = knn_classifier_3.predict(X_test)"
   ]
  },
  {
   "cell_type": "code",
   "execution_count": 36,
   "id": "9b30e0f5",
   "metadata": {},
   "outputs": [
    {
     "name": "stdout",
     "output_type": "stream",
     "text": [
      "Accuracy Score for Train data:\n",
      " 0.7953\n",
      "Confusion Matrix for Train data :\n",
      " [[48  7  1  0  0  0]\n",
      " [ 8 50  1  2  0  0]\n",
      " [ 6  3  5  0  0  0]\n",
      " [ 0  1  0  8  0  1]\n",
      " [ 0  0  0  1  6  0]\n",
      " [ 1  1  0  0  2 19]]\n",
      "Accuracy Score for Test data:\n",
      " 0.6977\n",
      "Confusion Matrix for Test data :\n",
      " [[11  3  0  0  0  0]\n",
      " [ 3 10  1  1  0  0]\n",
      " [ 2  1  0  0  0  0]\n",
      " [ 0  1  0  2  0  0]\n",
      " [ 0  1  0  0  1  0]\n",
      " [ 0  0  0  0  0  6]]\n"
     ]
    }
   ],
   "source": [
    "print('Accuracy Score for Train data:\\n', round(accuracy_score(y_train,y_pred_3),4))\n",
    "print('Confusion Matrix for Train data :\\n' ,confusion_matrix(y_train, y_pred_3))\n",
    "print('Accuracy Score for Test data:\\n', round(accuracy_score(y_test,y_pred_test_3),4))\n",
    "print('Confusion Matrix for Test data :\\n',confusion_matrix(y_test, y_pred_test_3))"
   ]
  },
  {
   "cell_type": "code",
   "execution_count": 41,
   "id": "5eb23d7d",
   "metadata": {},
   "outputs": [
    {
     "data": {
      "text/plain": [
       "(<sklearn.metrics._plot.confusion_matrix.ConfusionMatrixDisplay at 0x132f9594b50>,\n",
       " <sklearn.metrics._plot.confusion_matrix.ConfusionMatrixDisplay at 0x132f9297f10>)"
      ]
     },
     "execution_count": 41,
     "metadata": {},
     "output_type": "execute_result"
    },
    {
     "data": {
      "image/png": "[encoded data removed]",
      "text/plain": [
       "<Figure size 360x360 with 2 Axes>"
      ]
     },
     "metadata": {},
     "output_type": "display_data"
    },
    {
     "data": {
      "image/png": "[encoded data removed]",
      "text/plain": [
       "<Figure size 360x360 with 2 Axes>"
      ]
     },
     "metadata": {},
     "output_type": "display_data"
    }
   ],
   "source": [
    "fig, ax = plt.subplots(figsize=(5, 5))\n",
    "fig, bx  = plt.subplots(figsize=(5, 5))\n",
    "plot_confusion_matrix(knn_classifier_3, X_train, y_train, ax= ax), plot_confusion_matrix(knn_classifier_3, X_test, y_test, ax= bx)"
   ]
  },
  {
   "cell_type": "code",
   "execution_count": 38,
   "id": "942bc17d",
   "metadata": {},
   "outputs": [
    {
     "name": "stdout",
     "output_type": "stream",
     "text": [
      "CV Scores     :  [0.72093023 0.72093023 0.6744186  0.72093023 0.5952381 ]\n",
      "Mean Accuracy :  0.6864894795127353\n",
      "Std Deviation :  0.04905306833005521\n",
      "Wall time: 77.3 ms\n"
     ]
    }
   ],
   "source": [
    "%%time\n",
    "n_fold = KFold(n_splits=5,shuffle=True, random_state=12)\n",
    "\n",
    "cv_scores = cross_val_score(estimator = knn_classifier_3,X = X,y=y,cv=n_fold)\n",
    "print('CV Scores     : ',cv_scores)\n",
    "print('Mean Accuracy : ',cv_scores.mean())\n",
    "print('Std Deviation : ',cv_scores.std())"
   ]
  },
  {
   "cell_type": "code",
   "execution_count": 39,
   "id": "60c9e0b3",
   "metadata": {},
   "outputs": [
    {
     "name": "stdout",
     "output_type": "stream",
     "text": [
      "CV Scores     :  [1. 0. 0. 0. 1. 1. 1. 1. 1. 1. 1. 1. 1. 1. 1. 1. 1. 1. 1. 0. 1. 1. 1. 1.\n",
      " 1. 1. 1. 1. 1. 1. 1. 1. 0. 1. 1. 0. 1. 1. 1. 1. 1. 1. 1. 1. 0. 1. 0. 1.\n",
      " 1. 1. 1. 0. 1. 1. 1. 0. 0. 1. 1. 1. 1. 1. 1. 1. 1. 1. 1. 1. 1. 1. 1. 1.\n",
      " 1. 1. 1. 1. 1. 1. 0. 1. 1. 1. 0. 0. 1. 1. 1. 0. 1. 0. 1. 1. 0. 1. 1. 0.\n",
      " 0. 0. 1. 0. 0. 1. 1. 0. 0. 0. 1. 1. 0. 1. 1. 1. 1. 1. 1. 1. 1. 1. 1. 1.\n",
      " 1. 0. 1. 1. 0. 0. 0. 1. 1. 1. 0. 0. 1. 1. 0. 1. 0. 1. 1. 1. 1. 0. 0. 1.\n",
      " 0. 1. 0. 1. 0. 0. 0. 0. 0. 1. 0. 0. 1. 0. 0. 0. 0. 0. 0. 0. 0. 1. 1. 1.\n",
      " 1. 1. 1. 0. 1. 1. 0. 0. 1. 1. 1. 1. 1. 1. 0. 0. 1. 0. 0. 0. 0. 1. 0. 1.\n",
      " 1. 1. 1. 1. 1. 1. 1. 1. 1. 0. 1. 1. 1. 1. 1. 1. 1. 1. 1. 1. 1. 1.]\n",
      "Mean Accuracy :  0.7009345794392523\n",
      "Std Deviation :  0.4578485500529304\n",
      "Wall time: 2.3 s\n"
     ]
    }
   ],
   "source": [
    "%%time\n",
    "loocv = LeaveOneOut()\n",
    "cv_scores = cross_val_score(estimator = knn_classifier_3,X = X,y=y,cv=loocv)\n",
    "print('CV Scores     : ',cv_scores)\n",
    "print('Mean Accuracy : ',cv_scores.mean())\n",
    "print('Std Deviation : ',cv_scores.std())"
   ]
  },
  {
   "cell_type": "markdown",
   "id": "9295b1f0",
   "metadata": {},
   "source": [
    "#### Final Comparisons between Train test split, K fold and Loocv\n",
    "we can conclude that model with train test split with K =3 is the best model"
   ]
  },
  {
   "cell_type": "code",
   "execution_count": null,
   "id": "878711bc",
   "metadata": {},
   "outputs": [],
   "source": []
  },
  {
   "cell_type": "code",
   "execution_count": null,
   "id": "7b1caf33",
   "metadata": {},
   "outputs": [],
   "source": []
  },
  {
   "cell_type": "code",
   "execution_count": null,
   "id": "e2317aa8",
   "metadata": {},
   "outputs": [],
   "source": []
  },
  {
   "cell_type": "code",
   "execution_count": null,
   "id": "07c5bcb2",
   "metadata": {},
   "outputs": [],
   "source": []
  }
 ],
 "metadata": {
  "kernelspec": {
   "display_name": "Python 3 (ipykernel)",
   "language": "python",
   "name": "python3"
  },
  "language_info": {
   "codemirror_mode": {
    "name": "ipython",
    "version": 3
   },
   "file_extension": ".py",
   "mimetype": "text/x-python",
   "name": "python",
   "nbconvert_exporter": "python",
   "pygments_lexer": "ipython3",
   "version": "3.9.7"
  }
 },
 "nbformat": 4,
 "nbformat_minor": 5
}

{
 "cells": [
  {
   "cell_type": "markdown",
   "id": "9c284701",
   "metadata": {},
   "source": [
    "### Problem 01 - Gas Turbine\n",
    "Problem statement: predicting turbine energy yield (TEY) using ambient variables as features."
   ]
  },
  {
   "cell_type": "markdown",
   "id": "f54b4f7f",
   "metadata": {},
   "source": [
    "#### 1. Import Necessary Libraries"
   ]
  },
  {
   "cell_type": "code",
   "execution_count": 22,
   "id": "f3c002c2",
   "metadata": {},
   "outputs": [
    {
     "data": {
      "text/plain": [
       "'2.8.0'"
      ]
     },
     "execution_count": 22,
     "metadata": {},
     "output_type": "execute_result"
    }
   ],
   "source": [
    "import tensorflow as tf\n",
    "tf.__version__"
   ]
  },
  {
   "cell_type": "code",
   "execution_count": 23,
   "id": "f1d11c81",
   "metadata": {},
   "outputs": [],
   "source": [
    "import pandas as pd\n",
    "import numpy as np\n",
    "import seaborn as sns \n",
    "import matplotlib.pyplot as plt\n",
    "from sklearn.metrics import confusion_matrix, accuracy_score\n",
    "from sklearn.preprocessing import StandardScaler, MinMaxScaler\n",
    "from sklearn.model_selection import train_test_split, GridSearchCV\n",
    "from sklearn.decomposition import PCA\n",
    "from keras.models import Sequential\n",
    "from keras.layers import Flatten,Conv2D,MaxPooling2D,Dense,Dropout\n",
    "from keras.preprocessing.image import ImageDataGenerator"
   ]
  },
  {
   "cell_type": "markdown",
   "id": "53548909",
   "metadata": {},
   "source": [
    "#### 2. Importing the Data"
   ]
  },
  {
   "cell_type": "code",
   "execution_count": 24,
   "id": "49b9aa1e",
   "metadata": {},
   "outputs": [
    {
     "data": {
      "text/html": [
       "<div>\n",
       "<style scoped>\n",
       "    .dataframe tbody tr th:only-of-type {\n",
       "        vertical-align: middle;\n",
       "    }\n",
       "\n",
       "    .dataframe tbody tr th {\n",
       "        vertical-align: top;\n",
       "    }\n",
       "\n",
       "    .dataframe thead th {\n",
       "        text-align: right;\n",
       "    }\n",
       "</style>\n",
       "<table border=\"1\" class=\"dataframe\">\n",
       "  <thead>\n",
       "    <tr style=\"text-align: right;\">\n",
       "      <th></th>\n",
       "      <th>AT</th>\n",
       "      <th>AP</th>\n",
       "      <th>AH</th>\n",
       "      <th>AFDP</th>\n",
       "      <th>GTEP</th>\n",
       "      <th>TIT</th>\n",
       "      <th>TAT</th>\n",
       "      <th>TEY</th>\n",
       "      <th>CDP</th>\n",
       "      <th>CO</th>\n",
       "      <th>NOX</th>\n",
       "    </tr>\n",
       "  </thead>\n",
       "  <tbody>\n",
       "    <tr>\n",
       "      <th>0</th>\n",
       "      <td>6.8594</td>\n",
       "      <td>1007.9</td>\n",
       "      <td>96.799</td>\n",
       "      <td>3.5000</td>\n",
       "      <td>19.663</td>\n",
       "      <td>1059.2</td>\n",
       "      <td>550.00</td>\n",
       "      <td>114.70</td>\n",
       "      <td>10.605</td>\n",
       "      <td>3.1547</td>\n",
       "      <td>82.722</td>\n",
       "    </tr>\n",
       "    <tr>\n",
       "      <th>1</th>\n",
       "      <td>6.7850</td>\n",
       "      <td>1008.4</td>\n",
       "      <td>97.118</td>\n",
       "      <td>3.4998</td>\n",
       "      <td>19.728</td>\n",
       "      <td>1059.3</td>\n",
       "      <td>550.00</td>\n",
       "      <td>114.72</td>\n",
       "      <td>10.598</td>\n",
       "      <td>3.2363</td>\n",
       "      <td>82.776</td>\n",
       "    </tr>\n",
       "    <tr>\n",
       "      <th>2</th>\n",
       "      <td>6.8977</td>\n",
       "      <td>1008.8</td>\n",
       "      <td>95.939</td>\n",
       "      <td>3.4824</td>\n",
       "      <td>19.779</td>\n",
       "      <td>1059.4</td>\n",
       "      <td>549.87</td>\n",
       "      <td>114.71</td>\n",
       "      <td>10.601</td>\n",
       "      <td>3.2012</td>\n",
       "      <td>82.468</td>\n",
       "    </tr>\n",
       "    <tr>\n",
       "      <th>3</th>\n",
       "      <td>7.0569</td>\n",
       "      <td>1009.2</td>\n",
       "      <td>95.249</td>\n",
       "      <td>3.4805</td>\n",
       "      <td>19.792</td>\n",
       "      <td>1059.6</td>\n",
       "      <td>549.99</td>\n",
       "      <td>114.72</td>\n",
       "      <td>10.606</td>\n",
       "      <td>3.1923</td>\n",
       "      <td>82.670</td>\n",
       "    </tr>\n",
       "    <tr>\n",
       "      <th>4</th>\n",
       "      <td>7.3978</td>\n",
       "      <td>1009.7</td>\n",
       "      <td>95.150</td>\n",
       "      <td>3.4976</td>\n",
       "      <td>19.765</td>\n",
       "      <td>1059.7</td>\n",
       "      <td>549.98</td>\n",
       "      <td>114.72</td>\n",
       "      <td>10.612</td>\n",
       "      <td>3.2484</td>\n",
       "      <td>82.311</td>\n",
       "    </tr>\n",
       "    <tr>\n",
       "      <th>...</th>\n",
       "      <td>...</td>\n",
       "      <td>...</td>\n",
       "      <td>...</td>\n",
       "      <td>...</td>\n",
       "      <td>...</td>\n",
       "      <td>...</td>\n",
       "      <td>...</td>\n",
       "      <td>...</td>\n",
       "      <td>...</td>\n",
       "      <td>...</td>\n",
       "      <td>...</td>\n",
       "    </tr>\n",
       "    <tr>\n",
       "      <th>15034</th>\n",
       "      <td>9.0301</td>\n",
       "      <td>1005.6</td>\n",
       "      <td>98.460</td>\n",
       "      <td>3.5421</td>\n",
       "      <td>19.164</td>\n",
       "      <td>1049.7</td>\n",
       "      <td>546.21</td>\n",
       "      <td>111.61</td>\n",
       "      <td>10.400</td>\n",
       "      <td>4.5186</td>\n",
       "      <td>79.559</td>\n",
       "    </tr>\n",
       "    <tr>\n",
       "      <th>15035</th>\n",
       "      <td>7.8879</td>\n",
       "      <td>1005.9</td>\n",
       "      <td>99.093</td>\n",
       "      <td>3.5059</td>\n",
       "      <td>19.414</td>\n",
       "      <td>1046.3</td>\n",
       "      <td>543.22</td>\n",
       "      <td>111.78</td>\n",
       "      <td>10.433</td>\n",
       "      <td>4.8470</td>\n",
       "      <td>79.917</td>\n",
       "    </tr>\n",
       "    <tr>\n",
       "      <th>15036</th>\n",
       "      <td>7.2647</td>\n",
       "      <td>1006.3</td>\n",
       "      <td>99.496</td>\n",
       "      <td>3.4770</td>\n",
       "      <td>19.530</td>\n",
       "      <td>1037.7</td>\n",
       "      <td>537.32</td>\n",
       "      <td>110.19</td>\n",
       "      <td>10.483</td>\n",
       "      <td>7.9632</td>\n",
       "      <td>90.912</td>\n",
       "    </tr>\n",
       "    <tr>\n",
       "      <th>15037</th>\n",
       "      <td>7.0060</td>\n",
       "      <td>1006.8</td>\n",
       "      <td>99.008</td>\n",
       "      <td>3.4486</td>\n",
       "      <td>19.377</td>\n",
       "      <td>1043.2</td>\n",
       "      <td>541.24</td>\n",
       "      <td>110.74</td>\n",
       "      <td>10.533</td>\n",
       "      <td>6.2494</td>\n",
       "      <td>93.227</td>\n",
       "    </tr>\n",
       "    <tr>\n",
       "      <th>15038</th>\n",
       "      <td>6.9279</td>\n",
       "      <td>1007.2</td>\n",
       "      <td>97.533</td>\n",
       "      <td>3.4275</td>\n",
       "      <td>19.306</td>\n",
       "      <td>1049.9</td>\n",
       "      <td>545.85</td>\n",
       "      <td>111.58</td>\n",
       "      <td>10.583</td>\n",
       "      <td>4.9816</td>\n",
       "      <td>92.498</td>\n",
       "    </tr>\n",
       "  </tbody>\n",
       "</table>\n",
       "<p>15039 rows × 11 columns</p>\n",
       "</div>"
      ],
      "text/plain": [
       "           AT      AP      AH    AFDP    GTEP     TIT     TAT     TEY     CDP  \\\n",
       "0      6.8594  1007.9  96.799  3.5000  19.663  1059.2  550.00  114.70  10.605   \n",
       "1      6.7850  1008.4  97.118  3.4998  19.728  1059.3  550.00  114.72  10.598   \n",
       "2      6.8977  1008.8  95.939  3.4824  19.779  1059.4  549.87  114.71  10.601   \n",
       "3      7.0569  1009.2  95.249  3.4805  19.792  1059.6  549.99  114.72  10.606   \n",
       "4      7.3978  1009.7  95.150  3.4976  19.765  1059.7  549.98  114.72  10.612   \n",
       "...       ...     ...     ...     ...     ...     ...     ...     ...     ...   \n",
       "15034  9.0301  1005.6  98.460  3.5421  19.164  1049.7  546.21  111.61  10.400   \n",
       "15035  7.8879  1005.9  99.093  3.5059  19.414  1046.3  543.22  111.78  10.433   \n",
       "15036  7.2647  1006.3  99.496  3.4770  19.530  1037.7  537.32  110.19  10.483   \n",
       "15037  7.0060  1006.8  99.008  3.4486  19.377  1043.2  541.24  110.74  10.533   \n",
       "15038  6.9279  1007.2  97.533  3.4275  19.306  1049.9  545.85  111.58  10.583   \n",
       "\n",
       "           CO     NOX  \n",
       "0      3.1547  82.722  \n",
       "1      3.2363  82.776  \n",
       "2      3.2012  82.468  \n",
       "3      3.1923  82.670  \n",
       "4      3.2484  82.311  \n",
       "...       ...     ...  \n",
       "15034  4.5186  79.559  \n",
       "15035  4.8470  79.917  \n",
       "15036  7.9632  90.912  \n",
       "15037  6.2494  93.227  \n",
       "15038  4.9816  92.498  \n",
       "\n",
       "[15039 rows x 11 columns]"
      ]
     },
     "execution_count": 24,
     "metadata": {},
     "output_type": "execute_result"
    }
   ],
   "source": [
    "data_1 = pd.read_csv('gas_turbines.csv')\n",
    "data_1"
   ]
  },
  {
   "cell_type": "markdown",
   "id": "34ad1f5c",
   "metadata": {},
   "source": [
    "#### 3. Data Understanding"
   ]
  },
  {
   "cell_type": "code",
   "execution_count": 25,
   "id": "4e0b01de",
   "metadata": {},
   "outputs": [
    {
     "data": {
      "text/plain": [
       "(15039, 11)"
      ]
     },
     "execution_count": 25,
     "metadata": {},
     "output_type": "execute_result"
    }
   ],
   "source": [
    "data_1.shape"
   ]
  },
  {
   "cell_type": "code",
   "execution_count": 26,
   "id": "dab01965",
   "metadata": {},
   "outputs": [
    {
     "data": {
      "text/plain": [
       "AT      float64\n",
       "AP      float64\n",
       "AH      float64\n",
       "AFDP    float64\n",
       "GTEP    float64\n",
       "TIT     float64\n",
       "TAT     float64\n",
       "TEY     float64\n",
       "CDP     float64\n",
       "CO      float64\n",
       "NOX     float64\n",
       "dtype: object"
      ]
     },
     "execution_count": 26,
     "metadata": {},
     "output_type": "execute_result"
    }
   ],
   "source": [
    "data_1.dtypes"
   ]
  },
  {
   "cell_type": "code",
   "execution_count": 27,
   "id": "014f00fd",
   "metadata": {},
   "outputs": [
    {
     "data": {
      "text/plain": [
       "AT      0\n",
       "AP      0\n",
       "AH      0\n",
       "AFDP    0\n",
       "GTEP    0\n",
       "TIT     0\n",
       "TAT     0\n",
       "TEY     0\n",
       "CDP     0\n",
       "CO      0\n",
       "NOX     0\n",
       "dtype: int64"
      ]
     },
     "execution_count": 27,
     "metadata": {},
     "output_type": "execute_result"
    }
   ],
   "source": [
    "data_1.isnull().sum()"
   ]
  },
  {
   "cell_type": "code",
   "execution_count": 28,
   "id": "bf8b1809",
   "metadata": {},
   "outputs": [
    {
     "data": {
      "text/html": [
       "<div>\n",
       "<style scoped>\n",
       "    .dataframe tbody tr th:only-of-type {\n",
       "        vertical-align: middle;\n",
       "    }\n",
       "\n",
       "    .dataframe tbody tr th {\n",
       "        vertical-align: top;\n",
       "    }\n",
       "\n",
       "    .dataframe thead th {\n",
       "        text-align: right;\n",
       "    }\n",
       "</style>\n",
       "<table border=\"1\" class=\"dataframe\">\n",
       "  <thead>\n",
       "    <tr style=\"text-align: right;\">\n",
       "      <th></th>\n",
       "      <th>AT</th>\n",
       "      <th>AP</th>\n",
       "      <th>AH</th>\n",
       "      <th>AFDP</th>\n",
       "      <th>GTEP</th>\n",
       "      <th>TIT</th>\n",
       "      <th>TAT</th>\n",
       "      <th>TEY</th>\n",
       "      <th>CDP</th>\n",
       "      <th>CO</th>\n",
       "      <th>NOX</th>\n",
       "    </tr>\n",
       "  </thead>\n",
       "  <tbody>\n",
       "    <tr>\n",
       "      <th>count</th>\n",
       "      <td>15039.000000</td>\n",
       "      <td>15039.00000</td>\n",
       "      <td>15039.000000</td>\n",
       "      <td>15039.000000</td>\n",
       "      <td>15039.000000</td>\n",
       "      <td>15039.000000</td>\n",
       "      <td>15039.000000</td>\n",
       "      <td>15039.000000</td>\n",
       "      <td>15039.000000</td>\n",
       "      <td>15039.000000</td>\n",
       "      <td>15039.000000</td>\n",
       "    </tr>\n",
       "    <tr>\n",
       "      <th>mean</th>\n",
       "      <td>17.764381</td>\n",
       "      <td>1013.19924</td>\n",
       "      <td>79.124174</td>\n",
       "      <td>4.200294</td>\n",
       "      <td>25.419061</td>\n",
       "      <td>1083.798770</td>\n",
       "      <td>545.396183</td>\n",
       "      <td>134.188464</td>\n",
       "      <td>12.102353</td>\n",
       "      <td>1.972499</td>\n",
       "      <td>68.190934</td>\n",
       "    </tr>\n",
       "    <tr>\n",
       "      <th>std</th>\n",
       "      <td>7.574323</td>\n",
       "      <td>6.41076</td>\n",
       "      <td>13.793439</td>\n",
       "      <td>0.760197</td>\n",
       "      <td>4.173916</td>\n",
       "      <td>16.527806</td>\n",
       "      <td>7.866803</td>\n",
       "      <td>15.829717</td>\n",
       "      <td>1.103196</td>\n",
       "      <td>2.222206</td>\n",
       "      <td>10.470586</td>\n",
       "    </tr>\n",
       "    <tr>\n",
       "      <th>min</th>\n",
       "      <td>0.522300</td>\n",
       "      <td>985.85000</td>\n",
       "      <td>30.344000</td>\n",
       "      <td>2.087400</td>\n",
       "      <td>17.878000</td>\n",
       "      <td>1000.800000</td>\n",
       "      <td>512.450000</td>\n",
       "      <td>100.170000</td>\n",
       "      <td>9.904400</td>\n",
       "      <td>0.000388</td>\n",
       "      <td>27.765000</td>\n",
       "    </tr>\n",
       "    <tr>\n",
       "      <th>25%</th>\n",
       "      <td>11.408000</td>\n",
       "      <td>1008.90000</td>\n",
       "      <td>69.750000</td>\n",
       "      <td>3.723900</td>\n",
       "      <td>23.294000</td>\n",
       "      <td>1079.600000</td>\n",
       "      <td>542.170000</td>\n",
       "      <td>127.985000</td>\n",
       "      <td>11.622000</td>\n",
       "      <td>0.858055</td>\n",
       "      <td>61.303500</td>\n",
       "    </tr>\n",
       "    <tr>\n",
       "      <th>50%</th>\n",
       "      <td>18.186000</td>\n",
       "      <td>1012.80000</td>\n",
       "      <td>82.266000</td>\n",
       "      <td>4.186200</td>\n",
       "      <td>25.082000</td>\n",
       "      <td>1088.700000</td>\n",
       "      <td>549.890000</td>\n",
       "      <td>133.780000</td>\n",
       "      <td>12.025000</td>\n",
       "      <td>1.390200</td>\n",
       "      <td>66.601000</td>\n",
       "    </tr>\n",
       "    <tr>\n",
       "      <th>75%</th>\n",
       "      <td>23.862500</td>\n",
       "      <td>1016.90000</td>\n",
       "      <td>90.043500</td>\n",
       "      <td>4.550900</td>\n",
       "      <td>27.184000</td>\n",
       "      <td>1096.000000</td>\n",
       "      <td>550.060000</td>\n",
       "      <td>140.895000</td>\n",
       "      <td>12.578000</td>\n",
       "      <td>2.160400</td>\n",
       "      <td>73.935500</td>\n",
       "    </tr>\n",
       "    <tr>\n",
       "      <th>max</th>\n",
       "      <td>34.929000</td>\n",
       "      <td>1034.20000</td>\n",
       "      <td>100.200000</td>\n",
       "      <td>7.610600</td>\n",
       "      <td>37.402000</td>\n",
       "      <td>1100.800000</td>\n",
       "      <td>550.610000</td>\n",
       "      <td>174.610000</td>\n",
       "      <td>15.081000</td>\n",
       "      <td>44.103000</td>\n",
       "      <td>119.890000</td>\n",
       "    </tr>\n",
       "  </tbody>\n",
       "</table>\n",
       "</div>"
      ],
      "text/plain": [
       "                 AT           AP            AH          AFDP          GTEP  \\\n",
       "count  15039.000000  15039.00000  15039.000000  15039.000000  15039.000000   \n",
       "mean      17.764381   1013.19924     79.124174      4.200294     25.419061   \n",
       "std        7.574323      6.41076     13.793439      0.760197      4.173916   \n",
       "min        0.522300    985.85000     30.344000      2.087400     17.878000   \n",
       "25%       11.408000   1008.90000     69.750000      3.723900     23.294000   \n",
       "50%       18.186000   1012.80000     82.266000      4.186200     25.082000   \n",
       "75%       23.862500   1016.90000     90.043500      4.550900     27.184000   \n",
       "max       34.929000   1034.20000    100.200000      7.610600     37.402000   \n",
       "\n",
       "                TIT           TAT           TEY           CDP            CO  \\\n",
       "count  15039.000000  15039.000000  15039.000000  15039.000000  15039.000000   \n",
       "mean    1083.798770    545.396183    134.188464     12.102353      1.972499   \n",
       "std       16.527806      7.866803     15.829717      1.103196      2.222206   \n",
       "min     1000.800000    512.450000    100.170000      9.904400      0.000388   \n",
       "25%     1079.600000    542.170000    127.985000     11.622000      0.858055   \n",
       "50%     1088.700000    549.890000    133.780000     12.025000      1.390200   \n",
       "75%     1096.000000    550.060000    140.895000     12.578000      2.160400   \n",
       "max     1100.800000    550.610000    174.610000     15.081000     44.103000   \n",
       "\n",
       "                NOX  \n",
       "count  15039.000000  \n",
       "mean      68.190934  \n",
       "std       10.470586  \n",
       "min       27.765000  \n",
       "25%       61.303500  \n",
       "50%       66.601000  \n",
       "75%       73.935500  \n",
       "max      119.890000  "
      ]
     },
     "execution_count": 28,
     "metadata": {},
     "output_type": "execute_result"
    }
   ],
   "source": [
    "data_1.describe()"
   ]
  },
  {
   "cell_type": "raw",
   "id": "f9a052bd",
   "metadata": {},
   "source": [
    "here we can oberve that max vlaues of features are different from each other thus we have to scale the data."
   ]
  },
  {
   "cell_type": "markdown",
   "id": "efef83cf",
   "metadata": {},
   "source": [
    "#### 4. Data Preparation"
   ]
  },
  {
   "cell_type": "code",
   "execution_count": 29,
   "id": "052e1253",
   "metadata": {},
   "outputs": [],
   "source": [
    "X = data_1.drop(labels = ['TEY'], axis = 1)\n",
    "y = data_1[['TEY']]"
   ]
  },
  {
   "cell_type": "code",
   "execution_count": 30,
   "id": "4b9a5ebc",
   "metadata": {},
   "outputs": [
    {
     "data": {
      "text/plain": [
       "((15039, 10), (15039, 1))"
      ]
     },
     "execution_count": 30,
     "metadata": {},
     "output_type": "execute_result"
    }
   ],
   "source": [
    "X.shape, y.shape"
   ]
  },
  {
   "cell_type": "code",
   "execution_count": 31,
   "id": "f7b96d34",
   "metadata": {},
   "outputs": [],
   "source": [
    "mm_scale = MinMaxScaler()"
   ]
  },
  {
   "cell_type": "code",
   "execution_count": 32,
   "id": "de89779e",
   "metadata": {},
   "outputs": [],
   "source": [
    "mm_scale = mm_scale.fit_transform(X)"
   ]
  },
  {
   "cell_type": "code",
   "execution_count": 36,
   "id": "6985e37e",
   "metadata": {
    "scrolled": true
   },
   "outputs": [
    {
     "data": {
      "text/html": [
       "<div>\n",
       "<style scoped>\n",
       "    .dataframe tbody tr th:only-of-type {\n",
       "        vertical-align: middle;\n",
       "    }\n",
       "\n",
       "    .dataframe tbody tr th {\n",
       "        vertical-align: top;\n",
       "    }\n",
       "\n",
       "    .dataframe thead th {\n",
       "        text-align: right;\n",
       "    }\n",
       "</style>\n",
       "<table border=\"1\" class=\"dataframe\">\n",
       "  <thead>\n",
       "    <tr style=\"text-align: right;\">\n",
       "      <th></th>\n",
       "      <th>AT</th>\n",
       "      <th>AP</th>\n",
       "      <th>AH</th>\n",
       "      <th>AFDP</th>\n",
       "      <th>GTEP</th>\n",
       "      <th>TIT</th>\n",
       "      <th>TAT</th>\n",
       "      <th>CDP</th>\n",
       "      <th>CO</th>\n",
       "      <th>NOX</th>\n",
       "    </tr>\n",
       "  </thead>\n",
       "  <tbody>\n",
       "    <tr>\n",
       "      <th>0</th>\n",
       "      <td>0.184182</td>\n",
       "      <td>0.456050</td>\n",
       "      <td>0.951314</td>\n",
       "      <td>0.255758</td>\n",
       "      <td>0.091426</td>\n",
       "      <td>0.584</td>\n",
       "      <td>0.984015</td>\n",
       "      <td>0.135340</td>\n",
       "      <td>0.071522</td>\n",
       "      <td>0.596548</td>\n",
       "    </tr>\n",
       "    <tr>\n",
       "      <th>1</th>\n",
       "      <td>0.182020</td>\n",
       "      <td>0.466391</td>\n",
       "      <td>0.955881</td>\n",
       "      <td>0.255721</td>\n",
       "      <td>0.094755</td>\n",
       "      <td>0.585</td>\n",
       "      <td>0.984015</td>\n",
       "      <td>0.133988</td>\n",
       "      <td>0.073372</td>\n",
       "      <td>0.597134</td>\n",
       "    </tr>\n",
       "    <tr>\n",
       "      <th>2</th>\n",
       "      <td>0.185295</td>\n",
       "      <td>0.474664</td>\n",
       "      <td>0.939003</td>\n",
       "      <td>0.252571</td>\n",
       "      <td>0.097367</td>\n",
       "      <td>0.586</td>\n",
       "      <td>0.980608</td>\n",
       "      <td>0.134567</td>\n",
       "      <td>0.072576</td>\n",
       "      <td>0.593791</td>\n",
       "    </tr>\n",
       "    <tr>\n",
       "      <th>3</th>\n",
       "      <td>0.189922</td>\n",
       "      <td>0.482937</td>\n",
       "      <td>0.929126</td>\n",
       "      <td>0.252227</td>\n",
       "      <td>0.098033</td>\n",
       "      <td>0.588</td>\n",
       "      <td>0.983753</td>\n",
       "      <td>0.135533</td>\n",
       "      <td>0.072375</td>\n",
       "      <td>0.595984</td>\n",
       "    </tr>\n",
       "    <tr>\n",
       "      <th>4</th>\n",
       "      <td>0.199830</td>\n",
       "      <td>0.493278</td>\n",
       "      <td>0.927708</td>\n",
       "      <td>0.255323</td>\n",
       "      <td>0.096650</td>\n",
       "      <td>0.589</td>\n",
       "      <td>0.983491</td>\n",
       "      <td>0.136692</td>\n",
       "      <td>0.073647</td>\n",
       "      <td>0.592087</td>\n",
       "    </tr>\n",
       "    <tr>\n",
       "      <th>...</th>\n",
       "      <td>...</td>\n",
       "      <td>...</td>\n",
       "      <td>...</td>\n",
       "      <td>...</td>\n",
       "      <td>...</td>\n",
       "      <td>...</td>\n",
       "      <td>...</td>\n",
       "      <td>...</td>\n",
       "      <td>...</td>\n",
       "      <td>...</td>\n",
       "    </tr>\n",
       "    <tr>\n",
       "      <th>15034</th>\n",
       "      <td>0.247272</td>\n",
       "      <td>0.408480</td>\n",
       "      <td>0.975092</td>\n",
       "      <td>0.263380</td>\n",
       "      <td>0.065868</td>\n",
       "      <td>0.489</td>\n",
       "      <td>0.884696</td>\n",
       "      <td>0.095739</td>\n",
       "      <td>0.102448</td>\n",
       "      <td>0.562214</td>\n",
       "    </tr>\n",
       "    <tr>\n",
       "      <th>15035</th>\n",
       "      <td>0.214075</td>\n",
       "      <td>0.414685</td>\n",
       "      <td>0.984153</td>\n",
       "      <td>0.256826</td>\n",
       "      <td>0.078672</td>\n",
       "      <td>0.455</td>\n",
       "      <td>0.806342</td>\n",
       "      <td>0.102113</td>\n",
       "      <td>0.109894</td>\n",
       "      <td>0.566100</td>\n",
       "    </tr>\n",
       "    <tr>\n",
       "      <th>15036</th>\n",
       "      <td>0.195962</td>\n",
       "      <td>0.422958</td>\n",
       "      <td>0.989922</td>\n",
       "      <td>0.251593</td>\n",
       "      <td>0.084614</td>\n",
       "      <td>0.369</td>\n",
       "      <td>0.651730</td>\n",
       "      <td>0.111772</td>\n",
       "      <td>0.180552</td>\n",
       "      <td>0.685449</td>\n",
       "    </tr>\n",
       "    <tr>\n",
       "      <th>15037</th>\n",
       "      <td>0.188443</td>\n",
       "      <td>0.433299</td>\n",
       "      <td>0.982936</td>\n",
       "      <td>0.246451</td>\n",
       "      <td>0.076777</td>\n",
       "      <td>0.424</td>\n",
       "      <td>0.754455</td>\n",
       "      <td>0.121431</td>\n",
       "      <td>0.141693</td>\n",
       "      <td>0.710578</td>\n",
       "    </tr>\n",
       "    <tr>\n",
       "      <th>15038</th>\n",
       "      <td>0.186173</td>\n",
       "      <td>0.441572</td>\n",
       "      <td>0.961821</td>\n",
       "      <td>0.242631</td>\n",
       "      <td>0.073141</td>\n",
       "      <td>0.491</td>\n",
       "      <td>0.875262</td>\n",
       "      <td>0.131090</td>\n",
       "      <td>0.112946</td>\n",
       "      <td>0.702665</td>\n",
       "    </tr>\n",
       "  </tbody>\n",
       "</table>\n",
       "<p>15039 rows × 10 columns</p>\n",
       "</div>"
      ],
      "text/plain": [
       "             AT        AP        AH      AFDP      GTEP    TIT       TAT  \\\n",
       "0      0.184182  0.456050  0.951314  0.255758  0.091426  0.584  0.984015   \n",
       "1      0.182020  0.466391  0.955881  0.255721  0.094755  0.585  0.984015   \n",
       "2      0.185295  0.474664  0.939003  0.252571  0.097367  0.586  0.980608   \n",
       "3      0.189922  0.482937  0.929126  0.252227  0.098033  0.588  0.983753   \n",
       "4      0.199830  0.493278  0.927708  0.255323  0.096650  0.589  0.983491   \n",
       "...         ...       ...       ...       ...       ...    ...       ...   \n",
       "15034  0.247272  0.408480  0.975092  0.263380  0.065868  0.489  0.884696   \n",
       "15035  0.214075  0.414685  0.984153  0.256826  0.078672  0.455  0.806342   \n",
       "15036  0.195962  0.422958  0.989922  0.251593  0.084614  0.369  0.651730   \n",
       "15037  0.188443  0.433299  0.982936  0.246451  0.076777  0.424  0.754455   \n",
       "15038  0.186173  0.441572  0.961821  0.242631  0.073141  0.491  0.875262   \n",
       "\n",
       "            CDP        CO       NOX  \n",
       "0      0.135340  0.071522  0.596548  \n",
       "1      0.133988  0.073372  0.597134  \n",
       "2      0.134567  0.072576  0.593791  \n",
       "3      0.135533  0.072375  0.595984  \n",
       "4      0.136692  0.073647  0.592087  \n",
       "...         ...       ...       ...  \n",
       "15034  0.095739  0.102448  0.562214  \n",
       "15035  0.102113  0.109894  0.566100  \n",
       "15036  0.111772  0.180552  0.685449  \n",
       "15037  0.121431  0.141693  0.710578  \n",
       "15038  0.131090  0.112946  0.702665  \n",
       "\n",
       "[15039 rows x 10 columns]"
      ]
     },
     "execution_count": 36,
     "metadata": {},
     "output_type": "execute_result"
    }
   ],
   "source": [
    "X_scaled = pd.DataFrame(data = mm_scale,columns=X.columns)\n",
    "X_scaled"
   ]
  },
  {
   "cell_type": "code",
   "execution_count": 37,
   "id": "6035e293",
   "metadata": {},
   "outputs": [],
   "source": [
    "X_scaled_corr = X_scaled.corr().round(1)"
   ]
  },
  {
   "cell_type": "code",
   "execution_count": 38,
   "id": "6031ce18",
   "metadata": {},
   "outputs": [
    {
     "data": {
      "image/png": "[encoded data removed]",
      "text/plain": [
       "<Figure size 1152x1152 with 2 Axes>"
      ]
     },
     "metadata": {
      "needs_background": "light"
     },
     "output_type": "display_data"
    }
   ],
   "source": [
    "plt.figure(figsize=[16,16])\n",
    "sns.heatmap(X_scaled_corr, annot= True)\n",
    "plt.show()"
   ]
  },
  {
   "cell_type": "raw",
   "id": "3ad0132f",
   "metadata": {},
   "source": [
    "data shows high correlation between features we can use PCA to reduce the dimensionality."
   ]
  },
  {
   "cell_type": "code",
   "execution_count": 40,
   "id": "2ff6118f",
   "metadata": {},
   "outputs": [
    {
     "data": {
      "text/html": [
       "<div>\n",
       "<style scoped>\n",
       "    .dataframe tbody tr th:only-of-type {\n",
       "        vertical-align: middle;\n",
       "    }\n",
       "\n",
       "    .dataframe tbody tr th {\n",
       "        vertical-align: top;\n",
       "    }\n",
       "\n",
       "    .dataframe thead th {\n",
       "        text-align: right;\n",
       "    }\n",
       "</style>\n",
       "<table border=\"1\" class=\"dataframe\">\n",
       "  <thead>\n",
       "    <tr style=\"text-align: right;\">\n",
       "      <th></th>\n",
       "      <th>0</th>\n",
       "      <th>1</th>\n",
       "      <th>2</th>\n",
       "      <th>3</th>\n",
       "      <th>4</th>\n",
       "      <th>5</th>\n",
       "      <th>6</th>\n",
       "      <th>7</th>\n",
       "      <th>8</th>\n",
       "      <th>9</th>\n",
       "    </tr>\n",
       "  </thead>\n",
       "  <tbody>\n",
       "    <tr>\n",
       "      <th>0</th>\n",
       "      <td>-0.507891</td>\n",
       "      <td>0.417932</td>\n",
       "      <td>-0.034207</td>\n",
       "      <td>0.018428</td>\n",
       "      <td>0.162776</td>\n",
       "      <td>-0.050036</td>\n",
       "      <td>-0.017900</td>\n",
       "      <td>-0.018899</td>\n",
       "      <td>0.001095</td>\n",
       "      <td>0.000904</td>\n",
       "    </tr>\n",
       "    <tr>\n",
       "      <th>1</th>\n",
       "      <td>-0.506370</td>\n",
       "      <td>0.423833</td>\n",
       "      <td>-0.033039</td>\n",
       "      <td>0.015392</td>\n",
       "      <td>0.154440</td>\n",
       "      <td>-0.046921</td>\n",
       "      <td>-0.015477</td>\n",
       "      <td>-0.017430</td>\n",
       "      <td>0.004955</td>\n",
       "      <td>0.000339</td>\n",
       "    </tr>\n",
       "    <tr>\n",
       "      <th>2</th>\n",
       "      <td>-0.501622</td>\n",
       "      <td>0.413721</td>\n",
       "      <td>-0.018318</td>\n",
       "      <td>0.015027</td>\n",
       "      <td>0.148164</td>\n",
       "      <td>-0.049796</td>\n",
       "      <td>-0.019057</td>\n",
       "      <td>-0.017425</td>\n",
       "      <td>0.006708</td>\n",
       "      <td>0.000927</td>\n",
       "    </tr>\n",
       "    <tr>\n",
       "      <th>3</th>\n",
       "      <td>-0.500464</td>\n",
       "      <td>0.406062</td>\n",
       "      <td>-0.009108</td>\n",
       "      <td>0.009130</td>\n",
       "      <td>0.143571</td>\n",
       "      <td>-0.048122</td>\n",
       "      <td>-0.017158</td>\n",
       "      <td>-0.017534</td>\n",
       "      <td>0.006892</td>\n",
       "      <td>0.000227</td>\n",
       "    </tr>\n",
       "    <tr>\n",
       "      <th>4</th>\n",
       "      <td>-0.499236</td>\n",
       "      <td>0.399044</td>\n",
       "      <td>-0.007083</td>\n",
       "      <td>0.009476</td>\n",
       "      <td>0.132722</td>\n",
       "      <td>-0.040627</td>\n",
       "      <td>-0.015116</td>\n",
       "      <td>-0.016896</td>\n",
       "      <td>0.005074</td>\n",
       "      <td>0.001277</td>\n",
       "    </tr>\n",
       "    <tr>\n",
       "      <th>...</th>\n",
       "      <td>...</td>\n",
       "      <td>...</td>\n",
       "      <td>...</td>\n",
       "      <td>...</td>\n",
       "      <td>...</td>\n",
       "      <td>...</td>\n",
       "      <td>...</td>\n",
       "      <td>...</td>\n",
       "      <td>...</td>\n",
       "      <td>...</td>\n",
       "    </tr>\n",
       "    <tr>\n",
       "      <th>15034</th>\n",
       "      <td>-0.542622</td>\n",
       "      <td>0.406649</td>\n",
       "      <td>-0.040907</td>\n",
       "      <td>0.185461</td>\n",
       "      <td>0.170543</td>\n",
       "      <td>-0.024086</td>\n",
       "      <td>-0.008881</td>\n",
       "      <td>-0.020046</td>\n",
       "      <td>-0.001360</td>\n",
       "      <td>0.004335</td>\n",
       "    </tr>\n",
       "    <tr>\n",
       "      <th>15035</th>\n",
       "      <td>-0.511467</td>\n",
       "      <td>0.460302</td>\n",
       "      <td>-0.011580</td>\n",
       "      <td>0.248330</td>\n",
       "      <td>0.168405</td>\n",
       "      <td>-0.035903</td>\n",
       "      <td>-0.007644</td>\n",
       "      <td>-0.024798</td>\n",
       "      <td>0.001057</td>\n",
       "      <td>0.004455</td>\n",
       "    </tr>\n",
       "    <tr>\n",
       "      <th>15036</th>\n",
       "      <td>-0.477436</td>\n",
       "      <td>0.555224</td>\n",
       "      <td>0.089911</td>\n",
       "      <td>0.374131</td>\n",
       "      <td>0.211895</td>\n",
       "      <td>-0.027661</td>\n",
       "      <td>0.104715</td>\n",
       "      <td>-0.011854</td>\n",
       "      <td>-0.007209</td>\n",
       "      <td>0.001435</td>\n",
       "    </tr>\n",
       "    <tr>\n",
       "      <th>15037</th>\n",
       "      <td>-0.498978</td>\n",
       "      <td>0.532139</td>\n",
       "      <td>0.068347</td>\n",
       "      <td>0.255225</td>\n",
       "      <td>0.217232</td>\n",
       "      <td>-0.035197</td>\n",
       "      <td>0.104506</td>\n",
       "      <td>-0.030844</td>\n",
       "      <td>-0.013263</td>\n",
       "      <td>-0.003991</td>\n",
       "    </tr>\n",
       "    <tr>\n",
       "      <th>15038</th>\n",
       "      <td>-0.519581</td>\n",
       "      <td>0.484199</td>\n",
       "      <td>0.038376</td>\n",
       "      <td>0.127943</td>\n",
       "      <td>0.212873</td>\n",
       "      <td>-0.045169</td>\n",
       "      <td>0.079428</td>\n",
       "      <td>-0.029236</td>\n",
       "      <td>-0.015665</td>\n",
       "      <td>-0.009945</td>\n",
       "    </tr>\n",
       "  </tbody>\n",
       "</table>\n",
       "<p>15039 rows × 10 columns</p>\n",
       "</div>"
      ],
      "text/plain": [
       "              0         1         2         3         4         5         6  \\\n",
       "0     -0.507891  0.417932 -0.034207  0.018428  0.162776 -0.050036 -0.017900   \n",
       "1     -0.506370  0.423833 -0.033039  0.015392  0.154440 -0.046921 -0.015477   \n",
       "2     -0.501622  0.413721 -0.018318  0.015027  0.148164 -0.049796 -0.019057   \n",
       "3     -0.500464  0.406062 -0.009108  0.009130  0.143571 -0.048122 -0.017158   \n",
       "4     -0.499236  0.399044 -0.007083  0.009476  0.132722 -0.040627 -0.015116   \n",
       "...         ...       ...       ...       ...       ...       ...       ...   \n",
       "15034 -0.542622  0.406649 -0.040907  0.185461  0.170543 -0.024086 -0.008881   \n",
       "15035 -0.511467  0.460302 -0.011580  0.248330  0.168405 -0.035903 -0.007644   \n",
       "15036 -0.477436  0.555224  0.089911  0.374131  0.211895 -0.027661  0.104715   \n",
       "15037 -0.498978  0.532139  0.068347  0.255225  0.217232 -0.035197  0.104506   \n",
       "15038 -0.519581  0.484199  0.038376  0.127943  0.212873 -0.045169  0.079428   \n",
       "\n",
       "              7         8         9  \n",
       "0     -0.018899  0.001095  0.000904  \n",
       "1     -0.017430  0.004955  0.000339  \n",
       "2     -0.017425  0.006708  0.000927  \n",
       "3     -0.017534  0.006892  0.000227  \n",
       "4     -0.016896  0.005074  0.001277  \n",
       "...         ...       ...       ...  \n",
       "15034 -0.020046 -0.001360  0.004335  \n",
       "15035 -0.024798  0.001057  0.004455  \n",
       "15036 -0.011854 -0.007209  0.001435  \n",
       "15037 -0.030844 -0.013263 -0.003991  \n",
       "15038 -0.029236 -0.015665 -0.009945  \n",
       "\n",
       "[15039 rows x 10 columns]"
      ]
     },
     "execution_count": 40,
     "metadata": {},
     "output_type": "execute_result"
    }
   ],
   "source": [
    "pca_decomposition = PCA(n_components=10,random_state=12)\n",
    "X_transformed     = pca_decomposition.fit_transform(X_scaled) #PCA expects data in common scale.\n",
    "X_transformed_df  = pd.DataFrame(data = X_transformed)\n",
    "\n",
    "X_transformed_df"
   ]
  },
  {
   "cell_type": "code",
   "execution_count": 41,
   "id": "aba7cfee",
   "metadata": {},
   "outputs": [
    {
     "data": {
      "text/plain": [
       "array([ 50.32,  76.29,  84.97,  91.32,  95.54,  98.15,  99.63,  99.95,\n",
       "        99.99, 100.  ])"
      ]
     },
     "execution_count": 41,
     "metadata": {},
     "output_type": "execute_result"
    }
   ],
   "source": [
    "pca_explained_ratio = pca_decomposition.explained_variance_ratio_\n",
    "np.cumsum(np.round(a = pca_explained_ratio,decimals=4)*100)"
   ]
  },
  {
   "cell_type": "code",
   "execution_count": 42,
   "id": "b688d4fa",
   "metadata": {},
   "outputs": [
    {
     "data": {
      "text/plain": [
       "array([1.51136491e-01, 7.80045349e-02, 2.60653125e-02, 1.90810858e-02,\n",
       "       1.26685494e-02, 7.83243126e-03, 4.44904587e-03, 9.59969439e-04,\n",
       "       1.28040961e-04, 4.22926371e-05])"
      ]
     },
     "execution_count": 42,
     "metadata": {},
     "output_type": "execute_result"
    }
   ],
   "source": [
    "pca_decomposition.explained_variance_"
   ]
  },
  {
   "cell_type": "code",
   "execution_count": 43,
   "id": "809ff5f7",
   "metadata": {},
   "outputs": [
    {
     "data": {
      "text/plain": [
       "Text(0.5, 1.0, 'Scree Plot')"
      ]
     },
     "execution_count": 43,
     "metadata": {},
     "output_type": "execute_result"
    },
    {
     "data": {
      "image/png": "[encoded data removed]",
      "text/plain": [
       "<Figure size 432x288 with 1 Axes>"
      ]
     },
     "metadata": {},
     "output_type": "display_data"
    }
   ],
   "source": [
    "plt.style.use(\"ggplot\") \n",
    "plt.plot(pca_decomposition.explained_variance_, marker='o')\n",
    "plt.xlabel(\"Eigenvalue number\")\n",
    "plt.ylabel(\"Eigenvalue size\")\n",
    "plt.title(\"Scree Plot\")"
   ]
  },
  {
   "cell_type": "raw",
   "id": "8d55a2b0",
   "metadata": {},
   "source": [
    "From above Scree Plot we can observe that no of Principle compnent when equal 2 it compromises maximum data from the original dataset."
   ]
  },
  {
   "cell_type": "code",
   "execution_count": 44,
   "id": "49330787",
   "metadata": {},
   "outputs": [
    {
     "data": {
      "text/html": [
       "<div>\n",
       "<style scoped>\n",
       "    .dataframe tbody tr th:only-of-type {\n",
       "        vertical-align: middle;\n",
       "    }\n",
       "\n",
       "    .dataframe tbody tr th {\n",
       "        vertical-align: top;\n",
       "    }\n",
       "\n",
       "    .dataframe thead th {\n",
       "        text-align: right;\n",
       "    }\n",
       "</style>\n",
       "<table border=\"1\" class=\"dataframe\">\n",
       "  <thead>\n",
       "    <tr style=\"text-align: right;\">\n",
       "      <th></th>\n",
       "      <th>X1</th>\n",
       "      <th>X2</th>\n",
       "    </tr>\n",
       "  </thead>\n",
       "  <tbody>\n",
       "    <tr>\n",
       "      <th>0</th>\n",
       "      <td>-0.507891</td>\n",
       "      <td>0.417932</td>\n",
       "    </tr>\n",
       "    <tr>\n",
       "      <th>1</th>\n",
       "      <td>-0.506370</td>\n",
       "      <td>0.423833</td>\n",
       "    </tr>\n",
       "    <tr>\n",
       "      <th>2</th>\n",
       "      <td>-0.501622</td>\n",
       "      <td>0.413721</td>\n",
       "    </tr>\n",
       "    <tr>\n",
       "      <th>3</th>\n",
       "      <td>-0.500464</td>\n",
       "      <td>0.406062</td>\n",
       "    </tr>\n",
       "    <tr>\n",
       "      <th>4</th>\n",
       "      <td>-0.499236</td>\n",
       "      <td>0.399044</td>\n",
       "    </tr>\n",
       "    <tr>\n",
       "      <th>...</th>\n",
       "      <td>...</td>\n",
       "      <td>...</td>\n",
       "    </tr>\n",
       "    <tr>\n",
       "      <th>15034</th>\n",
       "      <td>-0.542622</td>\n",
       "      <td>0.406649</td>\n",
       "    </tr>\n",
       "    <tr>\n",
       "      <th>15035</th>\n",
       "      <td>-0.511467</td>\n",
       "      <td>0.460302</td>\n",
       "    </tr>\n",
       "    <tr>\n",
       "      <th>15036</th>\n",
       "      <td>-0.477436</td>\n",
       "      <td>0.555224</td>\n",
       "    </tr>\n",
       "    <tr>\n",
       "      <th>15037</th>\n",
       "      <td>-0.498978</td>\n",
       "      <td>0.532139</td>\n",
       "    </tr>\n",
       "    <tr>\n",
       "      <th>15038</th>\n",
       "      <td>-0.519581</td>\n",
       "      <td>0.484199</td>\n",
       "    </tr>\n",
       "  </tbody>\n",
       "</table>\n",
       "<p>15039 rows × 2 columns</p>\n",
       "</div>"
      ],
      "text/plain": [
       "             X1        X2\n",
       "0     -0.507891  0.417932\n",
       "1     -0.506370  0.423833\n",
       "2     -0.501622  0.413721\n",
       "3     -0.500464  0.406062\n",
       "4     -0.499236  0.399044\n",
       "...         ...       ...\n",
       "15034 -0.542622  0.406649\n",
       "15035 -0.511467  0.460302\n",
       "15036 -0.477436  0.555224\n",
       "15037 -0.498978  0.532139\n",
       "15038 -0.519581  0.484199\n",
       "\n",
       "[15039 rows x 2 columns]"
      ]
     },
     "execution_count": 44,
     "metadata": {},
     "output_type": "execute_result"
    }
   ],
   "source": [
    "pca_decomposition = PCA(n_components=2,random_state=12)\n",
    "X_transformed     = pca_decomposition.fit_transform(X_scaled) #PCA expects data in common scale.\n",
    "X_transformed_df  = pd.DataFrame(data = X_transformed)\n",
    "X_transformed_df.columns = ['X1','X2']\n",
    "X_transformed_df"
   ]
  },
  {
   "cell_type": "code",
   "execution_count": 46,
   "id": "e1b48062",
   "metadata": {},
   "outputs": [],
   "source": [
    "X_train, X_test, y_train, y_test = train_test_split(X_transformed_df, y, test_size=0.2, random_state=12, shuffle=True)"
   ]
  },
  {
   "cell_type": "code",
   "execution_count": 47,
   "id": "2efbb2b0",
   "metadata": {},
   "outputs": [
    {
     "data": {
      "text/plain": [
       "((12031, 2), (3008, 2), (12031, 1), (3008, 1))"
      ]
     },
     "execution_count": 47,
     "metadata": {},
     "output_type": "execute_result"
    }
   ],
   "source": [
    "X_train.shape, X_test.shape , y_train.shape , y_test.shape"
   ]
  },
  {
   "cell_type": "markdown",
   "id": "752e3ba4",
   "metadata": {},
   "source": [
    "#### 5. Model Building\n",
    "5.1 Building the architecture"
   ]
  },
  {
   "cell_type": "code",
   "execution_count": 79,
   "id": "8f502cfe",
   "metadata": {},
   "outputs": [],
   "source": [
    "model = Sequential()"
   ]
  },
  {
   "cell_type": "code",
   "execution_count": 80,
   "id": "a4d0f887",
   "metadata": {},
   "outputs": [
    {
     "name": "stdout",
     "output_type": "stream",
     "text": [
      "Model: \"sequential_2\"\n",
      "_________________________________________________________________\n",
      " Layer (type)                Output Shape              Param #   \n",
      "=================================================================\n",
      " dense_27 (Dense)            (None, 64)                192       \n",
      "                                                                 \n",
      " dense_28 (Dense)            (None, 32)                2080      \n",
      "                                                                 \n",
      " dense_29 (Dense)            (None, 1)                 33        \n",
      "                                                                 \n",
      "=================================================================\n",
      "Total params: 2,305\n",
      "Trainable params: 2,305\n",
      "Non-trainable params: 0\n",
      "_________________________________________________________________\n"
     ]
    }
   ],
   "source": [
    "model.add(Dense(64, input_dim=2, activation='relu'))\n",
    "model.add(Dense(32, activation='relu'))\n",
    "model.add(Dense(1, activation='linear'))\n",
    "model.summary()"
   ]
  },
  {
   "cell_type": "raw",
   "id": "dc7a37df",
   "metadata": {},
   "source": [
    "5.2 Model Compilation"
   ]
  },
  {
   "cell_type": "code",
   "execution_count": 81,
   "id": "d40fba57",
   "metadata": {},
   "outputs": [],
   "source": [
    "model.compile(optimizer='Adam',loss='mean_squared_error',metrics=[tf.keras.metrics.RootMeanSquaredError()])"
   ]
  },
  {
   "cell_type": "markdown",
   "id": "6bb50422",
   "metadata": {},
   "source": [
    "#### 6. Model Training"
   ]
  },
  {
   "cell_type": "code",
   "execution_count": 82,
   "id": "8ec4ab55",
   "metadata": {},
   "outputs": [
    {
     "name": "stdout",
     "output_type": "stream",
     "text": [
      "Epoch 1/40\n",
      "1337/1337 [==============================] - 6s 2ms/step - loss: 2494.2598 - root_mean_squared_error: 49.9426\n",
      "Epoch 2/40\n",
      "1337/1337 [==============================] - 2s 2ms/step - loss: 7.8453 - root_mean_squared_error: 2.8009\n",
      "Epoch 3/40\n",
      "1337/1337 [==============================] - 2s 2ms/step - loss: 4.8068 - root_mean_squared_error: 2.1924\n",
      "Epoch 4/40\n",
      "1337/1337 [==============================] - 2s 2ms/step - loss: 4.5855 - root_mean_squared_error: 2.1414\n",
      "Epoch 5/40\n",
      "1337/1337 [==============================] - 2s 2ms/step - loss: 4.2631 - root_mean_squared_error: 2.0647\n",
      "Epoch 6/40\n",
      "1337/1337 [==============================] - 2s 2ms/step - loss: 4.1104 - root_mean_squared_error: 2.0274\n",
      "Epoch 7/40\n",
      "1337/1337 [==============================] - 2s 2ms/step - loss: 3.9681 - root_mean_squared_error: 1.9920\n",
      "Epoch 8/40\n",
      "1337/1337 [==============================] - 2s 2ms/step - loss: 3.8917 - root_mean_squared_error: 1.9727\n",
      "Epoch 9/40\n",
      "1337/1337 [==============================] - 2s 2ms/step - loss: 3.7764 - root_mean_squared_error: 1.9433\n",
      "Epoch 10/40\n",
      "1337/1337 [==============================] - 2s 2ms/step - loss: 3.7356 - root_mean_squared_error: 1.9328\n",
      "Epoch 11/40\n",
      "1337/1337 [==============================] - 2s 2ms/step - loss: 3.6857 - root_mean_squared_error: 1.9198\n",
      "Epoch 12/40\n",
      "1337/1337 [==============================] - 3s 2ms/step - loss: 3.6563 - root_mean_squared_error: 1.9122\n",
      "Epoch 13/40\n",
      "1337/1337 [==============================] - 2s 2ms/step - loss: 3.6019 - root_mean_squared_error: 1.8979\n",
      "Epoch 14/40\n",
      "1337/1337 [==============================] - 2s 2ms/step - loss: 3.6158 - root_mean_squared_error: 1.9015\n",
      "Epoch 15/40\n",
      "1337/1337 [==============================] - 2s 2ms/step - loss: 3.5957 - root_mean_squared_error: 1.8962\n",
      "Epoch 16/40\n",
      "1337/1337 [==============================] - 2s 2ms/step - loss: 3.5825 - root_mean_squared_error: 1.8928\n",
      "Epoch 17/40\n",
      "1337/1337 [==============================] - 2s 2ms/step - loss: 3.5416 - root_mean_squared_error: 1.8819\n",
      "Epoch 18/40\n",
      "1337/1337 [==============================] - 3s 2ms/step - loss: 3.5109 - root_mean_squared_error: 1.8737\n",
      "Epoch 19/40\n",
      "1337/1337 [==============================] - 3s 2ms/step - loss: 3.5467 - root_mean_squared_error: 1.8833\n",
      "Epoch 20/40\n",
      "1337/1337 [==============================] - 2s 2ms/step - loss: 3.5057 - root_mean_squared_error: 1.8723\n",
      "Epoch 21/40\n",
      "1337/1337 [==============================] - 2s 2ms/step - loss: 3.5859 - root_mean_squared_error: 1.8936\n",
      "Epoch 22/40\n",
      "1337/1337 [==============================] - 2s 2ms/step - loss: 3.5177 - root_mean_squared_error: 1.8756\n",
      "Epoch 23/40\n",
      "1337/1337 [==============================] - 3s 2ms/step - loss: 3.4688 - root_mean_squared_error: 1.8625\n",
      "Epoch 24/40\n",
      "1337/1337 [==============================] - 3s 2ms/step - loss: 3.5363 - root_mean_squared_error: 1.8805\n",
      "Epoch 25/40\n",
      "1337/1337 [==============================] - 2s 2ms/step - loss: 3.5105 - root_mean_squared_error: 1.8736\n",
      "Epoch 26/40\n",
      "1337/1337 [==============================] - 2s 2ms/step - loss: 3.4986 - root_mean_squared_error: 1.8705\n",
      "Epoch 27/40\n",
      "1337/1337 [==============================] - 3s 2ms/step - loss: 3.5270 - root_mean_squared_error: 1.8780\n",
      "Epoch 28/40\n",
      "1337/1337 [==============================] - 2s 2ms/step - loss: 3.5616 - root_mean_squared_error: 1.8872\n",
      "Epoch 29/40\n",
      "1337/1337 [==============================] - 3s 2ms/step - loss: 3.5349 - root_mean_squared_error: 1.8801\n",
      "Epoch 30/40\n",
      "1337/1337 [==============================] - 3s 2ms/step - loss: 3.5089 - root_mean_squared_error: 1.8732\n",
      "Epoch 31/40\n",
      "1337/1337 [==============================] - 3s 2ms/step - loss: 3.5056 - root_mean_squared_error: 1.8723\n",
      "Epoch 32/40\n",
      "1337/1337 [==============================] - 2s 2ms/step - loss: 3.4680 - root_mean_squared_error: 1.8623\n",
      "Epoch 33/40\n",
      "1337/1337 [==============================] - 2s 2ms/step - loss: 3.5027 - root_mean_squared_error: 1.8716\n",
      "Epoch 34/40\n",
      "1337/1337 [==============================] - 2s 2ms/step - loss: 3.4840 - root_mean_squared_error: 1.8665\n",
      "Epoch 35/40\n",
      "1337/1337 [==============================] - 2s 2ms/step - loss: 3.5161 - root_mean_squared_error: 1.8751\n",
      "Epoch 36/40\n",
      "1337/1337 [==============================] - 2s 2ms/step - loss: 3.4407 - root_mean_squared_error: 1.8549\n",
      "Epoch 37/40\n",
      "1337/1337 [==============================] - 2s 2ms/step - loss: 3.5000 - root_mean_squared_error: 1.8708\n",
      "Epoch 38/40\n",
      "1337/1337 [==============================] - 3s 2ms/step - loss: 3.4670 - root_mean_squared_error: 1.8620\n",
      "Epoch 39/40\n",
      "1337/1337 [==============================] - 3s 2ms/step - loss: 3.5292 - root_mean_squared_error: 1.8786\n",
      "Epoch 40/40\n",
      "1337/1337 [==============================] - 2s 2ms/step - loss: 3.4479 - root_mean_squared_error: 1.8569\n"
     ]
    },
    {
     "data": {
      "text/plain": [
       "<keras.callbacks.History at 0x20bb39c4eb0>"
      ]
     },
     "execution_count": 82,
     "metadata": {},
     "output_type": "execute_result"
    }
   ],
   "source": [
    "model.fit(x=X_train,y=y_train,batch_size=9,epochs=40)"
   ]
  },
  {
   "cell_type": "markdown",
   "id": "37651a51",
   "metadata": {},
   "source": [
    "#### 7. Model Testing and Evaluation"
   ]
  },
  {
   "cell_type": "code",
   "execution_count": 83,
   "id": "451a7bec",
   "metadata": {},
   "outputs": [
    {
     "name": "stdout",
     "output_type": "stream",
     "text": [
      "376/376 [==============================] - 1s 2ms/step - loss: 3.1608 - root_mean_squared_error: 1.7779\n"
     ]
    },
    {
     "data": {
      "text/plain": [
       "[3.1608176231384277, 1.7778688669204712]"
      ]
     },
     "execution_count": 83,
     "metadata": {},
     "output_type": "execute_result"
    }
   ],
   "source": [
    "model.evaluate(X_train, y_train)"
   ]
  },
  {
   "cell_type": "code",
   "execution_count": 84,
   "id": "0f1bd5a0",
   "metadata": {},
   "outputs": [
    {
     "name": "stdout",
     "output_type": "stream",
     "text": [
      "94/94 [==============================] - 0s 2ms/step - loss: 3.0785 - root_mean_squared_error: 1.7546\n"
     ]
    },
    {
     "data": {
      "text/plain": [
       "[3.0785112380981445, 1.7545686960220337]"
      ]
     },
     "execution_count": 84,
     "metadata": {},
     "output_type": "execute_result"
    }
   ],
   "source": [
    "model.evaluate(X_test, y_test)"
   ]
  },
  {
   "cell_type": "markdown",
   "id": "c0b4ae48",
   "metadata": {},
   "source": [
    "#### 8. Conclusion"
   ]
  },
  {
   "cell_type": "code",
   "execution_count": null,
   "id": "73b18288",
   "metadata": {},
   "outputs": [],
   "source": []
  }
 ],
 "metadata": {
  "kernelspec": {
   "display_name": "Python 3 (ipykernel)",
   "language": "python",
   "name": "python3"
  },
  "language_info": {
   "codemirror_mode": {
    "name": "ipython",
    "version": 3
   },
   "file_extension": ".py",
   "mimetype": "text/x-python",
   "name": "python",
   "nbconvert_exporter": "python",
   "pygments_lexer": "ipython3",
   "version": "3.9.7"
  }
 },
 "nbformat": 4,
 "nbformat_minor": 5
}

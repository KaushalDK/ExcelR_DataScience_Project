{
 "cells": [
  {
   "cell_type": "code",
   "execution_count": 262,
   "id": "01b0c0c0",
   "metadata": {},
   "outputs": [],
   "source": [
    "import pandas as pd\n",
    "import numpy as np\n",
    "import matplotlib.pyplot as plt\n",
    "import seaborn as sns\n",
    "from sklearn import preprocessing\n",
    "from sklearn.model_selection import train_test_split, GridSearchCV\n",
    "from sklearn.tree import DecisionTreeClassifier, plot_tree\n",
    "from sklearn.ensemble import RandomForestClassifier, GradientBoostingClassifier\n",
    "from sklearn.metrics import accuracy_score, confusion_matrix, classification_report, plot_confusion_matrix\n",
    "import warnings\n",
    "warnings.filterwarnings('ignore')\n"
   ]
  },
  {
   "cell_type": "markdown",
   "id": "66addb7e",
   "metadata": {},
   "source": [
    "### Problem 01 - Company Problem\n",
    "A cloth manufacturing company is interested to know about the segment or attributes causes high sale. \n",
    "Approach - A Random Forest can be built with target variable Sales (we will first convert it in categorical variable) & all other variable will be independent in the analysis.  \n"
   ]
  },
  {
   "cell_type": "markdown",
   "id": "ed62431c",
   "metadata": {},
   "source": [
    "#### A. Import Data"
   ]
  },
  {
   "cell_type": "code",
   "execution_count": 263,
   "id": "d9162d29",
   "metadata": {},
   "outputs": [
    {
     "data": {
      "text/html": [
       "<div>\n",
       "<style scoped>\n",
       "    .dataframe tbody tr th:only-of-type {\n",
       "        vertical-align: middle;\n",
       "    }\n",
       "\n",
       "    .dataframe tbody tr th {\n",
       "        vertical-align: top;\n",
       "    }\n",
       "\n",
       "    .dataframe thead th {\n",
       "        text-align: right;\n",
       "    }\n",
       "</style>\n",
       "<table border=\"1\" class=\"dataframe\">\n",
       "  <thead>\n",
       "    <tr style=\"text-align: right;\">\n",
       "      <th></th>\n",
       "      <th>Sales</th>\n",
       "      <th>CompPrice</th>\n",
       "      <th>Income</th>\n",
       "      <th>Advertising</th>\n",
       "      <th>Population</th>\n",
       "      <th>Price</th>\n",
       "      <th>ShelveLoc</th>\n",
       "      <th>Age</th>\n",
       "      <th>Education</th>\n",
       "      <th>Urban</th>\n",
       "      <th>US</th>\n",
       "    </tr>\n",
       "  </thead>\n",
       "  <tbody>\n",
       "    <tr>\n",
       "      <th>0</th>\n",
       "      <td>9.50</td>\n",
       "      <td>138</td>\n",
       "      <td>73</td>\n",
       "      <td>11</td>\n",
       "      <td>276</td>\n",
       "      <td>120</td>\n",
       "      <td>Bad</td>\n",
       "      <td>42</td>\n",
       "      <td>17</td>\n",
       "      <td>Yes</td>\n",
       "      <td>Yes</td>\n",
       "    </tr>\n",
       "    <tr>\n",
       "      <th>1</th>\n",
       "      <td>11.22</td>\n",
       "      <td>111</td>\n",
       "      <td>48</td>\n",
       "      <td>16</td>\n",
       "      <td>260</td>\n",
       "      <td>83</td>\n",
       "      <td>Good</td>\n",
       "      <td>65</td>\n",
       "      <td>10</td>\n",
       "      <td>Yes</td>\n",
       "      <td>Yes</td>\n",
       "    </tr>\n",
       "    <tr>\n",
       "      <th>2</th>\n",
       "      <td>10.06</td>\n",
       "      <td>113</td>\n",
       "      <td>35</td>\n",
       "      <td>10</td>\n",
       "      <td>269</td>\n",
       "      <td>80</td>\n",
       "      <td>Medium</td>\n",
       "      <td>59</td>\n",
       "      <td>12</td>\n",
       "      <td>Yes</td>\n",
       "      <td>Yes</td>\n",
       "    </tr>\n",
       "    <tr>\n",
       "      <th>3</th>\n",
       "      <td>7.40</td>\n",
       "      <td>117</td>\n",
       "      <td>100</td>\n",
       "      <td>4</td>\n",
       "      <td>466</td>\n",
       "      <td>97</td>\n",
       "      <td>Medium</td>\n",
       "      <td>55</td>\n",
       "      <td>14</td>\n",
       "      <td>Yes</td>\n",
       "      <td>Yes</td>\n",
       "    </tr>\n",
       "    <tr>\n",
       "      <th>4</th>\n",
       "      <td>4.15</td>\n",
       "      <td>141</td>\n",
       "      <td>64</td>\n",
       "      <td>3</td>\n",
       "      <td>340</td>\n",
       "      <td>128</td>\n",
       "      <td>Bad</td>\n",
       "      <td>38</td>\n",
       "      <td>13</td>\n",
       "      <td>Yes</td>\n",
       "      <td>No</td>\n",
       "    </tr>\n",
       "    <tr>\n",
       "      <th>...</th>\n",
       "      <td>...</td>\n",
       "      <td>...</td>\n",
       "      <td>...</td>\n",
       "      <td>...</td>\n",
       "      <td>...</td>\n",
       "      <td>...</td>\n",
       "      <td>...</td>\n",
       "      <td>...</td>\n",
       "      <td>...</td>\n",
       "      <td>...</td>\n",
       "      <td>...</td>\n",
       "    </tr>\n",
       "    <tr>\n",
       "      <th>395</th>\n",
       "      <td>12.57</td>\n",
       "      <td>138</td>\n",
       "      <td>108</td>\n",
       "      <td>17</td>\n",
       "      <td>203</td>\n",
       "      <td>128</td>\n",
       "      <td>Good</td>\n",
       "      <td>33</td>\n",
       "      <td>14</td>\n",
       "      <td>Yes</td>\n",
       "      <td>Yes</td>\n",
       "    </tr>\n",
       "    <tr>\n",
       "      <th>396</th>\n",
       "      <td>6.14</td>\n",
       "      <td>139</td>\n",
       "      <td>23</td>\n",
       "      <td>3</td>\n",
       "      <td>37</td>\n",
       "      <td>120</td>\n",
       "      <td>Medium</td>\n",
       "      <td>55</td>\n",
       "      <td>11</td>\n",
       "      <td>No</td>\n",
       "      <td>Yes</td>\n",
       "    </tr>\n",
       "    <tr>\n",
       "      <th>397</th>\n",
       "      <td>7.41</td>\n",
       "      <td>162</td>\n",
       "      <td>26</td>\n",
       "      <td>12</td>\n",
       "      <td>368</td>\n",
       "      <td>159</td>\n",
       "      <td>Medium</td>\n",
       "      <td>40</td>\n",
       "      <td>18</td>\n",
       "      <td>Yes</td>\n",
       "      <td>Yes</td>\n",
       "    </tr>\n",
       "    <tr>\n",
       "      <th>398</th>\n",
       "      <td>5.94</td>\n",
       "      <td>100</td>\n",
       "      <td>79</td>\n",
       "      <td>7</td>\n",
       "      <td>284</td>\n",
       "      <td>95</td>\n",
       "      <td>Bad</td>\n",
       "      <td>50</td>\n",
       "      <td>12</td>\n",
       "      <td>Yes</td>\n",
       "      <td>Yes</td>\n",
       "    </tr>\n",
       "    <tr>\n",
       "      <th>399</th>\n",
       "      <td>9.71</td>\n",
       "      <td>134</td>\n",
       "      <td>37</td>\n",
       "      <td>0</td>\n",
       "      <td>27</td>\n",
       "      <td>120</td>\n",
       "      <td>Good</td>\n",
       "      <td>49</td>\n",
       "      <td>16</td>\n",
       "      <td>Yes</td>\n",
       "      <td>Yes</td>\n",
       "    </tr>\n",
       "  </tbody>\n",
       "</table>\n",
       "<p>400 rows × 11 columns</p>\n",
       "</div>"
      ],
      "text/plain": [
       "     Sales  CompPrice  Income  Advertising  Population  Price ShelveLoc  Age  \\\n",
       "0     9.50        138      73           11         276    120       Bad   42   \n",
       "1    11.22        111      48           16         260     83      Good   65   \n",
       "2    10.06        113      35           10         269     80    Medium   59   \n",
       "3     7.40        117     100            4         466     97    Medium   55   \n",
       "4     4.15        141      64            3         340    128       Bad   38   \n",
       "..     ...        ...     ...          ...         ...    ...       ...  ...   \n",
       "395  12.57        138     108           17         203    128      Good   33   \n",
       "396   6.14        139      23            3          37    120    Medium   55   \n",
       "397   7.41        162      26           12         368    159    Medium   40   \n",
       "398   5.94        100      79            7         284     95       Bad   50   \n",
       "399   9.71        134      37            0          27    120      Good   49   \n",
       "\n",
       "     Education Urban   US  \n",
       "0           17   Yes  Yes  \n",
       "1           10   Yes  Yes  \n",
       "2           12   Yes  Yes  \n",
       "3           14   Yes  Yes  \n",
       "4           13   Yes   No  \n",
       "..         ...   ...  ...  \n",
       "395         14   Yes  Yes  \n",
       "396         11    No  Yes  \n",
       "397         18   Yes  Yes  \n",
       "398         12   Yes  Yes  \n",
       "399         16   Yes  Yes  \n",
       "\n",
       "[400 rows x 11 columns]"
      ]
     },
     "execution_count": 263,
     "metadata": {},
     "output_type": "execute_result"
    }
   ],
   "source": [
    "data_1 = pd.read_csv('Company_Data.csv')\n",
    "data_2 = pd.read_csv('Company_Data.csv')\n",
    "data_1"
   ]
  },
  {
   "cell_type": "markdown",
   "id": "6d64df0e",
   "metadata": {},
   "source": [
    "#### B. Data Understanding"
   ]
  },
  {
   "cell_type": "code",
   "execution_count": 264,
   "id": "42b57754",
   "metadata": {},
   "outputs": [
    {
     "data": {
      "text/plain": [
       "(400, 11)"
      ]
     },
     "execution_count": 264,
     "metadata": {},
     "output_type": "execute_result"
    }
   ],
   "source": [
    "data_1.shape"
   ]
  },
  {
   "cell_type": "code",
   "execution_count": 265,
   "id": "7146e4c3",
   "metadata": {},
   "outputs": [
    {
     "data": {
      "text/plain": [
       "Sales          0\n",
       "CompPrice      0\n",
       "Income         0\n",
       "Advertising    0\n",
       "Population     0\n",
       "Price          0\n",
       "ShelveLoc      0\n",
       "Age            0\n",
       "Education      0\n",
       "Urban          0\n",
       "US             0\n",
       "dtype: int64"
      ]
     },
     "execution_count": 265,
     "metadata": {},
     "output_type": "execute_result"
    }
   ],
   "source": [
    "data_1.isnull().sum()"
   ]
  },
  {
   "cell_type": "code",
   "execution_count": 266,
   "id": "59058c5b",
   "metadata": {},
   "outputs": [
    {
     "data": {
      "text/plain": [
       "Sales          float64\n",
       "CompPrice        int64\n",
       "Income           int64\n",
       "Advertising      int64\n",
       "Population       int64\n",
       "Price            int64\n",
       "ShelveLoc       object\n",
       "Age              int64\n",
       "Education        int64\n",
       "Urban           object\n",
       "US              object\n",
       "dtype: object"
      ]
     },
     "execution_count": 266,
     "metadata": {},
     "output_type": "execute_result"
    }
   ],
   "source": [
    "data_1.dtypes"
   ]
  },
  {
   "cell_type": "code",
   "execution_count": 267,
   "id": "2e883500",
   "metadata": {},
   "outputs": [
    {
     "data": {
      "text/html": [
       "<div>\n",
       "<style scoped>\n",
       "    .dataframe tbody tr th:only-of-type {\n",
       "        vertical-align: middle;\n",
       "    }\n",
       "\n",
       "    .dataframe tbody tr th {\n",
       "        vertical-align: top;\n",
       "    }\n",
       "\n",
       "    .dataframe thead th {\n",
       "        text-align: right;\n",
       "    }\n",
       "</style>\n",
       "<table border=\"1\" class=\"dataframe\">\n",
       "  <thead>\n",
       "    <tr style=\"text-align: right;\">\n",
       "      <th></th>\n",
       "      <th>Sales</th>\n",
       "      <th>CompPrice</th>\n",
       "      <th>Income</th>\n",
       "      <th>Advertising</th>\n",
       "      <th>Population</th>\n",
       "      <th>Price</th>\n",
       "      <th>Age</th>\n",
       "      <th>Education</th>\n",
       "    </tr>\n",
       "  </thead>\n",
       "  <tbody>\n",
       "    <tr>\n",
       "      <th>count</th>\n",
       "      <td>400.000000</td>\n",
       "      <td>400.000000</td>\n",
       "      <td>400.000000</td>\n",
       "      <td>400.000000</td>\n",
       "      <td>400.000000</td>\n",
       "      <td>400.000000</td>\n",
       "      <td>400.000000</td>\n",
       "      <td>400.000000</td>\n",
       "    </tr>\n",
       "    <tr>\n",
       "      <th>mean</th>\n",
       "      <td>7.496325</td>\n",
       "      <td>124.975000</td>\n",
       "      <td>68.657500</td>\n",
       "      <td>6.635000</td>\n",
       "      <td>264.840000</td>\n",
       "      <td>115.795000</td>\n",
       "      <td>53.322500</td>\n",
       "      <td>13.900000</td>\n",
       "    </tr>\n",
       "    <tr>\n",
       "      <th>std</th>\n",
       "      <td>2.824115</td>\n",
       "      <td>15.334512</td>\n",
       "      <td>27.986037</td>\n",
       "      <td>6.650364</td>\n",
       "      <td>147.376436</td>\n",
       "      <td>23.676664</td>\n",
       "      <td>16.200297</td>\n",
       "      <td>2.620528</td>\n",
       "    </tr>\n",
       "    <tr>\n",
       "      <th>min</th>\n",
       "      <td>0.000000</td>\n",
       "      <td>77.000000</td>\n",
       "      <td>21.000000</td>\n",
       "      <td>0.000000</td>\n",
       "      <td>10.000000</td>\n",
       "      <td>24.000000</td>\n",
       "      <td>25.000000</td>\n",
       "      <td>10.000000</td>\n",
       "    </tr>\n",
       "    <tr>\n",
       "      <th>25%</th>\n",
       "      <td>5.390000</td>\n",
       "      <td>115.000000</td>\n",
       "      <td>42.750000</td>\n",
       "      <td>0.000000</td>\n",
       "      <td>139.000000</td>\n",
       "      <td>100.000000</td>\n",
       "      <td>39.750000</td>\n",
       "      <td>12.000000</td>\n",
       "    </tr>\n",
       "    <tr>\n",
       "      <th>50%</th>\n",
       "      <td>7.490000</td>\n",
       "      <td>125.000000</td>\n",
       "      <td>69.000000</td>\n",
       "      <td>5.000000</td>\n",
       "      <td>272.000000</td>\n",
       "      <td>117.000000</td>\n",
       "      <td>54.500000</td>\n",
       "      <td>14.000000</td>\n",
       "    </tr>\n",
       "    <tr>\n",
       "      <th>75%</th>\n",
       "      <td>9.320000</td>\n",
       "      <td>135.000000</td>\n",
       "      <td>91.000000</td>\n",
       "      <td>12.000000</td>\n",
       "      <td>398.500000</td>\n",
       "      <td>131.000000</td>\n",
       "      <td>66.000000</td>\n",
       "      <td>16.000000</td>\n",
       "    </tr>\n",
       "    <tr>\n",
       "      <th>max</th>\n",
       "      <td>16.270000</td>\n",
       "      <td>175.000000</td>\n",
       "      <td>120.000000</td>\n",
       "      <td>29.000000</td>\n",
       "      <td>509.000000</td>\n",
       "      <td>191.000000</td>\n",
       "      <td>80.000000</td>\n",
       "      <td>18.000000</td>\n",
       "    </tr>\n",
       "  </tbody>\n",
       "</table>\n",
       "</div>"
      ],
      "text/plain": [
       "            Sales   CompPrice      Income  Advertising  Population  \\\n",
       "count  400.000000  400.000000  400.000000   400.000000  400.000000   \n",
       "mean     7.496325  124.975000   68.657500     6.635000  264.840000   \n",
       "std      2.824115   15.334512   27.986037     6.650364  147.376436   \n",
       "min      0.000000   77.000000   21.000000     0.000000   10.000000   \n",
       "25%      5.390000  115.000000   42.750000     0.000000  139.000000   \n",
       "50%      7.490000  125.000000   69.000000     5.000000  272.000000   \n",
       "75%      9.320000  135.000000   91.000000    12.000000  398.500000   \n",
       "max     16.270000  175.000000  120.000000    29.000000  509.000000   \n",
       "\n",
       "            Price         Age   Education  \n",
       "count  400.000000  400.000000  400.000000  \n",
       "mean   115.795000   53.322500   13.900000  \n",
       "std     23.676664   16.200297    2.620528  \n",
       "min     24.000000   25.000000   10.000000  \n",
       "25%    100.000000   39.750000   12.000000  \n",
       "50%    117.000000   54.500000   14.000000  \n",
       "75%    131.000000   66.000000   16.000000  \n",
       "max    191.000000   80.000000   18.000000  "
      ]
     },
     "execution_count": 267,
     "metadata": {},
     "output_type": "execute_result"
    }
   ],
   "source": [
    "data_1.describe()"
   ]
  },
  {
   "cell_type": "code",
   "execution_count": 268,
   "id": "77393719",
   "metadata": {},
   "outputs": [],
   "source": [
    "# From the Targeted column Sales. we can observe mean and median is 7.49, so the threshold is 7.49."
   ]
  },
  {
   "cell_type": "code",
   "execution_count": 269,
   "id": "782d9ca7",
   "metadata": {},
   "outputs": [
    {
     "data": {
      "image/png": "[encoded data removed]",
      "text/plain": [
       "<Figure size 360x360 with 1 Axes>"
      ]
     },
     "metadata": {
      "needs_background": "light"
     },
     "output_type": "display_data"
    },
    {
     "data": {
      "image/png": "[encoded data removed]",
      "text/plain": [
       "<Figure size 360x360 with 1 Axes>"
      ]
     },
     "metadata": {
      "needs_background": "light"
     },
     "output_type": "display_data"
    },
    {
     "data": {
      "image/png": "[encoded data removed]",
      "text/plain": [
       "<Figure size 360x360 with 1 Axes>"
      ]
     },
     "metadata": {
      "needs_background": "light"
     },
     "output_type": "display_data"
    },
    {
     "data": {
      "image/png": "[encoded data removed]",
      "text/plain": [
       "<Figure size 360x360 with 1 Axes>"
      ]
     },
     "metadata": {
      "needs_background": "light"
     },
     "output_type": "display_data"
    },
    {
     "data": {
      "image/png": "[encoded data removed]",
      "text/plain": [
       "<Figure size 360x360 with 1 Axes>"
      ]
     },
     "metadata": {
      "needs_background": "light"
     },
     "output_type": "display_data"
    },
    {
     "data": {
      "image/png": "[encoded data removed]",
      "text/plain": [
       "<Figure size 360x360 with 1 Axes>"
      ]
     },
     "metadata": {
      "needs_background": "light"
     },
     "output_type": "display_data"
    },
    {
     "data": {
      "image/png": "[encoded data removed]",
      "text/plain": [
       "<Figure size 360x360 with 1 Axes>"
      ]
     },
     "metadata": {
      "needs_background": "light"
     },
     "output_type": "display_data"
    },
    {
     "data": {
      "image/png": "[encoded data removed]",
      "text/plain": [
       "<Figure size 360x360 with 1 Axes>"
      ]
     },
     "metadata": {
      "needs_background": "light"
     },
     "output_type": "display_data"
    }
   ],
   "source": [
    "fig, a = plt.subplots(figsize=(5, 5))\n",
    "a = sns.boxplot(data_1['Sales'])\n",
    "fig, b = plt.subplots(figsize=(5, 5))\n",
    "b = sns.boxplot(data_1['CompPrice'])\n",
    "fig, c = plt.subplots(figsize=(5, 5))\n",
    "c = sns.boxplot(data_1['Income'])\n",
    "fig, d = plt.subplots(figsize=(5, 5))\n",
    "d = sns.boxplot(data_1['Advertising'])\n",
    "fig, e = plt.subplots(figsize=(5, 5))\n",
    "e = sns.boxplot(data_1['Population'])\n",
    "fig, f = plt.subplots(figsize=(5, 5))\n",
    "f = sns.boxplot(data_1['Price'])\n",
    "fig, g = plt.subplots(figsize=(5, 5))\n",
    "g = sns.boxplot(data_1['Age'])\n",
    "fig, h = plt.subplots(figsize=(5, 5))\n",
    "h = sns.boxplot(data_1['Education'])"
   ]
  },
  {
   "cell_type": "code",
   "execution_count": 270,
   "id": "0380893f",
   "metadata": {},
   "outputs": [
    {
     "data": {
      "text/html": [
       "<div>\n",
       "<style scoped>\n",
       "    .dataframe tbody tr th:only-of-type {\n",
       "        vertical-align: middle;\n",
       "    }\n",
       "\n",
       "    .dataframe tbody tr th {\n",
       "        vertical-align: top;\n",
       "    }\n",
       "\n",
       "    .dataframe thead th {\n",
       "        text-align: right;\n",
       "    }\n",
       "</style>\n",
       "<table border=\"1\" class=\"dataframe\">\n",
       "  <thead>\n",
       "    <tr style=\"text-align: right;\">\n",
       "      <th></th>\n",
       "      <th>Sales</th>\n",
       "      <th>CompPrice</th>\n",
       "      <th>Income</th>\n",
       "      <th>Advertising</th>\n",
       "      <th>Population</th>\n",
       "      <th>Price</th>\n",
       "      <th>ShelveLoc</th>\n",
       "      <th>Age</th>\n",
       "      <th>Education</th>\n",
       "      <th>Urban</th>\n",
       "      <th>US</th>\n",
       "    </tr>\n",
       "  </thead>\n",
       "  <tbody>\n",
       "    <tr>\n",
       "      <th>376</th>\n",
       "      <td>16.27</td>\n",
       "      <td>141</td>\n",
       "      <td>60</td>\n",
       "      <td>19</td>\n",
       "      <td>319</td>\n",
       "      <td>92</td>\n",
       "      <td>Good</td>\n",
       "      <td>44</td>\n",
       "      <td>11</td>\n",
       "      <td>Yes</td>\n",
       "      <td>Yes</td>\n",
       "    </tr>\n",
       "    <tr>\n",
       "      <th>316</th>\n",
       "      <td>15.63</td>\n",
       "      <td>122</td>\n",
       "      <td>36</td>\n",
       "      <td>5</td>\n",
       "      <td>369</td>\n",
       "      <td>72</td>\n",
       "      <td>Good</td>\n",
       "      <td>35</td>\n",
       "      <td>10</td>\n",
       "      <td>Yes</td>\n",
       "      <td>Yes</td>\n",
       "    </tr>\n",
       "    <tr>\n",
       "      <th>25</th>\n",
       "      <td>14.90</td>\n",
       "      <td>139</td>\n",
       "      <td>32</td>\n",
       "      <td>0</td>\n",
       "      <td>176</td>\n",
       "      <td>82</td>\n",
       "      <td>Good</td>\n",
       "      <td>54</td>\n",
       "      <td>11</td>\n",
       "      <td>No</td>\n",
       "      <td>No</td>\n",
       "    </tr>\n",
       "    <tr>\n",
       "      <th>367</th>\n",
       "      <td>14.37</td>\n",
       "      <td>95</td>\n",
       "      <td>106</td>\n",
       "      <td>0</td>\n",
       "      <td>256</td>\n",
       "      <td>53</td>\n",
       "      <td>Good</td>\n",
       "      <td>52</td>\n",
       "      <td>17</td>\n",
       "      <td>Yes</td>\n",
       "      <td>No</td>\n",
       "    </tr>\n",
       "    <tr>\n",
       "      <th>18</th>\n",
       "      <td>13.91</td>\n",
       "      <td>110</td>\n",
       "      <td>110</td>\n",
       "      <td>0</td>\n",
       "      <td>408</td>\n",
       "      <td>68</td>\n",
       "      <td>Good</td>\n",
       "      <td>46</td>\n",
       "      <td>17</td>\n",
       "      <td>No</td>\n",
       "      <td>Yes</td>\n",
       "    </tr>\n",
       "    <tr>\n",
       "      <th>...</th>\n",
       "      <td>...</td>\n",
       "      <td>...</td>\n",
       "      <td>...</td>\n",
       "      <td>...</td>\n",
       "      <td>...</td>\n",
       "      <td>...</td>\n",
       "      <td>...</td>\n",
       "      <td>...</td>\n",
       "      <td>...</td>\n",
       "      <td>...</td>\n",
       "      <td>...</td>\n",
       "    </tr>\n",
       "    <tr>\n",
       "      <th>57</th>\n",
       "      <td>0.91</td>\n",
       "      <td>93</td>\n",
       "      <td>91</td>\n",
       "      <td>0</td>\n",
       "      <td>22</td>\n",
       "      <td>117</td>\n",
       "      <td>Bad</td>\n",
       "      <td>75</td>\n",
       "      <td>11</td>\n",
       "      <td>Yes</td>\n",
       "      <td>No</td>\n",
       "    </tr>\n",
       "    <tr>\n",
       "      <th>143</th>\n",
       "      <td>0.53</td>\n",
       "      <td>122</td>\n",
       "      <td>88</td>\n",
       "      <td>7</td>\n",
       "      <td>36</td>\n",
       "      <td>159</td>\n",
       "      <td>Bad</td>\n",
       "      <td>28</td>\n",
       "      <td>17</td>\n",
       "      <td>Yes</td>\n",
       "      <td>Yes</td>\n",
       "    </tr>\n",
       "    <tr>\n",
       "      <th>165</th>\n",
       "      <td>0.37</td>\n",
       "      <td>147</td>\n",
       "      <td>58</td>\n",
       "      <td>7</td>\n",
       "      <td>100</td>\n",
       "      <td>191</td>\n",
       "      <td>Bad</td>\n",
       "      <td>27</td>\n",
       "      <td>15</td>\n",
       "      <td>Yes</td>\n",
       "      <td>Yes</td>\n",
       "    </tr>\n",
       "    <tr>\n",
       "      <th>106</th>\n",
       "      <td>0.16</td>\n",
       "      <td>102</td>\n",
       "      <td>33</td>\n",
       "      <td>0</td>\n",
       "      <td>217</td>\n",
       "      <td>139</td>\n",
       "      <td>Medium</td>\n",
       "      <td>70</td>\n",
       "      <td>18</td>\n",
       "      <td>No</td>\n",
       "      <td>No</td>\n",
       "    </tr>\n",
       "    <tr>\n",
       "      <th>174</th>\n",
       "      <td>0.00</td>\n",
       "      <td>139</td>\n",
       "      <td>24</td>\n",
       "      <td>0</td>\n",
       "      <td>358</td>\n",
       "      <td>185</td>\n",
       "      <td>Medium</td>\n",
       "      <td>79</td>\n",
       "      <td>15</td>\n",
       "      <td>No</td>\n",
       "      <td>No</td>\n",
       "    </tr>\n",
       "  </tbody>\n",
       "</table>\n",
       "<p>400 rows × 11 columns</p>\n",
       "</div>"
      ],
      "text/plain": [
       "     Sales  CompPrice  Income  Advertising  Population  Price ShelveLoc  Age  \\\n",
       "376  16.27        141      60           19         319     92      Good   44   \n",
       "316  15.63        122      36            5         369     72      Good   35   \n",
       "25   14.90        139      32            0         176     82      Good   54   \n",
       "367  14.37         95     106            0         256     53      Good   52   \n",
       "18   13.91        110     110            0         408     68      Good   46   \n",
       "..     ...        ...     ...          ...         ...    ...       ...  ...   \n",
       "57    0.91         93      91            0          22    117       Bad   75   \n",
       "143   0.53        122      88            7          36    159       Bad   28   \n",
       "165   0.37        147      58            7         100    191       Bad   27   \n",
       "106   0.16        102      33            0         217    139    Medium   70   \n",
       "174   0.00        139      24            0         358    185    Medium   79   \n",
       "\n",
       "     Education Urban   US  \n",
       "376         11   Yes  Yes  \n",
       "316         10   Yes  Yes  \n",
       "25          11    No   No  \n",
       "367         17   Yes   No  \n",
       "18          17    No  Yes  \n",
       "..         ...   ...  ...  \n",
       "57          11   Yes   No  \n",
       "143         17   Yes  Yes  \n",
       "165         15   Yes  Yes  \n",
       "106         18    No   No  \n",
       "174         15    No   No  \n",
       "\n",
       "[400 rows x 11 columns]"
      ]
     },
     "execution_count": 270,
     "metadata": {},
     "output_type": "execute_result"
    }
   ],
   "source": [
    "data_1.sort_values(by=['Sales'], ascending=False)"
   ]
  },
  {
   "cell_type": "code",
   "execution_count": 271,
   "id": "59d6a9bc",
   "metadata": {},
   "outputs": [],
   "source": [
    "data_1 = data_1.drop(376)"
   ]
  },
  {
   "cell_type": "code",
   "execution_count": 272,
   "id": "6e47fbc3",
   "metadata": {},
   "outputs": [
    {
     "data": {
      "text/html": [
       "<div>\n",
       "<style scoped>\n",
       "    .dataframe tbody tr th:only-of-type {\n",
       "        vertical-align: middle;\n",
       "    }\n",
       "\n",
       "    .dataframe tbody tr th {\n",
       "        vertical-align: top;\n",
       "    }\n",
       "\n",
       "    .dataframe thead th {\n",
       "        text-align: right;\n",
       "    }\n",
       "</style>\n",
       "<table border=\"1\" class=\"dataframe\">\n",
       "  <thead>\n",
       "    <tr style=\"text-align: right;\">\n",
       "      <th></th>\n",
       "      <th>Sales</th>\n",
       "      <th>CompPrice</th>\n",
       "      <th>Income</th>\n",
       "      <th>Advertising</th>\n",
       "      <th>Population</th>\n",
       "      <th>Price</th>\n",
       "      <th>ShelveLoc</th>\n",
       "      <th>Age</th>\n",
       "      <th>Education</th>\n",
       "      <th>Urban</th>\n",
       "      <th>US</th>\n",
       "    </tr>\n",
       "  </thead>\n",
       "  <tbody>\n",
       "    <tr>\n",
       "      <th>316</th>\n",
       "      <td>15.63</td>\n",
       "      <td>122</td>\n",
       "      <td>36</td>\n",
       "      <td>5</td>\n",
       "      <td>369</td>\n",
       "      <td>72</td>\n",
       "      <td>Good</td>\n",
       "      <td>35</td>\n",
       "      <td>10</td>\n",
       "      <td>Yes</td>\n",
       "      <td>Yes</td>\n",
       "    </tr>\n",
       "    <tr>\n",
       "      <th>25</th>\n",
       "      <td>14.90</td>\n",
       "      <td>139</td>\n",
       "      <td>32</td>\n",
       "      <td>0</td>\n",
       "      <td>176</td>\n",
       "      <td>82</td>\n",
       "      <td>Good</td>\n",
       "      <td>54</td>\n",
       "      <td>11</td>\n",
       "      <td>No</td>\n",
       "      <td>No</td>\n",
       "    </tr>\n",
       "    <tr>\n",
       "      <th>367</th>\n",
       "      <td>14.37</td>\n",
       "      <td>95</td>\n",
       "      <td>106</td>\n",
       "      <td>0</td>\n",
       "      <td>256</td>\n",
       "      <td>53</td>\n",
       "      <td>Good</td>\n",
       "      <td>52</td>\n",
       "      <td>17</td>\n",
       "      <td>Yes</td>\n",
       "      <td>No</td>\n",
       "    </tr>\n",
       "    <tr>\n",
       "      <th>18</th>\n",
       "      <td>13.91</td>\n",
       "      <td>110</td>\n",
       "      <td>110</td>\n",
       "      <td>0</td>\n",
       "      <td>408</td>\n",
       "      <td>68</td>\n",
       "      <td>Good</td>\n",
       "      <td>46</td>\n",
       "      <td>17</td>\n",
       "      <td>No</td>\n",
       "      <td>Yes</td>\n",
       "    </tr>\n",
       "    <tr>\n",
       "      <th>30</th>\n",
       "      <td>13.55</td>\n",
       "      <td>125</td>\n",
       "      <td>94</td>\n",
       "      <td>0</td>\n",
       "      <td>447</td>\n",
       "      <td>89</td>\n",
       "      <td>Good</td>\n",
       "      <td>30</td>\n",
       "      <td>12</td>\n",
       "      <td>Yes</td>\n",
       "      <td>No</td>\n",
       "    </tr>\n",
       "    <tr>\n",
       "      <th>...</th>\n",
       "      <td>...</td>\n",
       "      <td>...</td>\n",
       "      <td>...</td>\n",
       "      <td>...</td>\n",
       "      <td>...</td>\n",
       "      <td>...</td>\n",
       "      <td>...</td>\n",
       "      <td>...</td>\n",
       "      <td>...</td>\n",
       "      <td>...</td>\n",
       "      <td>...</td>\n",
       "    </tr>\n",
       "    <tr>\n",
       "      <th>57</th>\n",
       "      <td>0.91</td>\n",
       "      <td>93</td>\n",
       "      <td>91</td>\n",
       "      <td>0</td>\n",
       "      <td>22</td>\n",
       "      <td>117</td>\n",
       "      <td>Bad</td>\n",
       "      <td>75</td>\n",
       "      <td>11</td>\n",
       "      <td>Yes</td>\n",
       "      <td>No</td>\n",
       "    </tr>\n",
       "    <tr>\n",
       "      <th>143</th>\n",
       "      <td>0.53</td>\n",
       "      <td>122</td>\n",
       "      <td>88</td>\n",
       "      <td>7</td>\n",
       "      <td>36</td>\n",
       "      <td>159</td>\n",
       "      <td>Bad</td>\n",
       "      <td>28</td>\n",
       "      <td>17</td>\n",
       "      <td>Yes</td>\n",
       "      <td>Yes</td>\n",
       "    </tr>\n",
       "    <tr>\n",
       "      <th>165</th>\n",
       "      <td>0.37</td>\n",
       "      <td>147</td>\n",
       "      <td>58</td>\n",
       "      <td>7</td>\n",
       "      <td>100</td>\n",
       "      <td>191</td>\n",
       "      <td>Bad</td>\n",
       "      <td>27</td>\n",
       "      <td>15</td>\n",
       "      <td>Yes</td>\n",
       "      <td>Yes</td>\n",
       "    </tr>\n",
       "    <tr>\n",
       "      <th>106</th>\n",
       "      <td>0.16</td>\n",
       "      <td>102</td>\n",
       "      <td>33</td>\n",
       "      <td>0</td>\n",
       "      <td>217</td>\n",
       "      <td>139</td>\n",
       "      <td>Medium</td>\n",
       "      <td>70</td>\n",
       "      <td>18</td>\n",
       "      <td>No</td>\n",
       "      <td>No</td>\n",
       "    </tr>\n",
       "    <tr>\n",
       "      <th>174</th>\n",
       "      <td>0.00</td>\n",
       "      <td>139</td>\n",
       "      <td>24</td>\n",
       "      <td>0</td>\n",
       "      <td>358</td>\n",
       "      <td>185</td>\n",
       "      <td>Medium</td>\n",
       "      <td>79</td>\n",
       "      <td>15</td>\n",
       "      <td>No</td>\n",
       "      <td>No</td>\n",
       "    </tr>\n",
       "  </tbody>\n",
       "</table>\n",
       "<p>399 rows × 11 columns</p>\n",
       "</div>"
      ],
      "text/plain": [
       "     Sales  CompPrice  Income  Advertising  Population  Price ShelveLoc  Age  \\\n",
       "316  15.63        122      36            5         369     72      Good   35   \n",
       "25   14.90        139      32            0         176     82      Good   54   \n",
       "367  14.37         95     106            0         256     53      Good   52   \n",
       "18   13.91        110     110            0         408     68      Good   46   \n",
       "30   13.55        125      94            0         447     89      Good   30   \n",
       "..     ...        ...     ...          ...         ...    ...       ...  ...   \n",
       "57    0.91         93      91            0          22    117       Bad   75   \n",
       "143   0.53        122      88            7          36    159       Bad   28   \n",
       "165   0.37        147      58            7         100    191       Bad   27   \n",
       "106   0.16        102      33            0         217    139    Medium   70   \n",
       "174   0.00        139      24            0         358    185    Medium   79   \n",
       "\n",
       "     Education Urban   US  \n",
       "316         10   Yes  Yes  \n",
       "25          11    No   No  \n",
       "367         17   Yes   No  \n",
       "18          17    No  Yes  \n",
       "30          12   Yes   No  \n",
       "..         ...   ...  ...  \n",
       "57          11   Yes   No  \n",
       "143         17   Yes  Yes  \n",
       "165         15   Yes  Yes  \n",
       "106         18    No   No  \n",
       "174         15    No   No  \n",
       "\n",
       "[399 rows x 11 columns]"
      ]
     },
     "execution_count": 272,
     "metadata": {},
     "output_type": "execute_result"
    }
   ],
   "source": [
    "data_1.sort_values(by=['Sales'], ascending=False)"
   ]
  },
  {
   "cell_type": "code",
   "execution_count": 273,
   "id": "549e60cb",
   "metadata": {},
   "outputs": [],
   "source": [
    "data_1 = data_1.drop(316)"
   ]
  },
  {
   "cell_type": "code",
   "execution_count": 274,
   "id": "7a2d0677",
   "metadata": {},
   "outputs": [
    {
     "data": {
      "image/png": "[encoded data removed]",
      "text/plain": [
       "<Figure size 360x360 with 1 Axes>"
      ]
     },
     "metadata": {
      "needs_background": "light"
     },
     "output_type": "display_data"
    },
    {
     "data": {
      "image/png": "[encoded data removed]",
      "text/plain": [
       "<Figure size 360x360 with 1 Axes>"
      ]
     },
     "metadata": {
      "needs_background": "light"
     },
     "output_type": "display_data"
    },
    {
     "data": {
      "image/png": "[encoded data removed]",
      "text/plain": [
       "<Figure size 360x360 with 1 Axes>"
      ]
     },
     "metadata": {
      "needs_background": "light"
     },
     "output_type": "display_data"
    },
    {
     "data": {
      "image/png": "[encoded data removed]",
      "text/plain": [
       "<Figure size 360x360 with 1 Axes>"
      ]
     },
     "metadata": {
      "needs_background": "light"
     },
     "output_type": "display_data"
    },
    {
     "data": {
      "image/png": "[encoded data removed]",
      "text/plain": [
       "<Figure size 360x360 with 1 Axes>"
      ]
     },
     "metadata": {
      "needs_background": "light"
     },
     "output_type": "display_data"
    },
    {
     "data": {
      "image/png": "[encoded data removed]",
      "text/plain": [
       "<Figure size 360x360 with 1 Axes>"
      ]
     },
     "metadata": {
      "needs_background": "light"
     },
     "output_type": "display_data"
    },
    {
     "data": {
      "image/png": "[encoded data removed]",
      "text/plain": [
       "<Figure size 360x360 with 1 Axes>"
      ]
     },
     "metadata": {
      "needs_background": "light"
     },
     "output_type": "display_data"
    },
    {
     "data": {
      "image/png": "[encoded data removed]",
      "text/plain": [
       "<Figure size 360x360 with 1 Axes>"
      ]
     },
     "metadata": {
      "needs_background": "light"
     },
     "output_type": "display_data"
    }
   ],
   "source": [
    "fig, a = plt.subplots(figsize=(5, 5))\n",
    "a = sns.boxplot(data_1['Sales'])\n",
    "fig, b = plt.subplots(figsize=(5, 5))\n",
    "b = sns.boxplot(data_1['CompPrice'])\n",
    "fig, c = plt.subplots(figsize=(5, 5))\n",
    "c = sns.boxplot(data_1['Income'])\n",
    "fig, d = plt.subplots(figsize=(5, 5))\n",
    "d = sns.boxplot(data_1['Advertising'])\n",
    "fig, e = plt.subplots(figsize=(5, 5))\n",
    "e = sns.boxplot(data_1['Population'])\n",
    "fig, f = plt.subplots(figsize=(5, 5))\n",
    "f = sns.boxplot(data_1['Price'])\n",
    "fig, g = plt.subplots(figsize=(5, 5))\n",
    "g = sns.boxplot(data_1['Age'])\n",
    "fig, h = plt.subplots(figsize=(5, 5))\n",
    "h = sns.boxplot(data_1['Education'])"
   ]
  },
  {
   "cell_type": "code",
   "execution_count": 275,
   "id": "d70590e0",
   "metadata": {},
   "outputs": [
    {
     "data": {
      "text/html": [
       "<div>\n",
       "<style scoped>\n",
       "    .dataframe tbody tr th:only-of-type {\n",
       "        vertical-align: middle;\n",
       "    }\n",
       "\n",
       "    .dataframe tbody tr th {\n",
       "        vertical-align: top;\n",
       "    }\n",
       "\n",
       "    .dataframe thead th {\n",
       "        text-align: right;\n",
       "    }\n",
       "</style>\n",
       "<table border=\"1\" class=\"dataframe\">\n",
       "  <thead>\n",
       "    <tr style=\"text-align: right;\">\n",
       "      <th></th>\n",
       "      <th>Sales</th>\n",
       "      <th>CompPrice</th>\n",
       "      <th>Income</th>\n",
       "      <th>Advertising</th>\n",
       "      <th>Population</th>\n",
       "      <th>Price</th>\n",
       "      <th>ShelveLoc</th>\n",
       "      <th>Age</th>\n",
       "      <th>Education</th>\n",
       "      <th>Urban</th>\n",
       "      <th>US</th>\n",
       "    </tr>\n",
       "  </thead>\n",
       "  <tbody>\n",
       "    <tr>\n",
       "      <th>310</th>\n",
       "      <td>9.53</td>\n",
       "      <td>175</td>\n",
       "      <td>65</td>\n",
       "      <td>29</td>\n",
       "      <td>419</td>\n",
       "      <td>166</td>\n",
       "      <td>Medium</td>\n",
       "      <td>53</td>\n",
       "      <td>12</td>\n",
       "      <td>Yes</td>\n",
       "      <td>Yes</td>\n",
       "    </tr>\n",
       "    <tr>\n",
       "      <th>397</th>\n",
       "      <td>7.41</td>\n",
       "      <td>162</td>\n",
       "      <td>26</td>\n",
       "      <td>12</td>\n",
       "      <td>368</td>\n",
       "      <td>159</td>\n",
       "      <td>Medium</td>\n",
       "      <td>40</td>\n",
       "      <td>18</td>\n",
       "      <td>Yes</td>\n",
       "      <td>Yes</td>\n",
       "    </tr>\n",
       "    <tr>\n",
       "      <th>206</th>\n",
       "      <td>4.97</td>\n",
       "      <td>162</td>\n",
       "      <td>67</td>\n",
       "      <td>0</td>\n",
       "      <td>27</td>\n",
       "      <td>160</td>\n",
       "      <td>Medium</td>\n",
       "      <td>77</td>\n",
       "      <td>17</td>\n",
       "      <td>Yes</td>\n",
       "      <td>Yes</td>\n",
       "    </tr>\n",
       "    <tr>\n",
       "      <th>97</th>\n",
       "      <td>7.45</td>\n",
       "      <td>161</td>\n",
       "      <td>82</td>\n",
       "      <td>5</td>\n",
       "      <td>287</td>\n",
       "      <td>129</td>\n",
       "      <td>Bad</td>\n",
       "      <td>33</td>\n",
       "      <td>16</td>\n",
       "      <td>Yes</td>\n",
       "      <td>Yes</td>\n",
       "    </tr>\n",
       "    <tr>\n",
       "      <th>240</th>\n",
       "      <td>10.31</td>\n",
       "      <td>159</td>\n",
       "      <td>80</td>\n",
       "      <td>0</td>\n",
       "      <td>362</td>\n",
       "      <td>121</td>\n",
       "      <td>Medium</td>\n",
       "      <td>26</td>\n",
       "      <td>18</td>\n",
       "      <td>Yes</td>\n",
       "      <td>No</td>\n",
       "    </tr>\n",
       "    <tr>\n",
       "      <th>...</th>\n",
       "      <td>...</td>\n",
       "      <td>...</td>\n",
       "      <td>...</td>\n",
       "      <td>...</td>\n",
       "      <td>...</td>\n",
       "      <td>...</td>\n",
       "      <td>...</td>\n",
       "      <td>...</td>\n",
       "      <td>...</td>\n",
       "      <td>...</td>\n",
       "      <td>...</td>\n",
       "    </tr>\n",
       "    <tr>\n",
       "      <th>70</th>\n",
       "      <td>9.46</td>\n",
       "      <td>89</td>\n",
       "      <td>81</td>\n",
       "      <td>15</td>\n",
       "      <td>237</td>\n",
       "      <td>99</td>\n",
       "      <td>Good</td>\n",
       "      <td>74</td>\n",
       "      <td>12</td>\n",
       "      <td>Yes</td>\n",
       "      <td>Yes</td>\n",
       "    </tr>\n",
       "    <tr>\n",
       "      <th>75</th>\n",
       "      <td>8.55</td>\n",
       "      <td>88</td>\n",
       "      <td>111</td>\n",
       "      <td>23</td>\n",
       "      <td>480</td>\n",
       "      <td>92</td>\n",
       "      <td>Bad</td>\n",
       "      <td>36</td>\n",
       "      <td>16</td>\n",
       "      <td>No</td>\n",
       "      <td>Yes</td>\n",
       "    </tr>\n",
       "    <tr>\n",
       "      <th>208</th>\n",
       "      <td>7.78</td>\n",
       "      <td>86</td>\n",
       "      <td>54</td>\n",
       "      <td>0</td>\n",
       "      <td>497</td>\n",
       "      <td>64</td>\n",
       "      <td>Bad</td>\n",
       "      <td>33</td>\n",
       "      <td>12</td>\n",
       "      <td>Yes</td>\n",
       "      <td>No</td>\n",
       "    </tr>\n",
       "    <tr>\n",
       "      <th>44</th>\n",
       "      <td>4.16</td>\n",
       "      <td>85</td>\n",
       "      <td>79</td>\n",
       "      <td>6</td>\n",
       "      <td>325</td>\n",
       "      <td>95</td>\n",
       "      <td>Medium</td>\n",
       "      <td>69</td>\n",
       "      <td>13</td>\n",
       "      <td>Yes</td>\n",
       "      <td>Yes</td>\n",
       "    </tr>\n",
       "    <tr>\n",
       "      <th>42</th>\n",
       "      <td>10.43</td>\n",
       "      <td>77</td>\n",
       "      <td>69</td>\n",
       "      <td>0</td>\n",
       "      <td>25</td>\n",
       "      <td>24</td>\n",
       "      <td>Medium</td>\n",
       "      <td>50</td>\n",
       "      <td>18</td>\n",
       "      <td>Yes</td>\n",
       "      <td>No</td>\n",
       "    </tr>\n",
       "  </tbody>\n",
       "</table>\n",
       "<p>398 rows × 11 columns</p>\n",
       "</div>"
      ],
      "text/plain": [
       "     Sales  CompPrice  Income  Advertising  Population  Price ShelveLoc  Age  \\\n",
       "310   9.53        175      65           29         419    166    Medium   53   \n",
       "397   7.41        162      26           12         368    159    Medium   40   \n",
       "206   4.97        162      67            0          27    160    Medium   77   \n",
       "97    7.45        161      82            5         287    129       Bad   33   \n",
       "240  10.31        159      80            0         362    121    Medium   26   \n",
       "..     ...        ...     ...          ...         ...    ...       ...  ...   \n",
       "70    9.46         89      81           15         237     99      Good   74   \n",
       "75    8.55         88     111           23         480     92       Bad   36   \n",
       "208   7.78         86      54            0         497     64       Bad   33   \n",
       "44    4.16         85      79            6         325     95    Medium   69   \n",
       "42   10.43         77      69            0          25     24    Medium   50   \n",
       "\n",
       "     Education Urban   US  \n",
       "310         12   Yes  Yes  \n",
       "397         18   Yes  Yes  \n",
       "206         17   Yes  Yes  \n",
       "97          16   Yes  Yes  \n",
       "240         18   Yes   No  \n",
       "..         ...   ...  ...  \n",
       "70          12   Yes  Yes  \n",
       "75          16    No  Yes  \n",
       "208         12   Yes   No  \n",
       "44          13   Yes  Yes  \n",
       "42          18   Yes   No  \n",
       "\n",
       "[398 rows x 11 columns]"
      ]
     },
     "execution_count": 275,
     "metadata": {},
     "output_type": "execute_result"
    }
   ],
   "source": [
    "data_1.sort_values(by=['CompPrice'], ascending=False)"
   ]
  },
  {
   "cell_type": "code",
   "execution_count": 276,
   "id": "0426f3c6",
   "metadata": {},
   "outputs": [],
   "source": [
    "data_1 = data_1.drop([310,42])"
   ]
  },
  {
   "cell_type": "code",
   "execution_count": 277,
   "id": "4d5c369c",
   "metadata": {},
   "outputs": [],
   "source": [
    "data_1_corr = round(data_1.corr(),1)"
   ]
  },
  {
   "cell_type": "code",
   "execution_count": 279,
   "id": "4743a93a",
   "metadata": {},
   "outputs": [
    {
     "data": {
      "image/png": "[encoded data removed]",
      "text/plain": [
       "<Figure size 360x360 with 1 Axes>"
      ]
     },
     "metadata": {
      "needs_background": "light"
     },
     "output_type": "display_data"
    },
    {
     "data": {
      "image/png": "[encoded data removed]",
      "text/plain": [
       "<Figure size 360x360 with 1 Axes>"
      ]
     },
     "metadata": {
      "needs_background": "light"
     },
     "output_type": "display_data"
    },
    {
     "data": {
      "image/png": "[encoded data removed]",
      "text/plain": [
       "<Figure size 360x360 with 1 Axes>"
      ]
     },
     "metadata": {
      "needs_background": "light"
     },
     "output_type": "display_data"
    },
    {
     "data": {
      "image/png": "[encoded data removed]",
      "text/plain": [
       "<Figure size 360x360 with 1 Axes>"
      ]
     },
     "metadata": {
      "needs_background": "light"
     },
     "output_type": "display_data"
    },
    {
     "data": {
      "image/png": "[encoded data removed]",
      "text/plain": [
       "<Figure size 360x360 with 1 Axes>"
      ]
     },
     "metadata": {
      "needs_background": "light"
     },
     "output_type": "display_data"
    },
    {
     "data": {
      "image/png": "[encoded data removed]",
      "text/plain": [
       "<Figure size 360x360 with 1 Axes>"
      ]
     },
     "metadata": {
      "needs_background": "light"
     },
     "output_type": "display_data"
    },
    {
     "data": {
      "image/png": "[encoded data removed]",
      "text/plain": [
       "<Figure size 360x360 with 1 Axes>"
      ]
     },
     "metadata": {
      "needs_background": "light"
     },
     "output_type": "display_data"
    },
    {
     "data": {
      "image/png": "[encoded data removed]",
      "text/plain": [
       "<Figure size 360x360 with 1 Axes>"
      ]
     },
     "metadata": {
      "needs_background": "light"
     },
     "output_type": "display_data"
    }
   ],
   "source": [
    "fig, a = plt.subplots(figsize=(5, 5))\n",
    "a = sns.boxplot(data_1['Sales'])\n",
    "fig, b = plt.subplots(figsize=(5, 5))\n",
    "b = sns.boxplot(data_1['CompPrice'])\n",
    "fig, c = plt.subplots(figsize=(5, 5))\n",
    "c = sns.boxplot(data_1['Income'])\n",
    "fig, d = plt.subplots(figsize=(5, 5))\n",
    "d = sns.boxplot(data_1['Advertising'])\n",
    "fig, e = plt.subplots(figsize=(5, 5))\n",
    "e = sns.boxplot(data_1['Population'])\n",
    "fig, f = plt.subplots(figsize=(5, 5))\n",
    "f = sns.boxplot(data_1['Price'])\n",
    "fig, g = plt.subplots(figsize=(5, 5))\n",
    "g = sns.boxplot(data_1['Age'])\n",
    "fig, h = plt.subplots(figsize=(5, 5))\n",
    "h = sns.boxplot(data_1['Education'])"
   ]
  },
  {
   "cell_type": "code",
   "execution_count": 280,
   "id": "edbe3cb5",
   "metadata": {},
   "outputs": [
    {
     "data": {
      "text/plain": [
       "<AxesSubplot:>"
      ]
     },
     "execution_count": 280,
     "metadata": {},
     "output_type": "execute_result"
    },
    {
     "data": {
      "image/png": "[encoded data removed]",
      "text/plain": [
       "<Figure size 720x720 with 2 Axes>"
      ]
     },
     "metadata": {
      "needs_background": "light"
     },
     "output_type": "display_data"
    }
   ],
   "source": [
    "plt.figure(figsize=(10,10))\n",
    "sns.heatmap(data_1_corr,annot=True)"
   ]
  },
  {
   "cell_type": "raw",
   "id": "8fb34f9f",
   "metadata": {},
   "source": [
    "Multicollinearity is absent."
   ]
  },
  {
   "cell_type": "markdown",
   "id": "2fc640c5",
   "metadata": {},
   "source": [
    "#### C. Data Preparation"
   ]
  },
  {
   "cell_type": "code",
   "execution_count": 281,
   "id": "2c32eea9",
   "metadata": {},
   "outputs": [],
   "source": [
    "data_1[\"sales\"]=\"small\""
   ]
  },
  {
   "cell_type": "code",
   "execution_count": 282,
   "id": "0df5e139",
   "metadata": {},
   "outputs": [],
   "source": [
    "data_1.loc[data_1[\"Sales\"]>7.49,\"sales\"]=\"large\""
   ]
  },
  {
   "cell_type": "code",
   "execution_count": 283,
   "id": "bfd96345",
   "metadata": {},
   "outputs": [],
   "source": [
    "data_1.drop([\"Sales\"],axis=1,inplace=True)"
   ]
  },
  {
   "cell_type": "code",
   "execution_count": 284,
   "id": "eeeda0ea",
   "metadata": {},
   "outputs": [],
   "source": [
    "data_1 = pd.get_dummies(data_1, columns = ['ShelveLoc','US','Urban'])"
   ]
  },
  {
   "cell_type": "code",
   "execution_count": 285,
   "id": "88811734",
   "metadata": {},
   "outputs": [],
   "source": [
    "X = data_1.drop(labels='sales',axis=1)\n",
    "y = data_1[['sales']]"
   ]
  },
  {
   "cell_type": "code",
   "execution_count": 286,
   "id": "1ff594ea",
   "metadata": {},
   "outputs": [],
   "source": [
    "X_train,X_test,y_train,y_test = train_test_split(X,y,test_size = 0.20,random_state=12,shuffle=True)"
   ]
  },
  {
   "cell_type": "markdown",
   "id": "7952d9fe",
   "metadata": {},
   "source": [
    "#### D. Model Building"
   ]
  },
  {
   "cell_type": "markdown",
   "id": "261d4051",
   "metadata": {},
   "source": [
    "#### 1. Random Forest"
   ]
  },
  {
   "cell_type": "code",
   "execution_count": 287,
   "id": "41c7f08b",
   "metadata": {},
   "outputs": [
    {
     "data": {
      "text/plain": [
       "RandomForestClassifier()"
      ]
     },
     "execution_count": 287,
     "metadata": {},
     "output_type": "execute_result"
    }
   ],
   "source": [
    "rf_classifier_1 = RandomForestClassifier()\n",
    "rf_classifier_1.fit(X_train,y_train)"
   ]
  },
  {
   "cell_type": "code",
   "execution_count": 288,
   "id": "03d0af2a",
   "metadata": {},
   "outputs": [],
   "source": [
    "y_train_pred_rf = rf_classifier_1.predict(X_train)"
   ]
  },
  {
   "cell_type": "code",
   "execution_count": 289,
   "id": "4815d7eb",
   "metadata": {},
   "outputs": [
    {
     "data": {
      "text/plain": [
       "1.0"
      ]
     },
     "execution_count": 289,
     "metadata": {},
     "output_type": "execute_result"
    }
   ],
   "source": [
    "accuracy_score(y_train,y_train_pred_rf)"
   ]
  },
  {
   "cell_type": "code",
   "execution_count": 290,
   "id": "32202b79",
   "metadata": {},
   "outputs": [
    {
     "name": "stdout",
     "output_type": "stream",
     "text": [
      "              precision    recall  f1-score   support\n",
      "\n",
      "       large       1.00      1.00      1.00       153\n",
      "       small       1.00      1.00      1.00       163\n",
      "\n",
      "    accuracy                           1.00       316\n",
      "   macro avg       1.00      1.00      1.00       316\n",
      "weighted avg       1.00      1.00      1.00       316\n",
      "\n"
     ]
    }
   ],
   "source": [
    "print(classification_report(y_train,y_train_pred_rf))"
   ]
  },
  {
   "cell_type": "code",
   "execution_count": 291,
   "id": "6f61861c",
   "metadata": {},
   "outputs": [
    {
     "name": "stdout",
     "output_type": "stream",
     "text": [
      "[[153   0]\n",
      " [  0 163]]\n"
     ]
    }
   ],
   "source": [
    "print(confusion_matrix(y_train,y_train_pred_rf))"
   ]
  },
  {
   "cell_type": "code",
   "execution_count": 292,
   "id": "25fc9d5b",
   "metadata": {},
   "outputs": [],
   "source": [
    "y_test_pred_rf = rf_classifier_1.predict(X_test)"
   ]
  },
  {
   "cell_type": "code",
   "execution_count": 293,
   "id": "dc5bf701",
   "metadata": {},
   "outputs": [
    {
     "name": "stdout",
     "output_type": "stream",
     "text": [
      "0.75\n"
     ]
    }
   ],
   "source": [
    "print(accuracy_score(y_test,y_test_pred_rf))"
   ]
  },
  {
   "cell_type": "code",
   "execution_count": 294,
   "id": "4f6de960",
   "metadata": {},
   "outputs": [
    {
     "name": "stdout",
     "output_type": "stream",
     "text": [
      "Classification Report:\n",
      "               precision    recall  f1-score   support\n",
      "\n",
      "       large       0.78      0.74      0.76        42\n",
      "       small       0.72      0.76      0.74        38\n",
      "\n",
      "    accuracy                           0.75        80\n",
      "   macro avg       0.75      0.75      0.75        80\n",
      "weighted avg       0.75      0.75      0.75        80\n",
      "\n"
     ]
    }
   ],
   "source": [
    "print('Classification Report:\\n',classification_report(y_test,y_test_pred_rf))"
   ]
  },
  {
   "cell_type": "code",
   "execution_count": 295,
   "id": "d2682ed7",
   "metadata": {},
   "outputs": [
    {
     "name": "stdout",
     "output_type": "stream",
     "text": [
      "Confusion Matrix:\n",
      " [[31 11]\n",
      " [ 9 29]]\n"
     ]
    }
   ],
   "source": [
    "print('Confusion Matrix:\\n',confusion_matrix(y_test,y_test_pred_rf))"
   ]
  },
  {
   "cell_type": "code",
   "execution_count": 296,
   "id": "8bb76916",
   "metadata": {},
   "outputs": [
    {
     "data": {
      "text/plain": [
       "(<sklearn.metrics._plot.confusion_matrix.ConfusionMatrixDisplay at 0x26840d8d910>,\n",
       " <sklearn.metrics._plot.confusion_matrix.ConfusionMatrixDisplay at 0x268410b34f0>)"
      ]
     },
     "execution_count": 296,
     "metadata": {},
     "output_type": "execute_result"
    },
    {
     "data": {
      "image/png": "[encoded data removed]",
      "text/plain": [
       "<Figure size 360x360 with 2 Axes>"
      ]
     },
     "metadata": {
      "needs_background": "light"
     },
     "output_type": "display_data"
    },
    {
     "data": {
      "image/png": "[encoded data removed]",
      "text/plain": [
       "<Figure size 360x360 with 2 Axes>"
      ]
     },
     "metadata": {
      "needs_background": "light"
     },
     "output_type": "display_data"
    }
   ],
   "source": [
    "fig, ax = plt.subplots(figsize=(5, 5))\n",
    "fig, bx = plt.subplots(figsize=(5, 5))\n",
    "plot_confusion_matrix(rf_classifier_1,X_train,y_train, ax = ax), plot_confusion_matrix(rf_classifier_1,X_test,y_test, ax = bx)"
   ]
  },
  {
   "cell_type": "markdown",
   "id": "cb7ff9a2",
   "metadata": {},
   "source": [
    "#### from above we can observe that training accuracy is 100% while test accuracy is 75 % for the Random Forest Classifier. \n",
    "#### Model is clearly overfitted we can tackle this over fitting problem by using GridSearchCV."
   ]
  },
  {
   "cell_type": "markdown",
   "id": "4b48e3d9",
   "metadata": {},
   "source": [
    "#### 2. Gradient Boosting"
   ]
  },
  {
   "cell_type": "code",
   "execution_count": 297,
   "id": "b4959143",
   "metadata": {},
   "outputs": [
    {
     "data": {
      "text/plain": [
       "GradientBoostingClassifier()"
      ]
     },
     "execution_count": 297,
     "metadata": {},
     "output_type": "execute_result"
    }
   ],
   "source": [
    "gb_classifier_1 = GradientBoostingClassifier()\n",
    "gb_classifier_1.fit(X_train,y_train)"
   ]
  },
  {
   "cell_type": "code",
   "execution_count": 298,
   "id": "ef91ffab",
   "metadata": {},
   "outputs": [],
   "source": [
    "y_train_pred_gb = gb_classifier_1.predict(X_train)"
   ]
  },
  {
   "cell_type": "code",
   "execution_count": 299,
   "id": "c97665a4",
   "metadata": {},
   "outputs": [
    {
     "data": {
      "text/plain": [
       "0.9936708860759493"
      ]
     },
     "execution_count": 299,
     "metadata": {},
     "output_type": "execute_result"
    }
   ],
   "source": [
    "accuracy_score(y_train,y_train_pred_gb)"
   ]
  },
  {
   "cell_type": "code",
   "execution_count": 300,
   "id": "f49322e0",
   "metadata": {},
   "outputs": [
    {
     "name": "stdout",
     "output_type": "stream",
     "text": [
      "              precision    recall  f1-score   support\n",
      "\n",
      "       large       0.99      1.00      0.99       153\n",
      "       small       1.00      0.99      0.99       163\n",
      "\n",
      "    accuracy                           0.99       316\n",
      "   macro avg       0.99      0.99      0.99       316\n",
      "weighted avg       0.99      0.99      0.99       316\n",
      "\n"
     ]
    }
   ],
   "source": [
    "print(classification_report(y_train,y_train_pred_gb))"
   ]
  },
  {
   "cell_type": "code",
   "execution_count": 301,
   "id": "d789d50a",
   "metadata": {},
   "outputs": [
    {
     "name": "stdout",
     "output_type": "stream",
     "text": [
      "[[153   0]\n",
      " [  2 161]]\n"
     ]
    }
   ],
   "source": [
    "print(confusion_matrix(y_train,y_train_pred_gb))"
   ]
  },
  {
   "cell_type": "code",
   "execution_count": 302,
   "id": "0a08218c",
   "metadata": {},
   "outputs": [],
   "source": [
    "y_test_pred_gb = gb_classifier_1.predict(X_test)"
   ]
  },
  {
   "cell_type": "code",
   "execution_count": 303,
   "id": "325e6e8b",
   "metadata": {},
   "outputs": [
    {
     "name": "stdout",
     "output_type": "stream",
     "text": [
      "0.8125\n"
     ]
    }
   ],
   "source": [
    "print(accuracy_score(y_test,y_test_pred_gb))"
   ]
  },
  {
   "cell_type": "code",
   "execution_count": 304,
   "id": "a1cbcbf3",
   "metadata": {},
   "outputs": [
    {
     "name": "stdout",
     "output_type": "stream",
     "text": [
      "Classification Report:\n",
      "               precision    recall  f1-score   support\n",
      "\n",
      "       large       0.78      0.74      0.76        42\n",
      "       small       0.72      0.76      0.74        38\n",
      "\n",
      "    accuracy                           0.75        80\n",
      "   macro avg       0.75      0.75      0.75        80\n",
      "weighted avg       0.75      0.75      0.75        80\n",
      "\n"
     ]
    }
   ],
   "source": [
    "print('Classification Report:\\n',classification_report(y_test,y_test_pred_rf))"
   ]
  },
  {
   "cell_type": "code",
   "execution_count": 305,
   "id": "640883b7",
   "metadata": {},
   "outputs": [
    {
     "name": "stdout",
     "output_type": "stream",
     "text": [
      "Confusion Matrix:\n",
      " [[34  8]\n",
      " [ 7 31]]\n"
     ]
    }
   ],
   "source": [
    "print('Confusion Matrix:\\n',confusion_matrix(y_test,y_test_pred_gb))"
   ]
  },
  {
   "cell_type": "code",
   "execution_count": 306,
   "id": "facf70fb",
   "metadata": {},
   "outputs": [
    {
     "data": {
      "text/plain": [
       "(<sklearn.metrics._plot.confusion_matrix.ConfusionMatrixDisplay at 0x26842f4feb0>,\n",
       " <sklearn.metrics._plot.confusion_matrix.ConfusionMatrixDisplay at 0x26842f3ab50>)"
      ]
     },
     "execution_count": 306,
     "metadata": {},
     "output_type": "execute_result"
    },
    {
     "data": {
      "image/png": "[encoded data removed]",
      "text/plain": [
       "<Figure size 360x360 with 2 Axes>"
      ]
     },
     "metadata": {
      "needs_background": "light"
     },
     "output_type": "display_data"
    },
    {
     "data": {
      "image/png": "[encoded data removed]",
      "text/plain": [
       "<Figure size 360x360 with 2 Axes>"
      ]
     },
     "metadata": {
      "needs_background": "light"
     },
     "output_type": "display_data"
    }
   ],
   "source": [
    "fig, ax = plt.subplots(figsize=(5, 5))\n",
    "fig, bx = plt.subplots(figsize=(5, 5))\n",
    "plot_confusion_matrix(gb_classifier_1,X_train,y_train, ax = ax), plot_confusion_matrix(gb_classifier_1,X_test,y_test, ax = bx)"
   ]
  },
  {
   "cell_type": "markdown",
   "id": "ebd0b952",
   "metadata": {},
   "source": [
    "#### from above we can observe that training accuracy is 99% while test accuracy is 81.25% for The Gradient Boosting Model. \n",
    "#### Model is clearly overfitted we can tackle this over fitting problem by using GridSearchCV."
   ]
  },
  {
   "cell_type": "raw",
   "id": "fd91e04d",
   "metadata": {},
   "source": [
    "Model without droping outliers"
   ]
  },
  {
   "cell_type": "markdown",
   "id": "599f2f53",
   "metadata": {},
   "source": [
    "#### 1. Random Forest"
   ]
  },
  {
   "cell_type": "code",
   "execution_count": 307,
   "id": "c423c1ac",
   "metadata": {},
   "outputs": [],
   "source": [
    "data_2[\"sales\"]=\"small\""
   ]
  },
  {
   "cell_type": "code",
   "execution_count": 308,
   "id": "1c4e3b17",
   "metadata": {},
   "outputs": [],
   "source": [
    "data_2.loc[data_2[\"Sales\"]>7.49,\"sales\"]=\"large\""
   ]
  },
  {
   "cell_type": "code",
   "execution_count": 309,
   "id": "c5898ff3",
   "metadata": {},
   "outputs": [],
   "source": [
    "data_2.drop([\"Sales\"],axis=1,inplace=True)"
   ]
  },
  {
   "cell_type": "code",
   "execution_count": 310,
   "id": "b2be5305",
   "metadata": {},
   "outputs": [],
   "source": [
    "data_2 = pd.get_dummies(data_2, columns = ['ShelveLoc','US','Urban'])"
   ]
  },
  {
   "cell_type": "code",
   "execution_count": 311,
   "id": "10e7bcdc",
   "metadata": {},
   "outputs": [],
   "source": [
    "X_2 = data_2.drop(labels='sales',axis=1)\n",
    "y_2 = data_2[['sales']]"
   ]
  },
  {
   "cell_type": "code",
   "execution_count": 312,
   "id": "76e5c7a7",
   "metadata": {},
   "outputs": [],
   "source": [
    "X_train_2,X_test_2,y_train_2,y_test_2 = train_test_split(X_2,y_2,test_size = 0.20,random_state=12,shuffle=True)"
   ]
  },
  {
   "cell_type": "code",
   "execution_count": 313,
   "id": "59edbf28",
   "metadata": {},
   "outputs": [
    {
     "data": {
      "text/plain": [
       "RandomForestClassifier()"
      ]
     },
     "execution_count": 313,
     "metadata": {},
     "output_type": "execute_result"
    }
   ],
   "source": [
    "rf_classifier_2 = RandomForestClassifier()\n",
    "rf_classifier_2.fit(X_train_2,y_train_2)"
   ]
  },
  {
   "cell_type": "code",
   "execution_count": 314,
   "id": "3ade6d4e",
   "metadata": {},
   "outputs": [],
   "source": [
    "y_train_pred_rf_2 = rf_classifier_2.predict(X_train_2)"
   ]
  },
  {
   "cell_type": "code",
   "execution_count": 315,
   "id": "6fc2b805",
   "metadata": {},
   "outputs": [
    {
     "data": {
      "text/plain": [
       "1.0"
      ]
     },
     "execution_count": 315,
     "metadata": {},
     "output_type": "execute_result"
    }
   ],
   "source": [
    "accuracy_score(y_train_2,y_train_pred_rf_2)"
   ]
  },
  {
   "cell_type": "code",
   "execution_count": 316,
   "id": "2ed56ade",
   "metadata": {},
   "outputs": [
    {
     "name": "stdout",
     "output_type": "stream",
     "text": [
      "              precision    recall  f1-score   support\n",
      "\n",
      "       large       1.00      1.00      1.00       159\n",
      "       small       1.00      1.00      1.00       161\n",
      "\n",
      "    accuracy                           1.00       320\n",
      "   macro avg       1.00      1.00      1.00       320\n",
      "weighted avg       1.00      1.00      1.00       320\n",
      "\n"
     ]
    }
   ],
   "source": [
    "print(classification_report(y_train_2,y_train_pred_rf_2))"
   ]
  },
  {
   "cell_type": "code",
   "execution_count": 317,
   "id": "7fd90a50",
   "metadata": {},
   "outputs": [
    {
     "name": "stdout",
     "output_type": "stream",
     "text": [
      "[[159   0]\n",
      " [  0 161]]\n"
     ]
    }
   ],
   "source": [
    "print(confusion_matrix(y_train_2,y_train_pred_rf_2))"
   ]
  },
  {
   "cell_type": "code",
   "execution_count": 318,
   "id": "e34be025",
   "metadata": {},
   "outputs": [],
   "source": [
    "y_test_pred_rf_2 = rf_classifier_2.predict(X_test_2)"
   ]
  },
  {
   "cell_type": "code",
   "execution_count": 319,
   "id": "6b7f40dc",
   "metadata": {},
   "outputs": [
    {
     "name": "stdout",
     "output_type": "stream",
     "text": [
      "0.8125\n"
     ]
    }
   ],
   "source": [
    "print(accuracy_score(y_test_2,y_test_pred_rf_2))"
   ]
  },
  {
   "cell_type": "code",
   "execution_count": 320,
   "id": "e73ceb9c",
   "metadata": {},
   "outputs": [
    {
     "name": "stdout",
     "output_type": "stream",
     "text": [
      "Classification Report:\n",
      "               precision    recall  f1-score   support\n",
      "\n",
      "       large       0.90      0.70      0.79        40\n",
      "       small       0.76      0.93      0.83        40\n",
      "\n",
      "    accuracy                           0.81        80\n",
      "   macro avg       0.83      0.81      0.81        80\n",
      "weighted avg       0.83      0.81      0.81        80\n",
      "\n"
     ]
    }
   ],
   "source": [
    "print('Classification Report:\\n',classification_report(y_test_2,y_test_pred_rf_2))"
   ]
  },
  {
   "cell_type": "code",
   "execution_count": 321,
   "id": "9daab082",
   "metadata": {},
   "outputs": [
    {
     "name": "stdout",
     "output_type": "stream",
     "text": [
      "Confusion Matrix:\n",
      " [[28 12]\n",
      " [ 3 37]]\n"
     ]
    }
   ],
   "source": [
    "print('Confusion Matrix:\\n',confusion_matrix(y_test_2,y_test_pred_rf_2))"
   ]
  },
  {
   "cell_type": "code",
   "execution_count": 322,
   "id": "94db64fc",
   "metadata": {},
   "outputs": [
    {
     "data": {
      "text/plain": [
       "(<sklearn.metrics._plot.confusion_matrix.ConfusionMatrixDisplay at 0x268430ab7c0>,\n",
       " <sklearn.metrics._plot.confusion_matrix.ConfusionMatrixDisplay at 0x26843130100>)"
      ]
     },
     "execution_count": 322,
     "metadata": {},
     "output_type": "execute_result"
    },
    {
     "data": {
      "image/png": "[encoded data removed]",
      "text/plain": [
       "<Figure size 360x360 with 2 Axes>"
      ]
     },
     "metadata": {
      "needs_background": "light"
     },
     "output_type": "display_data"
    },
    {
     "data": {
      "image/png": "[encoded data removed]",
      "text/plain": [
       "<Figure size 360x360 with 2 Axes>"
      ]
     },
     "metadata": {
      "needs_background": "light"
     },
     "output_type": "display_data"
    }
   ],
   "source": [
    "fig, ax = plt.subplots(figsize=(5, 5))\n",
    "fig, bx = plt.subplots(figsize=(5, 5))\n",
    "plot_confusion_matrix(rf_classifier_2,X_train_2,y_train_2, ax = ax), plot_confusion_matrix(rf_classifier_2,X_test_2,y_test_2, ax = bx)"
   ]
  },
  {
   "cell_type": "markdown",
   "id": "8476016b",
   "metadata": {},
   "source": [
    "#### from above we can observe that training accuracy is 100% while test accuracy is 81.25 % for the Random Forest Classifier. \n",
    "#### Model is clearly overfitted we can tackle this over fitting problem by using GridSearchCV."
   ]
  },
  {
   "cell_type": "markdown",
   "id": "8da05f30",
   "metadata": {},
   "source": [
    "#### 2. Gradient Boosting"
   ]
  },
  {
   "cell_type": "code",
   "execution_count": null,
   "id": "ffff6f60",
   "metadata": {},
   "outputs": [],
   "source": []
  },
  {
   "cell_type": "code",
   "execution_count": 323,
   "id": "e6e28173",
   "metadata": {},
   "outputs": [
    {
     "data": {
      "text/plain": [
       "GradientBoostingClassifier()"
      ]
     },
     "execution_count": 323,
     "metadata": {},
     "output_type": "execute_result"
    }
   ],
   "source": [
    "gb_classifier_2 = GradientBoostingClassifier()\n",
    "gb_classifier_2.fit(X_train_2,y_train_2)"
   ]
  },
  {
   "cell_type": "code",
   "execution_count": 324,
   "id": "d59dee32",
   "metadata": {},
   "outputs": [],
   "source": [
    "y_train_pred_gb_2 = gb_classifier_2.predict(X_train_2)"
   ]
  },
  {
   "cell_type": "code",
   "execution_count": 325,
   "id": "077adadd",
   "metadata": {},
   "outputs": [
    {
     "data": {
      "text/plain": [
       "0.990625"
      ]
     },
     "execution_count": 325,
     "metadata": {},
     "output_type": "execute_result"
    }
   ],
   "source": [
    "accuracy_score(y_train_2,y_train_pred_gb_2)"
   ]
  },
  {
   "cell_type": "code",
   "execution_count": 326,
   "id": "af4a4ac1",
   "metadata": {},
   "outputs": [
    {
     "name": "stdout",
     "output_type": "stream",
     "text": [
      "              precision    recall  f1-score   support\n",
      "\n",
      "       large       0.99      0.99      0.99       159\n",
      "       small       0.99      0.99      0.99       161\n",
      "\n",
      "    accuracy                           0.99       320\n",
      "   macro avg       0.99      0.99      0.99       320\n",
      "weighted avg       0.99      0.99      0.99       320\n",
      "\n"
     ]
    }
   ],
   "source": [
    "print(classification_report(y_train_2,y_train_pred_gb_2))"
   ]
  },
  {
   "cell_type": "code",
   "execution_count": 327,
   "id": "20ac0847",
   "metadata": {},
   "outputs": [
    {
     "name": "stdout",
     "output_type": "stream",
     "text": [
      "[[157   2]\n",
      " [  1 160]]\n"
     ]
    }
   ],
   "source": [
    "print(confusion_matrix(y_train_2,y_train_pred_gb_2))"
   ]
  },
  {
   "cell_type": "code",
   "execution_count": 328,
   "id": "d5d63d6a",
   "metadata": {},
   "outputs": [],
   "source": [
    "y_test_pred_gb_2 = gb_classifier_2.predict(X_test_2)"
   ]
  },
  {
   "cell_type": "code",
   "execution_count": 329,
   "id": "90a67600",
   "metadata": {},
   "outputs": [
    {
     "name": "stdout",
     "output_type": "stream",
     "text": [
      "0.8375\n"
     ]
    }
   ],
   "source": [
    "print(accuracy_score(y_test_2,y_test_pred_gb_2))"
   ]
  },
  {
   "cell_type": "code",
   "execution_count": 330,
   "id": "7c3a3940",
   "metadata": {},
   "outputs": [
    {
     "name": "stdout",
     "output_type": "stream",
     "text": [
      "Classification Report:\n",
      "               precision    recall  f1-score   support\n",
      "\n",
      "       large       0.86      0.80      0.83        40\n",
      "       small       0.81      0.88      0.84        40\n",
      "\n",
      "    accuracy                           0.84        80\n",
      "   macro avg       0.84      0.84      0.84        80\n",
      "weighted avg       0.84      0.84      0.84        80\n",
      "\n"
     ]
    }
   ],
   "source": [
    "print('Classification Report:\\n',classification_report(y_test_2,y_test_pred_gb_2))"
   ]
  },
  {
   "cell_type": "code",
   "execution_count": 331,
   "id": "7e18fe1b",
   "metadata": {},
   "outputs": [
    {
     "data": {
      "text/plain": [
       "(<sklearn.metrics._plot.confusion_matrix.ConfusionMatrixDisplay at 0x26843360130>,\n",
       " <sklearn.metrics._plot.confusion_matrix.ConfusionMatrixDisplay at 0x26843340eb0>)"
      ]
     },
     "execution_count": 331,
     "metadata": {},
     "output_type": "execute_result"
    },
    {
     "data": {
      "image/png": "[encoded data removed]",
      "text/plain": [
       "<Figure size 360x360 with 2 Axes>"
      ]
     },
     "metadata": {
      "needs_background": "light"
     },
     "output_type": "display_data"
    },
    {
     "data": {
      "image/png": "[encoded data removed]",
      "text/plain": [
       "<Figure size 360x360 with 2 Axes>"
      ]
     },
     "metadata": {
      "needs_background": "light"
     },
     "output_type": "display_data"
    }
   ],
   "source": [
    "fig, ax = plt.subplots(figsize=(5, 5))\n",
    "fig, bx = plt.subplots(figsize=(5, 5))\n",
    "plot_confusion_matrix(gb_classifier_2,X_train_2,y_train_2, ax = ax), plot_confusion_matrix(gb_classifier_2,X_test_2,y_test_2, ax = bx)"
   ]
  },
  {
   "cell_type": "markdown",
   "id": "4fa82c20",
   "metadata": {},
   "source": [
    "#### from above we can observe that training accuracy is 99% while test accuracy is 83.75% for The Gradient Boosting Model. \n",
    "#### Model is clearly overfitted we can tackle this over fitting problem by using GridSearchCV."
   ]
  },
  {
   "cell_type": "markdown",
   "id": "216d4272",
   "metadata": {},
   "source": [
    "### By dropping outliers accuracy is reduced"
   ]
  },
  {
   "cell_type": "code",
   "execution_count": null,
   "id": "1ff7e969",
   "metadata": {},
   "outputs": [],
   "source": []
  },
  {
   "cell_type": "markdown",
   "id": "a64e35e5",
   "metadata": {},
   "source": [
    "### Conclusion - "
   ]
  },
  {
   "cell_type": "raw",
   "id": "bac1df21",
   "metadata": {},
   "source": [
    "Bagging and boosting are used for reducing the overfitting problem from the decision tree classifier.\n",
    "-High accuracy is one the feature of the Random Forest Model which means training is highly accurate (100%) on expense less accuracy for testing.\n",
    "-High Stability is one the feature of the gradient boosting which means diifference between training and testing accuracy is less but on the expense of training accuracy(99%).\n",
    "-also in above study by removing outliers directly in data understanding phase hampers the training og the model.\n",
    "with further study using Cooks Distance methods(Performed in Next assigm=nment) can yield better results."
   ]
  },
  {
   "cell_type": "code",
   "execution_count": null,
   "id": "be0025ad",
   "metadata": {},
   "outputs": [],
   "source": []
  }
 ],
 "metadata": {
  "kernelspec": {
   "display_name": "Python 3 (ipykernel)",
   "language": "python",
   "name": "python3"
  },
  "language_info": {
   "codemirror_mode": {
    "name": "ipython",
    "version": 3
   },
   "file_extension": ".py",
   "mimetype": "text/x-python",
   "name": "python",
   "nbconvert_exporter": "python",
   "pygments_lexer": "ipython3",
   "version": "3.9.7"
  }
 },
 "nbformat": 4,
 "nbformat_minor": 5
}

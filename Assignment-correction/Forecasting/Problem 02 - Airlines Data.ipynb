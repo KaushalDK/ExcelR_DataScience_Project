{
 "cells": [
  {
   "cell_type": "markdown",
   "id": "db57aff4",
   "metadata": {},
   "source": [
    "### Problem 01 - Airlines Data\n",
    "Forecast the Airlines Data prices. Prepare a document for each model explaining,how many dummy variables you have created and RMSE value for each model. Finally which model you will use for Forecasting."
   ]
  },
  {
   "cell_type": "markdown",
   "id": "bce4c7ba",
   "metadata": {},
   "source": [
    "#### 1. Importing Necessary Libraries"
   ]
  },
  {
   "cell_type": "code",
   "execution_count": 4,
   "id": "3af950c2",
   "metadata": {},
   "outputs": [],
   "source": [
    "import pandas as pd\n",
    "import numpy as np\n",
    "import seaborn as sns \n",
    "import matplotlib.pyplot as plt\n",
    "from sklearn.preprocessing import minmax_scale, StandardScaler\n",
    "from pandas.plotting import lag_plot\n",
    "from statsmodels.graphics.tsaplots import plot_acf\n",
    "import statsmodels.formula.api as smf \n",
    "from statsmodels.tsa.seasonal import seasonal_decompose\n",
    "from statsmodels.tsa.holtwinters import SimpleExpSmoothing # SES\n",
    "from statsmodels.tsa.holtwinters import Holt # Holts Exponential Smoothing\n",
    "from statsmodels.tsa.holtwinters import ExponentialSmoothing\n",
    "from statsmodels.tsa.arima_model import ARIMA\n",
    "from sklearn.metrics import mean_squared_error\n",
    "from math import sqrt\n",
    "import warnings\n",
    "warnings.filterwarnings(\"ignore\")"
   ]
  },
  {
   "cell_type": "markdown",
   "id": "6d903f31",
   "metadata": {},
   "source": [
    "#### 2. Importing the Data set"
   ]
  },
  {
   "cell_type": "code",
   "execution_count": 5,
   "id": "2f486173",
   "metadata": {},
   "outputs": [
    {
     "data": {
      "text/html": [
       "<div>\n",
       "<style scoped>\n",
       "    .dataframe tbody tr th:only-of-type {\n",
       "        vertical-align: middle;\n",
       "    }\n",
       "\n",
       "    .dataframe tbody tr th {\n",
       "        vertical-align: top;\n",
       "    }\n",
       "\n",
       "    .dataframe thead th {\n",
       "        text-align: right;\n",
       "    }\n",
       "</style>\n",
       "<table border=\"1\" class=\"dataframe\">\n",
       "  <thead>\n",
       "    <tr style=\"text-align: right;\">\n",
       "      <th></th>\n",
       "      <th>Month</th>\n",
       "      <th>Passengers</th>\n",
       "    </tr>\n",
       "  </thead>\n",
       "  <tbody>\n",
       "    <tr>\n",
       "      <th>0</th>\n",
       "      <td>Jan-95</td>\n",
       "      <td>112</td>\n",
       "    </tr>\n",
       "    <tr>\n",
       "      <th>1</th>\n",
       "      <td>Feb-95</td>\n",
       "      <td>118</td>\n",
       "    </tr>\n",
       "    <tr>\n",
       "      <th>2</th>\n",
       "      <td>Mar-95</td>\n",
       "      <td>132</td>\n",
       "    </tr>\n",
       "    <tr>\n",
       "      <th>3</th>\n",
       "      <td>Apr-95</td>\n",
       "      <td>129</td>\n",
       "    </tr>\n",
       "    <tr>\n",
       "      <th>4</th>\n",
       "      <td>May-95</td>\n",
       "      <td>121</td>\n",
       "    </tr>\n",
       "    <tr>\n",
       "      <th>...</th>\n",
       "      <td>...</td>\n",
       "      <td>...</td>\n",
       "    </tr>\n",
       "    <tr>\n",
       "      <th>91</th>\n",
       "      <td>Aug-02</td>\n",
       "      <td>405</td>\n",
       "    </tr>\n",
       "    <tr>\n",
       "      <th>92</th>\n",
       "      <td>Sep-02</td>\n",
       "      <td>355</td>\n",
       "    </tr>\n",
       "    <tr>\n",
       "      <th>93</th>\n",
       "      <td>Oct-02</td>\n",
       "      <td>306</td>\n",
       "    </tr>\n",
       "    <tr>\n",
       "      <th>94</th>\n",
       "      <td>Nov-02</td>\n",
       "      <td>271</td>\n",
       "    </tr>\n",
       "    <tr>\n",
       "      <th>95</th>\n",
       "      <td>Dec-02</td>\n",
       "      <td>306</td>\n",
       "    </tr>\n",
       "  </tbody>\n",
       "</table>\n",
       "<p>96 rows × 2 columns</p>\n",
       "</div>"
      ],
      "text/plain": [
       "     Month  Passengers\n",
       "0   Jan-95         112\n",
       "1   Feb-95         118\n",
       "2   Mar-95         132\n",
       "3   Apr-95         129\n",
       "4   May-95         121\n",
       "..     ...         ...\n",
       "91  Aug-02         405\n",
       "92  Sep-02         355\n",
       "93  Oct-02         306\n",
       "94  Nov-02         271\n",
       "95  Dec-02         306\n",
       "\n",
       "[96 rows x 2 columns]"
      ]
     },
     "execution_count": 5,
     "metadata": {},
     "output_type": "execute_result"
    }
   ],
   "source": [
    "data = pd.read_csv('Airlines_Data.csv')\n",
    "data"
   ]
  },
  {
   "cell_type": "code",
   "execution_count": 6,
   "id": "ac9e2fcf",
   "metadata": {},
   "outputs": [
    {
     "data": {
      "text/html": [
       "<div>\n",
       "<style scoped>\n",
       "    .dataframe tbody tr th:only-of-type {\n",
       "        vertical-align: middle;\n",
       "    }\n",
       "\n",
       "    .dataframe tbody tr th {\n",
       "        vertical-align: top;\n",
       "    }\n",
       "\n",
       "    .dataframe thead th {\n",
       "        text-align: right;\n",
       "    }\n",
       "</style>\n",
       "<table border=\"1\" class=\"dataframe\">\n",
       "  <thead>\n",
       "    <tr style=\"text-align: right;\">\n",
       "      <th></th>\n",
       "      <th>Month</th>\n",
       "      <th>Passengers</th>\n",
       "    </tr>\n",
       "  </thead>\n",
       "  <tbody>\n",
       "    <tr>\n",
       "      <th>0</th>\n",
       "      <td>Jan-95</td>\n",
       "      <td>112</td>\n",
       "    </tr>\n",
       "    <tr>\n",
       "      <th>1</th>\n",
       "      <td>Feb-95</td>\n",
       "      <td>118</td>\n",
       "    </tr>\n",
       "    <tr>\n",
       "      <th>2</th>\n",
       "      <td>Mar-95</td>\n",
       "      <td>132</td>\n",
       "    </tr>\n",
       "    <tr>\n",
       "      <th>3</th>\n",
       "      <td>Apr-95</td>\n",
       "      <td>129</td>\n",
       "    </tr>\n",
       "    <tr>\n",
       "      <th>4</th>\n",
       "      <td>May-95</td>\n",
       "      <td>121</td>\n",
       "    </tr>\n",
       "  </tbody>\n",
       "</table>\n",
       "</div>"
      ],
      "text/plain": [
       "    Month  Passengers\n",
       "0  Jan-95         112\n",
       "1  Feb-95         118\n",
       "2  Mar-95         132\n",
       "3  Apr-95         129\n",
       "4  May-95         121"
      ]
     },
     "execution_count": 6,
     "metadata": {},
     "output_type": "execute_result"
    }
   ],
   "source": [
    "data_1 = pd.read_csv('Airlines_Data.csv')\n",
    "data_1.head()"
   ]
  },
  {
   "cell_type": "code",
   "execution_count": 7,
   "id": "dda94572",
   "metadata": {},
   "outputs": [
    {
     "data": {
      "text/html": [
       "<div>\n",
       "<style scoped>\n",
       "    .dataframe tbody tr th:only-of-type {\n",
       "        vertical-align: middle;\n",
       "    }\n",
       "\n",
       "    .dataframe tbody tr th {\n",
       "        vertical-align: top;\n",
       "    }\n",
       "\n",
       "    .dataframe thead th {\n",
       "        text-align: right;\n",
       "    }\n",
       "</style>\n",
       "<table border=\"1\" class=\"dataframe\">\n",
       "  <thead>\n",
       "    <tr style=\"text-align: right;\">\n",
       "      <th></th>\n",
       "      <th>Month</th>\n",
       "      <th>Passengers</th>\n",
       "    </tr>\n",
       "  </thead>\n",
       "  <tbody>\n",
       "    <tr>\n",
       "      <th>0</th>\n",
       "      <td>Jan-1995</td>\n",
       "      <td>112</td>\n",
       "    </tr>\n",
       "    <tr>\n",
       "      <th>1</th>\n",
       "      <td>Feb-1995</td>\n",
       "      <td>118</td>\n",
       "    </tr>\n",
       "    <tr>\n",
       "      <th>2</th>\n",
       "      <td>Mar-1995</td>\n",
       "      <td>132</td>\n",
       "    </tr>\n",
       "    <tr>\n",
       "      <th>3</th>\n",
       "      <td>Apr-1995</td>\n",
       "      <td>129</td>\n",
       "    </tr>\n",
       "    <tr>\n",
       "      <th>4</th>\n",
       "      <td>May-1995</td>\n",
       "      <td>121</td>\n",
       "    </tr>\n",
       "    <tr>\n",
       "      <th>...</th>\n",
       "      <td>...</td>\n",
       "      <td>...</td>\n",
       "    </tr>\n",
       "    <tr>\n",
       "      <th>91</th>\n",
       "      <td>Aug-2002</td>\n",
       "      <td>405</td>\n",
       "    </tr>\n",
       "    <tr>\n",
       "      <th>92</th>\n",
       "      <td>Sep-2002</td>\n",
       "      <td>355</td>\n",
       "    </tr>\n",
       "    <tr>\n",
       "      <th>93</th>\n",
       "      <td>Oct-2002</td>\n",
       "      <td>306</td>\n",
       "    </tr>\n",
       "    <tr>\n",
       "      <th>94</th>\n",
       "      <td>Nov-2002</td>\n",
       "      <td>271</td>\n",
       "    </tr>\n",
       "    <tr>\n",
       "      <th>95</th>\n",
       "      <td>Dec-2002</td>\n",
       "      <td>306</td>\n",
       "    </tr>\n",
       "  </tbody>\n",
       "</table>\n",
       "<p>96 rows × 2 columns</p>\n",
       "</div>"
      ],
      "text/plain": [
       "       Month  Passengers\n",
       "0   Jan-1995         112\n",
       "1   Feb-1995         118\n",
       "2   Mar-1995         132\n",
       "3   Apr-1995         129\n",
       "4   May-1995         121\n",
       "..       ...         ...\n",
       "91  Aug-2002         405\n",
       "92  Sep-2002         355\n",
       "93  Oct-2002         306\n",
       "94  Nov-2002         271\n",
       "95  Dec-2002         306\n",
       "\n",
       "[96 rows x 2 columns]"
      ]
     },
     "execution_count": 7,
     "metadata": {},
     "output_type": "execute_result"
    }
   ],
   "source": [
    "a = data_1.Month.replace(to_replace={'-9':'-199','-0':'-200'}, regex=True)\n",
    "a = pd.DataFrame(data=a)\n",
    "data_1['Month'] = a\n",
    "data_1"
   ]
  },
  {
   "cell_type": "code",
   "execution_count": 8,
   "id": "8bc5ec23",
   "metadata": {},
   "outputs": [
    {
     "data": {
      "text/html": [
       "<div>\n",
       "<style scoped>\n",
       "    .dataframe tbody tr th:only-of-type {\n",
       "        vertical-align: middle;\n",
       "    }\n",
       "\n",
       "    .dataframe tbody tr th {\n",
       "        vertical-align: top;\n",
       "    }\n",
       "\n",
       "    .dataframe thead th {\n",
       "        text-align: right;\n",
       "    }\n",
       "</style>\n",
       "<table border=\"1\" class=\"dataframe\">\n",
       "  <thead>\n",
       "    <tr style=\"text-align: right;\">\n",
       "      <th></th>\n",
       "      <th>Month</th>\n",
       "      <th>Passengers</th>\n",
       "    </tr>\n",
       "  </thead>\n",
       "  <tbody>\n",
       "    <tr>\n",
       "      <th>0</th>\n",
       "      <td>01-Jan-1995</td>\n",
       "      <td>112</td>\n",
       "    </tr>\n",
       "    <tr>\n",
       "      <th>1</th>\n",
       "      <td>01-Feb-1995</td>\n",
       "      <td>118</td>\n",
       "    </tr>\n",
       "    <tr>\n",
       "      <th>2</th>\n",
       "      <td>01-Mar-1995</td>\n",
       "      <td>132</td>\n",
       "    </tr>\n",
       "    <tr>\n",
       "      <th>3</th>\n",
       "      <td>01-Apr-1995</td>\n",
       "      <td>129</td>\n",
       "    </tr>\n",
       "    <tr>\n",
       "      <th>4</th>\n",
       "      <td>01-May-1995</td>\n",
       "      <td>121</td>\n",
       "    </tr>\n",
       "    <tr>\n",
       "      <th>...</th>\n",
       "      <td>...</td>\n",
       "      <td>...</td>\n",
       "    </tr>\n",
       "    <tr>\n",
       "      <th>91</th>\n",
       "      <td>01-Aug-2002</td>\n",
       "      <td>405</td>\n",
       "    </tr>\n",
       "    <tr>\n",
       "      <th>92</th>\n",
       "      <td>01-Sep-2002</td>\n",
       "      <td>355</td>\n",
       "    </tr>\n",
       "    <tr>\n",
       "      <th>93</th>\n",
       "      <td>01-Oct-2002</td>\n",
       "      <td>306</td>\n",
       "    </tr>\n",
       "    <tr>\n",
       "      <th>94</th>\n",
       "      <td>01-Nov-2002</td>\n",
       "      <td>271</td>\n",
       "    </tr>\n",
       "    <tr>\n",
       "      <th>95</th>\n",
       "      <td>01-Dec-2002</td>\n",
       "      <td>306</td>\n",
       "    </tr>\n",
       "  </tbody>\n",
       "</table>\n",
       "<p>96 rows × 2 columns</p>\n",
       "</div>"
      ],
      "text/plain": [
       "          Month  Passengers\n",
       "0   01-Jan-1995         112\n",
       "1   01-Feb-1995         118\n",
       "2   01-Mar-1995         132\n",
       "3   01-Apr-1995         129\n",
       "4   01-May-1995         121\n",
       "..          ...         ...\n",
       "91  01-Aug-2002         405\n",
       "92  01-Sep-2002         355\n",
       "93  01-Oct-2002         306\n",
       "94  01-Nov-2002         271\n",
       "95  01-Dec-2002         306\n",
       "\n",
       "[96 rows x 2 columns]"
      ]
     },
     "execution_count": 8,
     "metadata": {},
     "output_type": "execute_result"
    }
   ],
   "source": [
    "data_1['Month'] = '01-' + data_1['Month'].astype(str)\n",
    "data_1"
   ]
  },
  {
   "cell_type": "code",
   "execution_count": 9,
   "id": "9537eff6",
   "metadata": {},
   "outputs": [
    {
     "data": {
      "text/html": [
       "<div>\n",
       "<style scoped>\n",
       "    .dataframe tbody tr th:only-of-type {\n",
       "        vertical-align: middle;\n",
       "    }\n",
       "\n",
       "    .dataframe tbody tr th {\n",
       "        vertical-align: top;\n",
       "    }\n",
       "\n",
       "    .dataframe thead th {\n",
       "        text-align: right;\n",
       "    }\n",
       "</style>\n",
       "<table border=\"1\" class=\"dataframe\">\n",
       "  <thead>\n",
       "    <tr style=\"text-align: right;\">\n",
       "      <th></th>\n",
       "      <th>Month</th>\n",
       "      <th>Passengers</th>\n",
       "    </tr>\n",
       "  </thead>\n",
       "  <tbody>\n",
       "    <tr>\n",
       "      <th>0</th>\n",
       "      <td>1995-01-01</td>\n",
       "      <td>112</td>\n",
       "    </tr>\n",
       "    <tr>\n",
       "      <th>1</th>\n",
       "      <td>1995-02-01</td>\n",
       "      <td>118</td>\n",
       "    </tr>\n",
       "    <tr>\n",
       "      <th>2</th>\n",
       "      <td>1995-03-01</td>\n",
       "      <td>132</td>\n",
       "    </tr>\n",
       "    <tr>\n",
       "      <th>3</th>\n",
       "      <td>1995-04-01</td>\n",
       "      <td>129</td>\n",
       "    </tr>\n",
       "    <tr>\n",
       "      <th>4</th>\n",
       "      <td>1995-05-01</td>\n",
       "      <td>121</td>\n",
       "    </tr>\n",
       "  </tbody>\n",
       "</table>\n",
       "</div>"
      ],
      "text/plain": [
       "       Month  Passengers\n",
       "0 1995-01-01         112\n",
       "1 1995-02-01         118\n",
       "2 1995-03-01         132\n",
       "3 1995-04-01         129\n",
       "4 1995-05-01         121"
      ]
     },
     "execution_count": 9,
     "metadata": {},
     "output_type": "execute_result"
    }
   ],
   "source": [
    "data_1['Month'] = pd.to_datetime(data_1['Month'])\n",
    "data_1.head()"
   ]
  },
  {
   "cell_type": "markdown",
   "id": "447bfa93",
   "metadata": {},
   "source": [
    "#### 3. Data Understanding"
   ]
  },
  {
   "cell_type": "code",
   "execution_count": 10,
   "id": "386e9c2d",
   "metadata": {},
   "outputs": [
    {
     "data": {
      "text/plain": [
       "(96, 2)"
      ]
     },
     "execution_count": 10,
     "metadata": {},
     "output_type": "execute_result"
    }
   ],
   "source": [
    "data_1.shape"
   ]
  },
  {
   "cell_type": "code",
   "execution_count": 11,
   "id": "9c1ac48e",
   "metadata": {},
   "outputs": [
    {
     "data": {
      "text/plain": [
       "Month         datetime64[ns]\n",
       "Passengers             int64\n",
       "dtype: object"
      ]
     },
     "execution_count": 11,
     "metadata": {},
     "output_type": "execute_result"
    }
   ],
   "source": [
    "data_1.dtypes"
   ]
  },
  {
   "cell_type": "code",
   "execution_count": 12,
   "id": "e4182434",
   "metadata": {},
   "outputs": [
    {
     "data": {
      "text/plain": [
       "Month         0\n",
       "Passengers    0\n",
       "dtype: int64"
      ]
     },
     "execution_count": 12,
     "metadata": {},
     "output_type": "execute_result"
    }
   ],
   "source": [
    "data_1.isnull().sum()"
   ]
  },
  {
   "cell_type": "code",
   "execution_count": 13,
   "id": "ab08e9ab",
   "metadata": {},
   "outputs": [
    {
     "data": {
      "text/html": [
       "<div>\n",
       "<style scoped>\n",
       "    .dataframe tbody tr th:only-of-type {\n",
       "        vertical-align: middle;\n",
       "    }\n",
       "\n",
       "    .dataframe tbody tr th {\n",
       "        vertical-align: top;\n",
       "    }\n",
       "\n",
       "    .dataframe thead th {\n",
       "        text-align: right;\n",
       "    }\n",
       "</style>\n",
       "<table border=\"1\" class=\"dataframe\">\n",
       "  <thead>\n",
       "    <tr style=\"text-align: right;\">\n",
       "      <th></th>\n",
       "      <th>Passengers</th>\n",
       "    </tr>\n",
       "  </thead>\n",
       "  <tbody>\n",
       "    <tr>\n",
       "      <th>count</th>\n",
       "      <td>96.000000</td>\n",
       "    </tr>\n",
       "    <tr>\n",
       "      <th>mean</th>\n",
       "      <td>213.708333</td>\n",
       "    </tr>\n",
       "    <tr>\n",
       "      <th>std</th>\n",
       "      <td>71.918216</td>\n",
       "    </tr>\n",
       "    <tr>\n",
       "      <th>min</th>\n",
       "      <td>104.000000</td>\n",
       "    </tr>\n",
       "    <tr>\n",
       "      <th>25%</th>\n",
       "      <td>156.000000</td>\n",
       "    </tr>\n",
       "    <tr>\n",
       "      <th>50%</th>\n",
       "      <td>200.000000</td>\n",
       "    </tr>\n",
       "    <tr>\n",
       "      <th>75%</th>\n",
       "      <td>264.750000</td>\n",
       "    </tr>\n",
       "    <tr>\n",
       "      <th>max</th>\n",
       "      <td>413.000000</td>\n",
       "    </tr>\n",
       "  </tbody>\n",
       "</table>\n",
       "</div>"
      ],
      "text/plain": [
       "       Passengers\n",
       "count   96.000000\n",
       "mean   213.708333\n",
       "std     71.918216\n",
       "min    104.000000\n",
       "25%    156.000000\n",
       "50%    200.000000\n",
       "75%    264.750000\n",
       "max    413.000000"
      ]
     },
     "execution_count": 13,
     "metadata": {},
     "output_type": "execute_result"
    }
   ],
   "source": [
    "data_1.describe()"
   ]
  },
  {
   "cell_type": "code",
   "execution_count": null,
   "id": "e215b6c1",
   "metadata": {},
   "outputs": [],
   "source": []
  },
  {
   "cell_type": "code",
   "execution_count": 14,
   "id": "9577c724",
   "metadata": {},
   "outputs": [
    {
     "data": {
      "image/png": "[encoded data removed]",
      "text/plain": [
       "<Figure size 432x288 with 1 Axes>"
      ]
     },
     "metadata": {
      "needs_background": "light"
     },
     "output_type": "display_data"
    }
   ],
   "source": [
    "series = pd.read_csv('Airlines_Data.csv', header=0, index_col=0,parse_dates=True)\n",
    "series.plot()\n",
    "plt.show()"
   ]
  },
  {
   "cell_type": "code",
   "execution_count": 15,
   "id": "4f9706f7",
   "metadata": {},
   "outputs": [
    {
     "data": {
      "image/png": "[encoded data removed]",
      "text/plain": [
       "<Figure size 432x288 with 1 Axes>"
      ]
     },
     "metadata": {
      "needs_background": "light"
     },
     "output_type": "display_data"
    },
    {
     "data": {
      "image/png": "[encoded data removed]",
      "text/plain": [
       "<Figure size 432x288 with 1 Axes>"
      ]
     },
     "metadata": {
      "needs_background": "light"
     },
     "output_type": "display_data"
    }
   ],
   "source": [
    "series.hist()\n",
    "series.plot(kind='kde')\n",
    "plt.show()"
   ]
  },
  {
   "cell_type": "code",
   "execution_count": 16,
   "id": "61ec8a4c",
   "metadata": {},
   "outputs": [
    {
     "data": {
      "image/png": "[encoded data removed]",
      "text/plain": [
       "<Figure size 432x288 with 1 Axes>"
      ]
     },
     "metadata": {
      "needs_background": "light"
     },
     "output_type": "display_data"
    }
   ],
   "source": [
    "lag_plot(series)\n",
    "plt.show()"
   ]
  },
  {
   "cell_type": "code",
   "execution_count": 17,
   "id": "9323dbad",
   "metadata": {},
   "outputs": [
    {
     "data": {
      "image/png": "[encoded data removed]",
      "text/plain": [
       "<Figure size 432x288 with 1 Axes>"
      ]
     },
     "metadata": {
      "needs_background": "light"
     },
     "output_type": "display_data"
    }
   ],
   "source": [
    "plot_acf(series,lags=30)\n",
    "plt.show()"
   ]
  },
  {
   "cell_type": "code",
   "execution_count": 18,
   "id": "d976a731",
   "metadata": {},
   "outputs": [
    {
     "data": {
      "image/png": "[encoded data removed]",
      "text/plain": [
       "<Figure size 1008x1008 with 2 Axes>"
      ]
     },
     "metadata": {
      "needs_background": "light"
     },
     "output_type": "display_data"
    }
   ],
   "source": [
    "plt.figure(figsize=(14,14))\n",
    "# line plot\n",
    "plt.subplot(211)\n",
    "plt.plot(series)\n",
    "# histogram\n",
    "plt.subplot(212)\n",
    "plt.hist(series)\n",
    "plt.show()"
   ]
  },
  {
   "cell_type": "code",
   "execution_count": 19,
   "id": "d57d7336",
   "metadata": {},
   "outputs": [],
   "source": [
    "dataframe = pd.DataFrame(series.values)\n",
    "dataframe.columns = ['Passengers']\n",
    "dataframe['Passengers'] = np.sqrt(dataframe['Passengers'])"
   ]
  },
  {
   "cell_type": "code",
   "execution_count": 20,
   "id": "e2b9c102",
   "metadata": {},
   "outputs": [
    {
     "data": {
      "image/png": "[encoded data removed]",
      "text/plain": [
       "<Figure size 1008x1008 with 2 Axes>"
      ]
     },
     "metadata": {
      "needs_background": "light"
     },
     "output_type": "display_data"
    }
   ],
   "source": [
    "plt.figure(figsize=(14,14))\n",
    "# line plot\n",
    "plt.subplot(211)\n",
    "plt.plot(dataframe['Passengers'])\n",
    "# histogram\n",
    "plt.subplot(212)\n",
    "plt.hist(dataframe['Passengers'])\n",
    "plt.show()"
   ]
  },
  {
   "cell_type": "code",
   "execution_count": 21,
   "id": "dca0fd02",
   "metadata": {},
   "outputs": [
    {
     "data": {
      "image/png": "[encoded data removed]",
      "text/plain": [
       "<Figure size 1008x1008 with 2 Axes>"
      ]
     },
     "metadata": {
      "needs_background": "light"
     },
     "output_type": "display_data"
    }
   ],
   "source": [
    "dataframe = pd.DataFrame(series.values)\n",
    "dataframe.columns = ['Passengers']\n",
    "dataframe['Passengers'] = np.log(dataframe['Passengers'])\n",
    "plt.figure(figsize=(14,14))\n",
    "# line plot\n",
    "plt.subplot(211)\n",
    "plt.plot(dataframe['Passengers'])\n",
    "# histogram\n",
    "plt.subplot(212)\n",
    "plt.hist(dataframe['Passengers'])\n",
    "plt.show()"
   ]
  },
  {
   "cell_type": "raw",
   "id": "eb589807",
   "metadata": {},
   "source": [
    "We can observe that square root and log transformation are not changing the nature of trend as much so will use untransformed data for further model building."
   ]
  },
  {
   "cell_type": "markdown",
   "id": "0c370e6f",
   "metadata": {},
   "source": [
    "#### 4. Data Preparation "
   ]
  },
  {
   "cell_type": "code",
   "execution_count": 22,
   "id": "ae9af3b6",
   "metadata": {},
   "outputs": [],
   "source": [
    "Train_1 = data_1.head(84)\n",
    "Test_1 = data_1.tail(12)"
   ]
  },
  {
   "cell_type": "code",
   "execution_count": 23,
   "id": "b9dbfee7",
   "metadata": {},
   "outputs": [
    {
     "data": {
      "text/html": [
       "<div>\n",
       "<style scoped>\n",
       "    .dataframe tbody tr th:only-of-type {\n",
       "        vertical-align: middle;\n",
       "    }\n",
       "\n",
       "    .dataframe tbody tr th {\n",
       "        vertical-align: top;\n",
       "    }\n",
       "\n",
       "    .dataframe thead th {\n",
       "        text-align: right;\n",
       "    }\n",
       "</style>\n",
       "<table border=\"1\" class=\"dataframe\">\n",
       "  <thead>\n",
       "    <tr style=\"text-align: right;\">\n",
       "      <th></th>\n",
       "      <th>Month</th>\n",
       "      <th>Passengers</th>\n",
       "    </tr>\n",
       "  </thead>\n",
       "  <tbody>\n",
       "    <tr>\n",
       "      <th>91</th>\n",
       "      <td>Aug-02</td>\n",
       "      <td>405</td>\n",
       "    </tr>\n",
       "    <tr>\n",
       "      <th>92</th>\n",
       "      <td>Sep-02</td>\n",
       "      <td>355</td>\n",
       "    </tr>\n",
       "    <tr>\n",
       "      <th>93</th>\n",
       "      <td>Oct-02</td>\n",
       "      <td>306</td>\n",
       "    </tr>\n",
       "    <tr>\n",
       "      <th>94</th>\n",
       "      <td>Nov-02</td>\n",
       "      <td>271</td>\n",
       "    </tr>\n",
       "    <tr>\n",
       "      <th>95</th>\n",
       "      <td>Dec-02</td>\n",
       "      <td>306</td>\n",
       "    </tr>\n",
       "  </tbody>\n",
       "</table>\n",
       "</div>"
      ],
      "text/plain": [
       "     Month  Passengers\n",
       "91  Aug-02         405\n",
       "92  Sep-02         355\n",
       "93  Oct-02         306\n",
       "94  Nov-02         271\n",
       "95  Dec-02         306"
      ]
     },
     "execution_count": 23,
     "metadata": {},
     "output_type": "execute_result"
    }
   ],
   "source": [
    "data.tail()"
   ]
  },
  {
   "cell_type": "code",
   "execution_count": 24,
   "id": "725575e6",
   "metadata": {},
   "outputs": [
    {
     "data": {
      "text/html": [
       "<div>\n",
       "<style scoped>\n",
       "    .dataframe tbody tr th:only-of-type {\n",
       "        vertical-align: middle;\n",
       "    }\n",
       "\n",
       "    .dataframe tbody tr th {\n",
       "        vertical-align: top;\n",
       "    }\n",
       "\n",
       "    .dataframe thead th {\n",
       "        text-align: right;\n",
       "    }\n",
       "</style>\n",
       "<table border=\"1\" class=\"dataframe\">\n",
       "  <thead>\n",
       "    <tr style=\"text-align: right;\">\n",
       "      <th></th>\n",
       "      <th>Passengers</th>\n",
       "      <th>Month_Apr-00</th>\n",
       "      <th>Month_Apr-01</th>\n",
       "      <th>Month_Apr-02</th>\n",
       "      <th>Month_Apr-95</th>\n",
       "      <th>Month_Apr-96</th>\n",
       "      <th>Month_Apr-97</th>\n",
       "      <th>Month_Apr-98</th>\n",
       "      <th>Month_Apr-99</th>\n",
       "      <th>Month_Aug-00</th>\n",
       "      <th>...</th>\n",
       "      <th>Month_Oct-98</th>\n",
       "      <th>Month_Oct-99</th>\n",
       "      <th>Month_Sep-00</th>\n",
       "      <th>Month_Sep-01</th>\n",
       "      <th>Month_Sep-02</th>\n",
       "      <th>Month_Sep-95</th>\n",
       "      <th>Month_Sep-96</th>\n",
       "      <th>Month_Sep-97</th>\n",
       "      <th>Month_Sep-98</th>\n",
       "      <th>Month_Sep-99</th>\n",
       "    </tr>\n",
       "  </thead>\n",
       "  <tbody>\n",
       "    <tr>\n",
       "      <th>0</th>\n",
       "      <td>112</td>\n",
       "      <td>0</td>\n",
       "      <td>0</td>\n",
       "      <td>0</td>\n",
       "      <td>0</td>\n",
       "      <td>0</td>\n",
       "      <td>0</td>\n",
       "      <td>0</td>\n",
       "      <td>0</td>\n",
       "      <td>0</td>\n",
       "      <td>...</td>\n",
       "      <td>0</td>\n",
       "      <td>0</td>\n",
       "      <td>0</td>\n",
       "      <td>0</td>\n",
       "      <td>0</td>\n",
       "      <td>0</td>\n",
       "      <td>0</td>\n",
       "      <td>0</td>\n",
       "      <td>0</td>\n",
       "      <td>0</td>\n",
       "    </tr>\n",
       "    <tr>\n",
       "      <th>1</th>\n",
       "      <td>118</td>\n",
       "      <td>0</td>\n",
       "      <td>0</td>\n",
       "      <td>0</td>\n",
       "      <td>0</td>\n",
       "      <td>0</td>\n",
       "      <td>0</td>\n",
       "      <td>0</td>\n",
       "      <td>0</td>\n",
       "      <td>0</td>\n",
       "      <td>...</td>\n",
       "      <td>0</td>\n",
       "      <td>0</td>\n",
       "      <td>0</td>\n",
       "      <td>0</td>\n",
       "      <td>0</td>\n",
       "      <td>0</td>\n",
       "      <td>0</td>\n",
       "      <td>0</td>\n",
       "      <td>0</td>\n",
       "      <td>0</td>\n",
       "    </tr>\n",
       "    <tr>\n",
       "      <th>2</th>\n",
       "      <td>132</td>\n",
       "      <td>0</td>\n",
       "      <td>0</td>\n",
       "      <td>0</td>\n",
       "      <td>0</td>\n",
       "      <td>0</td>\n",
       "      <td>0</td>\n",
       "      <td>0</td>\n",
       "      <td>0</td>\n",
       "      <td>0</td>\n",
       "      <td>...</td>\n",
       "      <td>0</td>\n",
       "      <td>0</td>\n",
       "      <td>0</td>\n",
       "      <td>0</td>\n",
       "      <td>0</td>\n",
       "      <td>0</td>\n",
       "      <td>0</td>\n",
       "      <td>0</td>\n",
       "      <td>0</td>\n",
       "      <td>0</td>\n",
       "    </tr>\n",
       "    <tr>\n",
       "      <th>3</th>\n",
       "      <td>129</td>\n",
       "      <td>0</td>\n",
       "      <td>0</td>\n",
       "      <td>0</td>\n",
       "      <td>1</td>\n",
       "      <td>0</td>\n",
       "      <td>0</td>\n",
       "      <td>0</td>\n",
       "      <td>0</td>\n",
       "      <td>0</td>\n",
       "      <td>...</td>\n",
       "      <td>0</td>\n",
       "      <td>0</td>\n",
       "      <td>0</td>\n",
       "      <td>0</td>\n",
       "      <td>0</td>\n",
       "      <td>0</td>\n",
       "      <td>0</td>\n",
       "      <td>0</td>\n",
       "      <td>0</td>\n",
       "      <td>0</td>\n",
       "    </tr>\n",
       "    <tr>\n",
       "      <th>4</th>\n",
       "      <td>121</td>\n",
       "      <td>0</td>\n",
       "      <td>0</td>\n",
       "      <td>0</td>\n",
       "      <td>0</td>\n",
       "      <td>0</td>\n",
       "      <td>0</td>\n",
       "      <td>0</td>\n",
       "      <td>0</td>\n",
       "      <td>0</td>\n",
       "      <td>...</td>\n",
       "      <td>0</td>\n",
       "      <td>0</td>\n",
       "      <td>0</td>\n",
       "      <td>0</td>\n",
       "      <td>0</td>\n",
       "      <td>0</td>\n",
       "      <td>0</td>\n",
       "      <td>0</td>\n",
       "      <td>0</td>\n",
       "      <td>0</td>\n",
       "    </tr>\n",
       "  </tbody>\n",
       "</table>\n",
       "<p>5 rows × 97 columns</p>\n",
       "</div>"
      ],
      "text/plain": [
       "   Passengers  Month_Apr-00  Month_Apr-01  Month_Apr-02  Month_Apr-95  \\\n",
       "0         112             0             0             0             0   \n",
       "1         118             0             0             0             0   \n",
       "2         132             0             0             0             0   \n",
       "3         129             0             0             0             1   \n",
       "4         121             0             0             0             0   \n",
       "\n",
       "   Month_Apr-96  Month_Apr-97  Month_Apr-98  Month_Apr-99  Month_Aug-00  ...  \\\n",
       "0             0             0             0             0             0  ...   \n",
       "1             0             0             0             0             0  ...   \n",
       "2             0             0             0             0             0  ...   \n",
       "3             0             0             0             0             0  ...   \n",
       "4             0             0             0             0             0  ...   \n",
       "\n",
       "   Month_Oct-98  Month_Oct-99  Month_Sep-00  Month_Sep-01  Month_Sep-02  \\\n",
       "0             0             0             0             0             0   \n",
       "1             0             0             0             0             0   \n",
       "2             0             0             0             0             0   \n",
       "3             0             0             0             0             0   \n",
       "4             0             0             0             0             0   \n",
       "\n",
       "   Month_Sep-95  Month_Sep-96  Month_Sep-97  Month_Sep-98  Month_Sep-99  \n",
       "0             0             0             0             0             0  \n",
       "1             0             0             0             0             0  \n",
       "2             0             0             0             0             0  \n",
       "3             0             0             0             0             0  \n",
       "4             0             0             0             0             0  \n",
       "\n",
       "[5 rows x 97 columns]"
      ]
     },
     "execution_count": 24,
     "metadata": {},
     "output_type": "execute_result"
    }
   ],
   "source": [
    "data_2 = pd.get_dummies(data, columns = ['Month'])\n",
    "data_2.head()"
   ]
  },
  {
   "cell_type": "code",
   "execution_count": 25,
   "id": "81c562bb",
   "metadata": {},
   "outputs": [],
   "source": [
    "data_2.columns = ['Passengers','Apr','Apr','Apr','Apr','Apr','Apr','Apr','Apr','Aug','Aug','Aug','Aug','Aug','Aug','Aug','Aug','Dec','Dec','Dec','Dec','Dec','Dec','Dec','Dec','Feb','Feb','Feb','Feb','Feb','Feb','Feb','Feb','Jan','Jan','Jan','Jan','Jan','Jan','Jan','Jan','Jul','Jul','Jul','Jul','Jul','Jul','Jul','Jul','Jun','Jun','Jun','Jun','Jun','Jun','Jun','Jun','Mar','Mar','Mar','Mar','Mar','Mar','Mar','Mar','May','May','May','May','May','May','May','May','Nov','Nov','Nov','Nov','Nov','Nov','Nov','Nov','Oct','Oct','Oct','Oct','Oct','Oct','Oct','Oct','Sep','Sep','Sep','Sep','Sep','Sep','Sep','Sep']"
   ]
  },
  {
   "cell_type": "code",
   "execution_count": 26,
   "id": "d0472fdd",
   "metadata": {},
   "outputs": [],
   "source": [
    "t= np.arange(1,97)"
   ]
  },
  {
   "cell_type": "code",
   "execution_count": 27,
   "id": "7361fdcd",
   "metadata": {},
   "outputs": [],
   "source": [
    "data_2['t'] = t"
   ]
  },
  {
   "cell_type": "code",
   "execution_count": 28,
   "id": "2266a6d3",
   "metadata": {},
   "outputs": [],
   "source": [
    "data_2['t_sq'] = data_2['t']*data_2['t']"
   ]
  },
  {
   "cell_type": "code",
   "execution_count": 29,
   "id": "a81744d3",
   "metadata": {},
   "outputs": [],
   "source": [
    "log_Pass=np.log(data_2['Passengers'])"
   ]
  },
  {
   "cell_type": "code",
   "execution_count": 30,
   "id": "ce13c220",
   "metadata": {},
   "outputs": [],
   "source": [
    "data_2['log_Passengers']=log_Pass"
   ]
  },
  {
   "cell_type": "code",
   "execution_count": 31,
   "id": "544aa760",
   "metadata": {},
   "outputs": [
    {
     "data": {
      "text/html": [
       "<div>\n",
       "<style scoped>\n",
       "    .dataframe tbody tr th:only-of-type {\n",
       "        vertical-align: middle;\n",
       "    }\n",
       "\n",
       "    .dataframe tbody tr th {\n",
       "        vertical-align: top;\n",
       "    }\n",
       "\n",
       "    .dataframe thead th {\n",
       "        text-align: right;\n",
       "    }\n",
       "</style>\n",
       "<table border=\"1\" class=\"dataframe\">\n",
       "  <thead>\n",
       "    <tr style=\"text-align: right;\">\n",
       "      <th></th>\n",
       "      <th>Passengers</th>\n",
       "      <th>Apr</th>\n",
       "      <th>Apr</th>\n",
       "      <th>Apr</th>\n",
       "      <th>Apr</th>\n",
       "      <th>Apr</th>\n",
       "      <th>Apr</th>\n",
       "      <th>Apr</th>\n",
       "      <th>Apr</th>\n",
       "      <th>Aug</th>\n",
       "      <th>...</th>\n",
       "      <th>Sep</th>\n",
       "      <th>Sep</th>\n",
       "      <th>Sep</th>\n",
       "      <th>Sep</th>\n",
       "      <th>Sep</th>\n",
       "      <th>Sep</th>\n",
       "      <th>Sep</th>\n",
       "      <th>t</th>\n",
       "      <th>t_sq</th>\n",
       "      <th>log_Passengers</th>\n",
       "    </tr>\n",
       "  </thead>\n",
       "  <tbody>\n",
       "    <tr>\n",
       "      <th>0</th>\n",
       "      <td>112</td>\n",
       "      <td>0</td>\n",
       "      <td>0</td>\n",
       "      <td>0</td>\n",
       "      <td>0</td>\n",
       "      <td>0</td>\n",
       "      <td>0</td>\n",
       "      <td>0</td>\n",
       "      <td>0</td>\n",
       "      <td>0</td>\n",
       "      <td>...</td>\n",
       "      <td>0</td>\n",
       "      <td>0</td>\n",
       "      <td>0</td>\n",
       "      <td>0</td>\n",
       "      <td>0</td>\n",
       "      <td>0</td>\n",
       "      <td>0</td>\n",
       "      <td>1</td>\n",
       "      <td>1</td>\n",
       "      <td>4.718499</td>\n",
       "    </tr>\n",
       "    <tr>\n",
       "      <th>1</th>\n",
       "      <td>118</td>\n",
       "      <td>0</td>\n",
       "      <td>0</td>\n",
       "      <td>0</td>\n",
       "      <td>0</td>\n",
       "      <td>0</td>\n",
       "      <td>0</td>\n",
       "      <td>0</td>\n",
       "      <td>0</td>\n",
       "      <td>0</td>\n",
       "      <td>...</td>\n",
       "      <td>0</td>\n",
       "      <td>0</td>\n",
       "      <td>0</td>\n",
       "      <td>0</td>\n",
       "      <td>0</td>\n",
       "      <td>0</td>\n",
       "      <td>0</td>\n",
       "      <td>2</td>\n",
       "      <td>4</td>\n",
       "      <td>4.770685</td>\n",
       "    </tr>\n",
       "    <tr>\n",
       "      <th>2</th>\n",
       "      <td>132</td>\n",
       "      <td>0</td>\n",
       "      <td>0</td>\n",
       "      <td>0</td>\n",
       "      <td>0</td>\n",
       "      <td>0</td>\n",
       "      <td>0</td>\n",
       "      <td>0</td>\n",
       "      <td>0</td>\n",
       "      <td>0</td>\n",
       "      <td>...</td>\n",
       "      <td>0</td>\n",
       "      <td>0</td>\n",
       "      <td>0</td>\n",
       "      <td>0</td>\n",
       "      <td>0</td>\n",
       "      <td>0</td>\n",
       "      <td>0</td>\n",
       "      <td>3</td>\n",
       "      <td>9</td>\n",
       "      <td>4.882802</td>\n",
       "    </tr>\n",
       "    <tr>\n",
       "      <th>3</th>\n",
       "      <td>129</td>\n",
       "      <td>0</td>\n",
       "      <td>0</td>\n",
       "      <td>0</td>\n",
       "      <td>1</td>\n",
       "      <td>0</td>\n",
       "      <td>0</td>\n",
       "      <td>0</td>\n",
       "      <td>0</td>\n",
       "      <td>0</td>\n",
       "      <td>...</td>\n",
       "      <td>0</td>\n",
       "      <td>0</td>\n",
       "      <td>0</td>\n",
       "      <td>0</td>\n",
       "      <td>0</td>\n",
       "      <td>0</td>\n",
       "      <td>0</td>\n",
       "      <td>4</td>\n",
       "      <td>16</td>\n",
       "      <td>4.859812</td>\n",
       "    </tr>\n",
       "    <tr>\n",
       "      <th>4</th>\n",
       "      <td>121</td>\n",
       "      <td>0</td>\n",
       "      <td>0</td>\n",
       "      <td>0</td>\n",
       "      <td>0</td>\n",
       "      <td>0</td>\n",
       "      <td>0</td>\n",
       "      <td>0</td>\n",
       "      <td>0</td>\n",
       "      <td>0</td>\n",
       "      <td>...</td>\n",
       "      <td>0</td>\n",
       "      <td>0</td>\n",
       "      <td>0</td>\n",
       "      <td>0</td>\n",
       "      <td>0</td>\n",
       "      <td>0</td>\n",
       "      <td>0</td>\n",
       "      <td>5</td>\n",
       "      <td>25</td>\n",
       "      <td>4.795791</td>\n",
       "    </tr>\n",
       "  </tbody>\n",
       "</table>\n",
       "<p>5 rows × 100 columns</p>\n",
       "</div>"
      ],
      "text/plain": [
       "   Passengers  Apr  Apr  Apr  Apr  Apr  Apr  Apr  Apr  Aug  ...  Sep  Sep  \\\n",
       "0         112    0    0    0    0    0    0    0    0    0  ...    0    0   \n",
       "1         118    0    0    0    0    0    0    0    0    0  ...    0    0   \n",
       "2         132    0    0    0    0    0    0    0    0    0  ...    0    0   \n",
       "3         129    0    0    0    1    0    0    0    0    0  ...    0    0   \n",
       "4         121    0    0    0    0    0    0    0    0    0  ...    0    0   \n",
       "\n",
       "   Sep  Sep  Sep  Sep  Sep  t  t_sq  log_Passengers  \n",
       "0    0    0    0    0    0  1     1        4.718499  \n",
       "1    0    0    0    0    0  2     4        4.770685  \n",
       "2    0    0    0    0    0  3     9        4.882802  \n",
       "3    0    0    0    0    0  4    16        4.859812  \n",
       "4    0    0    0    0    0  5    25        4.795791  \n",
       "\n",
       "[5 rows x 100 columns]"
      ]
     },
     "execution_count": 31,
     "metadata": {},
     "output_type": "execute_result"
    }
   ],
   "source": [
    "data_2.head()"
   ]
  },
  {
   "cell_type": "code",
   "execution_count": 32,
   "id": "336479d7",
   "metadata": {},
   "outputs": [
    {
     "data": {
      "text/html": [
       "<div>\n",
       "<style scoped>\n",
       "    .dataframe tbody tr th:only-of-type {\n",
       "        vertical-align: middle;\n",
       "    }\n",
       "\n",
       "    .dataframe tbody tr th {\n",
       "        vertical-align: top;\n",
       "    }\n",
       "\n",
       "    .dataframe thead th {\n",
       "        text-align: right;\n",
       "    }\n",
       "</style>\n",
       "<table border=\"1\" class=\"dataframe\">\n",
       "  <thead>\n",
       "    <tr style=\"text-align: right;\">\n",
       "      <th></th>\n",
       "      <th>Passengers</th>\n",
       "      <th>Apr</th>\n",
       "      <th>Apr</th>\n",
       "      <th>Apr</th>\n",
       "      <th>Apr</th>\n",
       "      <th>Apr</th>\n",
       "      <th>Apr</th>\n",
       "      <th>Apr</th>\n",
       "      <th>Apr</th>\n",
       "      <th>Aug</th>\n",
       "      <th>...</th>\n",
       "      <th>Sep</th>\n",
       "      <th>Sep</th>\n",
       "      <th>Sep</th>\n",
       "      <th>Sep</th>\n",
       "      <th>Sep</th>\n",
       "      <th>Sep</th>\n",
       "      <th>Sep</th>\n",
       "      <th>t</th>\n",
       "      <th>t_sq</th>\n",
       "      <th>log_Passengers</th>\n",
       "    </tr>\n",
       "  </thead>\n",
       "  <tbody>\n",
       "    <tr>\n",
       "      <th>91</th>\n",
       "      <td>405</td>\n",
       "      <td>0</td>\n",
       "      <td>0</td>\n",
       "      <td>0</td>\n",
       "      <td>0</td>\n",
       "      <td>0</td>\n",
       "      <td>0</td>\n",
       "      <td>0</td>\n",
       "      <td>0</td>\n",
       "      <td>0</td>\n",
       "      <td>...</td>\n",
       "      <td>0</td>\n",
       "      <td>0</td>\n",
       "      <td>0</td>\n",
       "      <td>0</td>\n",
       "      <td>0</td>\n",
       "      <td>0</td>\n",
       "      <td>0</td>\n",
       "      <td>92</td>\n",
       "      <td>8464</td>\n",
       "      <td>6.003887</td>\n",
       "    </tr>\n",
       "    <tr>\n",
       "      <th>92</th>\n",
       "      <td>355</td>\n",
       "      <td>0</td>\n",
       "      <td>0</td>\n",
       "      <td>0</td>\n",
       "      <td>0</td>\n",
       "      <td>0</td>\n",
       "      <td>0</td>\n",
       "      <td>0</td>\n",
       "      <td>0</td>\n",
       "      <td>0</td>\n",
       "      <td>...</td>\n",
       "      <td>0</td>\n",
       "      <td>1</td>\n",
       "      <td>0</td>\n",
       "      <td>0</td>\n",
       "      <td>0</td>\n",
       "      <td>0</td>\n",
       "      <td>0</td>\n",
       "      <td>93</td>\n",
       "      <td>8649</td>\n",
       "      <td>5.872118</td>\n",
       "    </tr>\n",
       "    <tr>\n",
       "      <th>93</th>\n",
       "      <td>306</td>\n",
       "      <td>0</td>\n",
       "      <td>0</td>\n",
       "      <td>0</td>\n",
       "      <td>0</td>\n",
       "      <td>0</td>\n",
       "      <td>0</td>\n",
       "      <td>0</td>\n",
       "      <td>0</td>\n",
       "      <td>0</td>\n",
       "      <td>...</td>\n",
       "      <td>0</td>\n",
       "      <td>0</td>\n",
       "      <td>0</td>\n",
       "      <td>0</td>\n",
       "      <td>0</td>\n",
       "      <td>0</td>\n",
       "      <td>0</td>\n",
       "      <td>94</td>\n",
       "      <td>8836</td>\n",
       "      <td>5.723585</td>\n",
       "    </tr>\n",
       "    <tr>\n",
       "      <th>94</th>\n",
       "      <td>271</td>\n",
       "      <td>0</td>\n",
       "      <td>0</td>\n",
       "      <td>0</td>\n",
       "      <td>0</td>\n",
       "      <td>0</td>\n",
       "      <td>0</td>\n",
       "      <td>0</td>\n",
       "      <td>0</td>\n",
       "      <td>0</td>\n",
       "      <td>...</td>\n",
       "      <td>0</td>\n",
       "      <td>0</td>\n",
       "      <td>0</td>\n",
       "      <td>0</td>\n",
       "      <td>0</td>\n",
       "      <td>0</td>\n",
       "      <td>0</td>\n",
       "      <td>95</td>\n",
       "      <td>9025</td>\n",
       "      <td>5.602119</td>\n",
       "    </tr>\n",
       "    <tr>\n",
       "      <th>95</th>\n",
       "      <td>306</td>\n",
       "      <td>0</td>\n",
       "      <td>0</td>\n",
       "      <td>0</td>\n",
       "      <td>0</td>\n",
       "      <td>0</td>\n",
       "      <td>0</td>\n",
       "      <td>0</td>\n",
       "      <td>0</td>\n",
       "      <td>0</td>\n",
       "      <td>...</td>\n",
       "      <td>0</td>\n",
       "      <td>0</td>\n",
       "      <td>0</td>\n",
       "      <td>0</td>\n",
       "      <td>0</td>\n",
       "      <td>0</td>\n",
       "      <td>0</td>\n",
       "      <td>96</td>\n",
       "      <td>9216</td>\n",
       "      <td>5.723585</td>\n",
       "    </tr>\n",
       "  </tbody>\n",
       "</table>\n",
       "<p>5 rows × 100 columns</p>\n",
       "</div>"
      ],
      "text/plain": [
       "    Passengers  Apr  Apr  Apr  Apr  Apr  Apr  Apr  Apr  Aug  ...  Sep  Sep  \\\n",
       "91         405    0    0    0    0    0    0    0    0    0  ...    0    0   \n",
       "92         355    0    0    0    0    0    0    0    0    0  ...    0    1   \n",
       "93         306    0    0    0    0    0    0    0    0    0  ...    0    0   \n",
       "94         271    0    0    0    0    0    0    0    0    0  ...    0    0   \n",
       "95         306    0    0    0    0    0    0    0    0    0  ...    0    0   \n",
       "\n",
       "    Sep  Sep  Sep  Sep  Sep   t  t_sq  log_Passengers  \n",
       "91    0    0    0    0    0  92  8464        6.003887  \n",
       "92    0    0    0    0    0  93  8649        5.872118  \n",
       "93    0    0    0    0    0  94  8836        5.723585  \n",
       "94    0    0    0    0    0  95  9025        5.602119  \n",
       "95    0    0    0    0    0  96  9216        5.723585  \n",
       "\n",
       "[5 rows x 100 columns]"
      ]
     },
     "execution_count": 32,
     "metadata": {},
     "output_type": "execute_result"
    }
   ],
   "source": [
    "data_2.tail()"
   ]
  },
  {
   "cell_type": "code",
   "execution_count": 33,
   "id": "06a0f529",
   "metadata": {},
   "outputs": [],
   "source": [
    "Train_2 = data_2.head(84)\n",
    "Test_2 = data_2.tail(12)"
   ]
  },
  {
   "cell_type": "markdown",
   "id": "57f24948",
   "metadata": {},
   "source": [
    "#### 5. Model Preparation|6. Model Building | 7.Model Testing "
   ]
  },
  {
   "cell_type": "code",
   "execution_count": null,
   "id": "1126899c",
   "metadata": {},
   "outputs": [],
   "source": []
  },
  {
   "cell_type": "markdown",
   "id": "e0686317",
   "metadata": {},
   "source": [
    "##### 1. Model Driven"
   ]
  },
  {
   "cell_type": "code",
   "execution_count": 34,
   "id": "62eb993b",
   "metadata": {},
   "outputs": [
    {
     "data": {
      "text/plain": [
       "53.199236534802715"
      ]
     },
     "execution_count": 34,
     "metadata": {},
     "output_type": "execute_result"
    }
   ],
   "source": [
    "#Linear Model\n",
    "linear_model = smf.ols('Passengers ~ t',data=Train_2).fit()\n",
    "pred_linear =  pd.Series(linear_model.predict(pd.DataFrame(Test_2['t'])))\n",
    "rmse_linear = np.sqrt(np.mean((np.array(Test_2['Passengers'])-np.array(pred_linear))**2))\n",
    "rmse_linear"
   ]
  },
  {
   "cell_type": "code",
   "execution_count": 35,
   "id": "29780740",
   "metadata": {},
   "outputs": [
    {
     "data": {
      "text/plain": [
       "46.0573611031562"
      ]
     },
     "execution_count": 35,
     "metadata": {},
     "output_type": "execute_result"
    }
   ],
   "source": [
    "#Exponential\n",
    "\n",
    "Exp = smf.ols('log_Passengers ~ t',data=Train_2).fit()\n",
    "pred_Exp = pd.Series(Exp.predict(pd.DataFrame(Test_2['t'])))\n",
    "rmse_Exp = np.sqrt(np.mean((np.array(Test_2['Passengers'])-np.array(np.exp(pred_Exp)))**2))\n",
    "rmse_Exp"
   ]
  },
  {
   "cell_type": "code",
   "execution_count": 36,
   "id": "3a5de5cf",
   "metadata": {},
   "outputs": [
    {
     "data": {
      "text/plain": [
       "46.908141818245724"
      ]
     },
     "execution_count": 36,
     "metadata": {},
     "output_type": "execute_result"
    }
   ],
   "source": [
    "#Quadratic \n",
    "\n",
    "Quad = smf.ols('Passengers~t_sq',data=Train_2).fit()\n",
    "pred_Quad = pd.Series(Quad.predict(Test_2[[\"t\",\"t_sq\"]]))\n",
    "rmse_Quad = np.sqrt(np.mean((np.array(Test_2['Passengers'])-np.array(pred_Quad))**2))\n",
    "rmse_Quad"
   ]
  },
  {
   "cell_type": "code",
   "execution_count": 37,
   "id": "04dcdac7",
   "metadata": {},
   "outputs": [
    {
     "data": {
      "text/plain": [
       "140.88699951402384"
      ]
     },
     "execution_count": 37,
     "metadata": {},
     "output_type": "execute_result"
    }
   ],
   "source": [
    "#Additive seasonality \n",
    "\n",
    "add_sea = smf.ols('Passengers~Jan + Feb + Mar + Apr + May + Jun + Jul + Aug + Sep + Oct + Nov + Dec',data=Train_2).fit()\n",
    "pred_add_sea = pd.Series(add_sea.predict(Test_2[['Jan','Feb','Mar','Apr','May','Jun','Jul','Aug','Sep','Oct','Nov','Dec']]))\n",
    "rmse_add_sea = np.sqrt(np.mean((np.array(Test_2['Passengers'])-np.array(pred_add_sea))**2))\n",
    "rmse_add_sea"
   ]
  },
  {
   "cell_type": "code",
   "execution_count": 38,
   "id": "f60e080e",
   "metadata": {},
   "outputs": [
    {
     "data": {
      "text/plain": [
       "50.4202447579234"
      ]
     },
     "execution_count": 38,
     "metadata": {},
     "output_type": "execute_result"
    }
   ],
   "source": [
    "#Additive Seasonality Quadratic \n",
    "\n",
    "add_sea_Quad = smf.ols('Passengers~t+t_sq+Jan + Feb + Mar + Apr + May + Jun + Jul + Aug + Sep + Oct + Nov + Dec',data=Train_2).fit()\n",
    "pred_add_sea_quad = pd.Series(add_sea_Quad.predict(Test_2[['Jan','Feb','Mar','Apr','May','Jun','Jul','Aug','Sep','Oct','Nov','Dec','t','t_sq']]))\n",
    "rmse_add_sea_quad = np.sqrt(np.mean((np.array(Test_2['Passengers'])-np.array(pred_add_sea_quad))**2))\n",
    "rmse_add_sea_quad"
   ]
  },
  {
   "cell_type": "code",
   "execution_count": 39,
   "id": "f5d3ae39",
   "metadata": {},
   "outputs": [
    {
     "data": {
      "text/plain": [
       "157.4224401164201"
      ]
     },
     "execution_count": 39,
     "metadata": {},
     "output_type": "execute_result"
    }
   ],
   "source": [
    "#Multiplicative Seasonality\n",
    "\n",
    "Mul_sea = smf.ols('log_Passengers~Jan + Feb + Mar + Apr + May + Jun + Jul + Aug + Sep + Oct + Nov + Dec',data = Train_2).fit()\n",
    "pred_Mult_sea = pd.Series(Mul_sea.predict(Test_2))\n",
    "rmse_Mult_sea = np.sqrt(np.mean((np.array(Test_2['Passengers'])-np.array(np.exp(pred_Mult_sea)))**2))\n",
    "rmse_Mult_sea"
   ]
  },
  {
   "cell_type": "code",
   "execution_count": 40,
   "id": "2848b31d",
   "metadata": {},
   "outputs": [
    {
     "data": {
      "text/plain": [
       "61.69665373340235"
      ]
     },
     "execution_count": 40,
     "metadata": {},
     "output_type": "execute_result"
    }
   ],
   "source": [
    "#Multiplicative Additive Seasonality \n",
    "\n",
    "Mul_Add_sea = smf.ols('log_Passengers~t + Jan + Feb + Mar + Apr + May + Jun + Jul + Aug + Sep + Oct + Nov + Dec',data = Train_2).fit()\n",
    "pred_Mult_add_sea = pd.Series(Mul_Add_sea.predict(Test_2))\n",
    "rmse_Mult_add_sea = np.sqrt(np.mean((np.array(Test_2['Passengers'])-np.array(np.exp(pred_Mult_add_sea)))**2))\n",
    "rmse_Mult_add_sea "
   ]
  },
  {
   "cell_type": "code",
   "execution_count": 41,
   "id": "97a02f70",
   "metadata": {},
   "outputs": [
    {
     "data": {
      "text/html": [
       "<div>\n",
       "<style scoped>\n",
       "    .dataframe tbody tr th:only-of-type {\n",
       "        vertical-align: middle;\n",
       "    }\n",
       "\n",
       "    .dataframe tbody tr th {\n",
       "        vertical-align: top;\n",
       "    }\n",
       "\n",
       "    .dataframe thead th {\n",
       "        text-align: right;\n",
       "    }\n",
       "</style>\n",
       "<table border=\"1\" class=\"dataframe\">\n",
       "  <thead>\n",
       "    <tr style=\"text-align: right;\">\n",
       "      <th></th>\n",
       "      <th>MODEL</th>\n",
       "      <th>RMSE_Values</th>\n",
       "    </tr>\n",
       "  </thead>\n",
       "  <tbody>\n",
       "    <tr>\n",
       "      <th>1</th>\n",
       "      <td>rmse_Exp</td>\n",
       "      <td>46.057361</td>\n",
       "    </tr>\n",
       "    <tr>\n",
       "      <th>2</th>\n",
       "      <td>rmse_Quad</td>\n",
       "      <td>46.908142</td>\n",
       "    </tr>\n",
       "    <tr>\n",
       "      <th>4</th>\n",
       "      <td>rmse_add_sea_quad</td>\n",
       "      <td>50.420245</td>\n",
       "    </tr>\n",
       "    <tr>\n",
       "      <th>0</th>\n",
       "      <td>rmse_linear</td>\n",
       "      <td>53.199237</td>\n",
       "    </tr>\n",
       "    <tr>\n",
       "      <th>6</th>\n",
       "      <td>rmse_Mult_add_sea</td>\n",
       "      <td>61.696654</td>\n",
       "    </tr>\n",
       "    <tr>\n",
       "      <th>3</th>\n",
       "      <td>rmse_add_sea</td>\n",
       "      <td>140.887000</td>\n",
       "    </tr>\n",
       "    <tr>\n",
       "      <th>5</th>\n",
       "      <td>rmse_Mult_sea</td>\n",
       "      <td>157.422440</td>\n",
       "    </tr>\n",
       "  </tbody>\n",
       "</table>\n",
       "</div>"
      ],
      "text/plain": [
       "               MODEL  RMSE_Values\n",
       "1           rmse_Exp    46.057361\n",
       "2          rmse_Quad    46.908142\n",
       "4  rmse_add_sea_quad    50.420245\n",
       "0        rmse_linear    53.199237\n",
       "6  rmse_Mult_add_sea    61.696654\n",
       "3       rmse_add_sea   140.887000\n",
       "5      rmse_Mult_sea   157.422440"
      ]
     },
     "execution_count": 41,
     "metadata": {},
     "output_type": "execute_result"
    }
   ],
   "source": [
    "#Compare the results \n",
    "data_comp = {\"MODEL\":pd.Series([\"rmse_linear\",\"rmse_Exp\",\"rmse_Quad\",\"rmse_add_sea\",\"rmse_add_sea_quad\",\"rmse_Mult_sea\",\"rmse_Mult_add_sea\"]),\"RMSE_Values\":pd.Series([rmse_linear,rmse_Exp,rmse_Quad,rmse_add_sea,rmse_add_sea_quad,rmse_Mult_sea,rmse_Mult_add_sea])}\n",
    "table_rmse=pd.DataFrame(data_comp)\n",
    "table_rmse.sort_values(['RMSE_Values'])"
   ]
  },
  {
   "cell_type": "code",
   "execution_count": null,
   "id": "652bad2d",
   "metadata": {},
   "outputs": [],
   "source": []
  },
  {
   "cell_type": "markdown",
   "id": "194581a0",
   "metadata": {},
   "source": [
    "##### 2. Data Driven"
   ]
  },
  {
   "cell_type": "code",
   "execution_count": 42,
   "id": "c31f81d1",
   "metadata": {},
   "outputs": [
    {
     "data": {
      "text/plain": [
       "<matplotlib.legend.Legend at 0x1e5250fd130>"
      ]
     },
     "execution_count": 42,
     "metadata": {},
     "output_type": "execute_result"
    },
    {
     "data": {
      "image/png": "[encoded data removed]",
      "text/plain": [
       "<Figure size 864x288 with 1 Axes>"
      ]
     },
     "metadata": {
      "needs_background": "light"
     },
     "output_type": "display_data"
    }
   ],
   "source": [
    "plt.figure(figsize=(12,4))\n",
    "Train_1.Passengers.plot(label=\"org\")\n",
    "for i in range(2,16,4):\n",
    "    Train_1[\"Passengers\"].rolling(i).mean().plot(label=str(i))\n",
    "plt.legend(loc='best')"
   ]
  },
  {
   "cell_type": "code",
   "execution_count": 43,
   "id": "91a553e0",
   "metadata": {},
   "outputs": [],
   "source": [
    "# Evaluation Metric RMSE\n",
    "def RMSE(pred,org): \n",
    "    temp = np.sqrt(np.mean((np.array(org)-np.array(pred))**2))\n",
    "    return np.mean(temp)"
   ]
  },
  {
   "cell_type": "code",
   "execution_count": 44,
   "id": "4d404a4b",
   "metadata": {},
   "outputs": [],
   "source": [
    "# Simple Exponential Method\n",
    "ses_model = SimpleExpSmoothing(Train_1[\"Passengers\"]).fit(smoothing_level=0.2)\n",
    "pred_ses = ses_model.predict(start = Test_1.index[0],end = Test_1.index[-1])\n",
    "RMSE_ses = RMSE(pred_ses,Test_1.Passengers) "
   ]
  },
  {
   "cell_type": "code",
   "execution_count": 45,
   "id": "90ba95e3",
   "metadata": {},
   "outputs": [],
   "source": [
    "# Holt method \n",
    "hw_model = Holt(Train_1[\"Passengers\"]).fit(smoothing_level=0.8, smoothing_slope=0.2)\n",
    "pred_hw = hw_model.predict(start = Test_1.index[0],end = Test_1.index[-1])\n",
    "RMSE_hw = RMSE(pred_hw,Test_1.Passengers) "
   ]
  },
  {
   "cell_type": "code",
   "execution_count": 46,
   "id": "77089c01",
   "metadata": {},
   "outputs": [],
   "source": [
    "# Holts winter exponential smoothing with additive seasonality and additive trend\n",
    "hwe_model_add_add = ExponentialSmoothing(Train_1[\"Passengers\"],seasonal=\"add\",trend=\"add\",seasonal_periods=12).fit() #add the trend to the model\n",
    "pred_hwe_add_add = hwe_model_add_add.predict(start = Test_1.index[0],end = Test_1.index[-1])\n",
    "RMSE_hwe_add_add = RMSE(pred_hwe_add_add,Test_1.Passengers) "
   ]
  },
  {
   "cell_type": "code",
   "execution_count": 47,
   "id": "538add16",
   "metadata": {},
   "outputs": [],
   "source": [
    "# Holts winter exponential smoothing with multiplicative seasonality and additive trend\n",
    "hwe_model_mul_add = ExponentialSmoothing(Train_1[\"Passengers\"],seasonal=\"mul\",trend=\"add\",seasonal_periods=12).fit() \n",
    "pred_hwe_mul_add = hwe_model_mul_add.predict(start = Test_1.index[0],end = Test_1.index[-1])\n",
    "RMSE_hwe_mul_add = RMSE(pred_hwe_mul_add,Test_1.Passengers)"
   ]
  },
  {
   "cell_type": "code",
   "execution_count": 48,
   "id": "c8f07c2c",
   "metadata": {},
   "outputs": [
    {
     "data": {
      "text/html": [
       "<div>\n",
       "<style scoped>\n",
       "    .dataframe tbody tr th:only-of-type {\n",
       "        vertical-align: middle;\n",
       "    }\n",
       "\n",
       "    .dataframe tbody tr th {\n",
       "        vertical-align: top;\n",
       "    }\n",
       "\n",
       "    .dataframe thead th {\n",
       "        text-align: right;\n",
       "    }\n",
       "</style>\n",
       "<table border=\"1\" class=\"dataframe\">\n",
       "  <thead>\n",
       "    <tr style=\"text-align: right;\">\n",
       "      <th></th>\n",
       "      <th>MODEL</th>\n",
       "      <th>RMSE_Values</th>\n",
       "    </tr>\n",
       "  </thead>\n",
       "  <tbody>\n",
       "    <tr>\n",
       "      <th>3</th>\n",
       "      <td>Holts winter exponential smoothing with multip...</td>\n",
       "      <td>12.921284</td>\n",
       "    </tr>\n",
       "    <tr>\n",
       "      <th>2</th>\n",
       "      <td>Holts winter exponential smoothing with additi...</td>\n",
       "      <td>28.793915</td>\n",
       "    </tr>\n",
       "    <tr>\n",
       "      <th>0</th>\n",
       "      <td>Simple Exponential Method</td>\n",
       "      <td>64.844764</td>\n",
       "    </tr>\n",
       "    <tr>\n",
       "      <th>1</th>\n",
       "      <td>Holt method</td>\n",
       "      <td>95.766745</td>\n",
       "    </tr>\n",
       "  </tbody>\n",
       "</table>\n",
       "</div>"
      ],
      "text/plain": [
       "                                               MODEL  RMSE_Values\n",
       "3  Holts winter exponential smoothing with multip...    12.921284\n",
       "2  Holts winter exponential smoothing with additi...    28.793915\n",
       "0                          Simple Exponential Method    64.844764\n",
       "1                                       Holt method     95.766745"
      ]
     },
     "execution_count": 48,
     "metadata": {},
     "output_type": "execute_result"
    }
   ],
   "source": [
    "#Compare the results \n",
    "\n",
    "data_comp = {\"MODEL\":pd.Series([\"Simple Exponential Method\",\"Holt method \",\"Holts winter exponential smoothing with additive seasonality and additive trend\",\"Holts winter exponential smoothing with multiplicative seasonality and additive trend\"]),\"RMSE_Values\":pd.Series([RMSE_ses,RMSE_hw,RMSE_hwe_add_add,RMSE_hwe_mul_add])}\n",
    "table_rmse=pd.DataFrame(data_comp)\n",
    "table_rmse.sort_values(['RMSE_Values'])"
   ]
  },
  {
   "cell_type": "markdown",
   "id": "9e7a95e4",
   "metadata": {},
   "source": [
    "##### 3. ARIMA"
   ]
  },
  {
   "cell_type": "code",
   "execution_count": 49,
   "id": "edc31106",
   "metadata": {},
   "outputs": [],
   "source": [
    "arr_Train_1 = np.array(Train_1['Passengers'])"
   ]
  },
  {
   "cell_type": "code",
   "execution_count": 50,
   "id": "76b82ae0",
   "metadata": {},
   "outputs": [],
   "source": [
    "arr_Test_1 = np.array(Test_1['Passengers'])"
   ]
  },
  {
   "cell_type": "code",
   "execution_count": 51,
   "id": "64bc37bc",
   "metadata": {},
   "outputs": [],
   "source": [
    "from statsmodels.tsa.seasonal import seasonal_decompose"
   ]
  },
  {
   "cell_type": "code",
   "execution_count": 78,
   "id": "547b552f",
   "metadata": {},
   "outputs": [
    {
     "data": {
      "text/html": [
       "<div>\n",
       "<style scoped>\n",
       "    .dataframe tbody tr th:only-of-type {\n",
       "        vertical-align: middle;\n",
       "    }\n",
       "\n",
       "    .dataframe tbody tr th {\n",
       "        vertical-align: top;\n",
       "    }\n",
       "\n",
       "    .dataframe thead th {\n",
       "        text-align: right;\n",
       "    }\n",
       "</style>\n",
       "<table border=\"1\" class=\"dataframe\">\n",
       "  <thead>\n",
       "    <tr style=\"text-align: right;\">\n",
       "      <th></th>\n",
       "      <th>Passengers</th>\n",
       "    </tr>\n",
       "  </thead>\n",
       "  <tbody>\n",
       "    <tr>\n",
       "      <th>0</th>\n",
       "      <td>112</td>\n",
       "    </tr>\n",
       "    <tr>\n",
       "      <th>1</th>\n",
       "      <td>118</td>\n",
       "    </tr>\n",
       "    <tr>\n",
       "      <th>2</th>\n",
       "      <td>132</td>\n",
       "    </tr>\n",
       "    <tr>\n",
       "      <th>3</th>\n",
       "      <td>129</td>\n",
       "    </tr>\n",
       "    <tr>\n",
       "      <th>4</th>\n",
       "      <td>121</td>\n",
       "    </tr>\n",
       "  </tbody>\n",
       "</table>\n",
       "</div>"
      ],
      "text/plain": [
       "   Passengers\n",
       "0         112\n",
       "1         118\n",
       "2         132\n",
       "3         129\n",
       "4         121"
      ]
     },
     "execution_count": 78,
     "metadata": {},
     "output_type": "execute_result"
    }
   ],
   "source": [
    "data_3_train = Train_1.drop(labels = 'Month', axis =1)\n",
    "data_3_test = Test_1.drop(labels = 'Month', axis =1)\n",
    "data_3_train.head()"
   ]
  },
  {
   "cell_type": "code",
   "execution_count": 54,
   "id": "4bc8bdf9",
   "metadata": {},
   "outputs": [],
   "source": [
    "#Multiplicative\n",
    "mul_result = seasonal_decompose(data_3_train['Passengers'], model ='multiplicable', period=4)\n",
    "\n",
    "#Additive\n",
    "add_result = seasonal_decompose(data_3_train['Passengers'], model ='Additive', period=4)\n"
   ]
  },
  {
   "cell_type": "code",
   "execution_count": 55,
   "id": "0cc2ab75",
   "metadata": {},
   "outputs": [
    {
     "data": {
      "image/png": "[encoded data removed]",
      "text/plain": [
       "<Figure size 432x288 with 4 Axes>"
      ]
     },
     "execution_count": 55,
     "metadata": {},
     "output_type": "execute_result"
    },
    {
     "data": {
      "image/png": "[encoded data removed]",
      "text/plain": [
       "<Figure size 432x288 with 4 Axes>"
      ]
     },
     "metadata": {
      "needs_background": "light"
     },
     "output_type": "display_data"
    }
   ],
   "source": [
    "mul_result.plot()"
   ]
  },
  {
   "cell_type": "code",
   "execution_count": 56,
   "id": "9fd62357",
   "metadata": {},
   "outputs": [
    {
     "data": {
      "image/png": "[encoded data removed]",
      "text/plain": [
       "<Figure size 432x288 with 4 Axes>"
      ]
     },
     "execution_count": 56,
     "metadata": {},
     "output_type": "execute_result"
    },
    {
     "data": {
      "image/png": "[encoded data removed]",
      "text/plain": [
       "<Figure size 432x288 with 4 Axes>"
      ]
     },
     "metadata": {
      "needs_background": "light"
     },
     "output_type": "display_data"
    }
   ],
   "source": [
    "add_result.plot()"
   ]
  },
  {
   "cell_type": "code",
   "execution_count": 57,
   "id": "9986b643",
   "metadata": {},
   "outputs": [],
   "source": [
    "from statsmodels.tsa.stattools import adfuller"
   ]
  },
  {
   "cell_type": "code",
   "execution_count": 58,
   "id": "890643e4",
   "metadata": {},
   "outputs": [
    {
     "name": "stdout",
     "output_type": "stream",
     "text": [
      "ADF Statistic: 0.9666721659561973\n",
      "p-value : 0.9939015526143222\n",
      "critical Value\n",
      "1%,-3.526004646825607\n",
      "critical Value\n",
      "5%,-2.9032002348069774\n",
      "critical Value\n",
      "10%,-2.5889948363419957\n"
     ]
    }
   ],
   "source": [
    "adfuller_results = adfuller(data_3_train, autolag ='AIC')\n",
    "print(f'ADF Statistic: {adfuller_results[0]}')\n",
    "print(f'p-value : {adfuller_results[1]}' )\n",
    "for key, value in adfuller_results[4].items():\n",
    "    print(\"critical Value\")\n",
    "    print(f'{key},{value}')"
   ]
  },
  {
   "cell_type": "code",
   "execution_count": 59,
   "id": "a8c6a614",
   "metadata": {},
   "outputs": [],
   "source": [
    "# p value is greater than 0.05 thus we fail to reject null hypothesis that is Series is Non Stationary"
   ]
  },
  {
   "cell_type": "code",
   "execution_count": 60,
   "id": "cfb2a251",
   "metadata": {},
   "outputs": [],
   "source": [
    "# from the graph we can observe that series is predominated by seasonal component"
   ]
  },
  {
   "cell_type": "code",
   "execution_count": 79,
   "id": "ad02a7bd",
   "metadata": {},
   "outputs": [
    {
     "data": {
      "text/html": [
       "<div>\n",
       "<style scoped>\n",
       "    .dataframe tbody tr th:only-of-type {\n",
       "        vertical-align: middle;\n",
       "    }\n",
       "\n",
       "    .dataframe tbody tr th {\n",
       "        vertical-align: top;\n",
       "    }\n",
       "\n",
       "    .dataframe thead th {\n",
       "        text-align: right;\n",
       "    }\n",
       "</style>\n",
       "<table border=\"1\" class=\"dataframe\">\n",
       "  <thead>\n",
       "    <tr style=\"text-align: right;\">\n",
       "      <th></th>\n",
       "      <th>Passengers</th>\n",
       "    </tr>\n",
       "  </thead>\n",
       "  <tbody>\n",
       "    <tr>\n",
       "      <th>0</th>\n",
       "      <td>112</td>\n",
       "    </tr>\n",
       "    <tr>\n",
       "      <th>1</th>\n",
       "      <td>118</td>\n",
       "    </tr>\n",
       "    <tr>\n",
       "      <th>2</th>\n",
       "      <td>132</td>\n",
       "    </tr>\n",
       "    <tr>\n",
       "      <th>3</th>\n",
       "      <td>129</td>\n",
       "    </tr>\n",
       "    <tr>\n",
       "      <th>4</th>\n",
       "      <td>121</td>\n",
       "    </tr>\n",
       "    <tr>\n",
       "      <th>5</th>\n",
       "      <td>135</td>\n",
       "    </tr>\n",
       "    <tr>\n",
       "      <th>6</th>\n",
       "      <td>148</td>\n",
       "    </tr>\n",
       "    <tr>\n",
       "      <th>7</th>\n",
       "      <td>148</td>\n",
       "    </tr>\n",
       "    <tr>\n",
       "      <th>8</th>\n",
       "      <td>136</td>\n",
       "    </tr>\n",
       "    <tr>\n",
       "      <th>9</th>\n",
       "      <td>119</td>\n",
       "    </tr>\n",
       "  </tbody>\n",
       "</table>\n",
       "</div>"
      ],
      "text/plain": [
       "   Passengers\n",
       "0         112\n",
       "1         118\n",
       "2         132\n",
       "3         129\n",
       "4         121\n",
       "5         135\n",
       "6         148\n",
       "7         148\n",
       "8         136\n",
       "9         119"
      ]
     },
     "execution_count": 79,
     "metadata": {},
     "output_type": "execute_result"
    }
   ],
   "source": [
    "data_3_train.head(10)"
   ]
  },
  {
   "cell_type": "code",
   "execution_count": 183,
   "id": "6ad1c687",
   "metadata": {},
   "outputs": [
    {
     "data": {
      "text/plain": [
       "<AxesSubplot:>"
      ]
     },
     "execution_count": 183,
     "metadata": {},
     "output_type": "execute_result"
    },
    {
     "data": {
      "image/png": "[encoded data removed]",
      "text/plain": [
       "<Figure size 432x288 with 1 Axes>"
      ]
     },
     "metadata": {
      "needs_background": "light"
     },
     "output_type": "display_data"
    }
   ],
   "source": [
    "data_3_train['new_Pass_log_diff'] = np.log(data_3_train['Passengers']) - np.log(data_3_train['Passengers']).shift(6)\n",
    "data_3_train['new_Pass_log_diff'].plot()"
   ]
  },
  {
   "cell_type": "code",
   "execution_count": 184,
   "id": "3e88d1ad",
   "metadata": {},
   "outputs": [
    {
     "data": {
      "text/html": [
       "<div>\n",
       "<style scoped>\n",
       "    .dataframe tbody tr th:only-of-type {\n",
       "        vertical-align: middle;\n",
       "    }\n",
       "\n",
       "    .dataframe tbody tr th {\n",
       "        vertical-align: top;\n",
       "    }\n",
       "\n",
       "    .dataframe thead th {\n",
       "        text-align: right;\n",
       "    }\n",
       "</style>\n",
       "<table border=\"1\" class=\"dataframe\">\n",
       "  <thead>\n",
       "    <tr style=\"text-align: right;\">\n",
       "      <th></th>\n",
       "      <th>Passengers</th>\n",
       "      <th>new_Pass_log_diff</th>\n",
       "    </tr>\n",
       "  </thead>\n",
       "  <tbody>\n",
       "    <tr>\n",
       "      <th>0</th>\n",
       "      <td>112</td>\n",
       "      <td>NaN</td>\n",
       "    </tr>\n",
       "    <tr>\n",
       "      <th>1</th>\n",
       "      <td>118</td>\n",
       "      <td>NaN</td>\n",
       "    </tr>\n",
       "    <tr>\n",
       "      <th>2</th>\n",
       "      <td>132</td>\n",
       "      <td>NaN</td>\n",
       "    </tr>\n",
       "    <tr>\n",
       "      <th>3</th>\n",
       "      <td>129</td>\n",
       "      <td>NaN</td>\n",
       "    </tr>\n",
       "    <tr>\n",
       "      <th>4</th>\n",
       "      <td>121</td>\n",
       "      <td>NaN</td>\n",
       "    </tr>\n",
       "    <tr>\n",
       "      <th>5</th>\n",
       "      <td>135</td>\n",
       "      <td>NaN</td>\n",
       "    </tr>\n",
       "    <tr>\n",
       "      <th>6</th>\n",
       "      <td>148</td>\n",
       "      <td>0.278713</td>\n",
       "    </tr>\n",
       "    <tr>\n",
       "      <th>7</th>\n",
       "      <td>148</td>\n",
       "      <td>0.226528</td>\n",
       "    </tr>\n",
       "    <tr>\n",
       "      <th>8</th>\n",
       "      <td>136</td>\n",
       "      <td>0.029853</td>\n",
       "    </tr>\n",
       "    <tr>\n",
       "      <th>9</th>\n",
       "      <td>119</td>\n",
       "      <td>-0.080689</td>\n",
       "    </tr>\n",
       "  </tbody>\n",
       "</table>\n",
       "</div>"
      ],
      "text/plain": [
       "   Passengers  new_Pass_log_diff\n",
       "0         112                NaN\n",
       "1         118                NaN\n",
       "2         132                NaN\n",
       "3         129                NaN\n",
       "4         121                NaN\n",
       "5         135                NaN\n",
       "6         148           0.278713\n",
       "7         148           0.226528\n",
       "8         136           0.029853\n",
       "9         119          -0.080689"
      ]
     },
     "execution_count": 184,
     "metadata": {},
     "output_type": "execute_result"
    }
   ],
   "source": [
    "data_3_train.head(10)"
   ]
  },
  {
   "cell_type": "code",
   "execution_count": 185,
   "id": "dc40e70f",
   "metadata": {},
   "outputs": [
    {
     "name": "stdout",
     "output_type": "stream",
     "text": [
      "ADF Statistic: -2.628151306780611\n",
      "p-value : 0.08731741738827942\n",
      "critical Value\n",
      "1%,-3.5274258688046647\n",
      "critical Value\n",
      "5%,-2.903810816326531\n",
      "critical Value\n",
      "10%,-2.5893204081632653\n"
     ]
    }
   ],
   "source": [
    "adfuller_results = adfuller(data_3_train['new_Pass_log_diff'].dropna(), autolag ='AIC')\n",
    "print(f'ADF Statistic: {adfuller_results[0]}')\n",
    "print(f'p-value : {adfuller_results[1]}' )\n",
    "for key, value in adfuller_results[4].items():\n",
    "    print(\"critical Value\")\n",
    "    print(f'{key},{value}')"
   ]
  },
  {
   "cell_type": "code",
   "execution_count": 186,
   "id": "dc537e95",
   "metadata": {},
   "outputs": [
    {
     "data": {
      "text/plain": [
       "0   NaN\n",
       "1   NaN\n",
       "2   NaN\n",
       "3   NaN\n",
       "4   NaN\n",
       "Name: new_Pass_log_diff, dtype: float64"
      ]
     },
     "execution_count": 186,
     "metadata": {},
     "output_type": "execute_result"
    }
   ],
   "source": [
    "data_3_train['new_Pass_log_diff'].head()"
   ]
  },
  {
   "cell_type": "code",
   "execution_count": null,
   "id": "c2c92680",
   "metadata": {},
   "outputs": [],
   "source": []
  },
  {
   "cell_type": "code",
   "execution_count": 187,
   "id": "223f26bf",
   "metadata": {},
   "outputs": [
    {
     "name": "stdout",
     "output_type": "stream",
     "text": [
      ">Predicted=278.000, Expected=284.000\n",
      ">Predicted=284.000, Expected=277.000\n",
      ">Predicted=277.000, Expected=317.000\n",
      ">Predicted=317.000, Expected=313.000\n",
      ">Predicted=313.000, Expected=318.000\n",
      ">Predicted=318.000, Expected=374.000\n",
      ">Predicted=374.000, Expected=413.000\n",
      ">Predicted=413.000, Expected=405.000\n",
      ">Predicted=405.000, Expected=355.000\n",
      ">Predicted=355.000, Expected=306.000\n",
      ">Predicted=306.000, Expected=271.000\n",
      ">Predicted=271.000, Expected=306.000\n",
      "RMSE: 33.909\n"
     ]
    }
   ],
   "source": [
    "# walk-forward validation\n",
    "history = [x for x in np.array(data_3_train['Passengers'])]\n",
    "predictions = list()\n",
    "for i in range(len(np.array(data_3_test['Passengers']))):\n",
    "    yhat = history[-1]\n",
    "    predictions.append(yhat)\n",
    "# observation\n",
    "    obs = arr_Test_1[i]\n",
    "    history.append(obs)\n",
    "    print('>Predicted=%.3f, Expected=%.3f' % (yhat, obs))\n",
    "# report performance\n",
    "rmse = sqrt(mean_squared_error(arr_Test_1, predictions))\n",
    "print('RMSE: %.3f' % rmse)"
   ]
  },
  {
   "cell_type": "code",
   "execution_count": 188,
   "id": "fdd47e36",
   "metadata": {},
   "outputs": [],
   "source": [
    "# grid search ARIMA parameters for a time series\n",
    "\n",
    "import warnings\n",
    "from pandas import read_csv\n",
    "from statsmodels.tsa.arima_model import ARIMA\n",
    "from sklearn.metrics import mean_squared_error\n",
    "from math import sqrt\n",
    "\n",
    "\n",
    "# evaluate an ARIMA model for a given order (p,d,q) and return RMSE\n",
    "def evaluate_arima_model(X, arima_order):\n",
    "# prepare training dataset\n",
    "    X = X.astype('float32')\n",
    "    train_size = int(len(X) * 0.50)\n",
    "    train, test = X[0:train_size], X[train_size:]\n",
    "    history = [x for x in train]\n",
    "# make predictions\n",
    "    predictions = list()\n",
    "    for t in range(len(test)):\n",
    "        model = ARIMA(history, order=arima_order)\n",
    "# model_fit = model.fit(disp=0)\n",
    "        model_fit = model.fit(disp=0)\n",
    "        yhat = model_fit.forecast()[0]\n",
    "        predictions.append(yhat)\n",
    "        history.append(test[t])\n",
    "# calculate out of sample error\n",
    "    rmse = sqrt(mean_squared_error(test, predictions))\n",
    "    return rmse"
   ]
  },
  {
   "cell_type": "code",
   "execution_count": 189,
   "id": "fbab806b",
   "metadata": {},
   "outputs": [],
   "source": [
    "# evaluate combinations of p, d and q values for an ARIMA model\n",
    "def evaluate_models(dataset, p_values, d_values, q_values):\n",
    "    dataset = dataset.astype('float32')\n",
    "    best_score, best_cfg = float('inf'), None\n",
    "    for p in p_values:\n",
    "        for d in d_values:\n",
    "            for q in q_values:\n",
    "                order = (p,d,q)\n",
    "                try:\n",
    "                    rmse = evaluate_arima_model(arr_Train_1, order)\n",
    "                    if rmse < best_score:\n",
    "                        best_score, best_cfg = rmse, order\n",
    "                    print('ARIMA%s RMSE=%.3f' % (order,rmse))\n",
    "                except:\n",
    "                    continue\n",
    "    print('Best ARIMA%s RMSE=%.3f' % (best_cfg, best_score))"
   ]
  },
  {
   "cell_type": "code",
   "execution_count": 190,
   "id": "2d46033f",
   "metadata": {},
   "outputs": [],
   "source": [
    "p_values = range(0, 5)\n",
    "d_values = range(0, 5)\n",
    "q_values = range(0, 5)"
   ]
  },
  {
   "cell_type": "code",
   "execution_count": 191,
   "id": "5f88f1cb",
   "metadata": {},
   "outputs": [],
   "source": [
    "arr_Train_3 = np.array(data_3_train['new_Pass_log_diff'].dropna())"
   ]
  },
  {
   "cell_type": "code",
   "execution_count": 192,
   "id": "dd5af33d",
   "metadata": {},
   "outputs": [
    {
     "name": "stdout",
     "output_type": "stream",
     "text": [
      "ARIMA(0, 0, 0) RMSE=78.356\n",
      "ARIMA(0, 0, 1) RMSE=44.790\n",
      "ARIMA(0, 1, 0) RMSE=26.206\n",
      "ARIMA(0, 1, 1) RMSE=25.582\n",
      "ARIMA(0, 1, 2) RMSE=28.099\n",
      "ARIMA(0, 1, 3) RMSE=23.953\n",
      "ARIMA(0, 1, 4) RMSE=22.830\n",
      "ARIMA(0, 2, 0) RMSE=32.545\n",
      "ARIMA(0, 2, 1) RMSE=26.939\n",
      "ARIMA(0, 2, 2) RMSE=26.175\n",
      "ARIMA(0, 2, 3) RMSE=28.230\n",
      "ARIMA(0, 2, 4) RMSE=25.211\n",
      "ARIMA(1, 0, 0) RMSE=26.445\n",
      "ARIMA(1, 0, 1) RMSE=25.611\n",
      "ARIMA(1, 1, 0) RMSE=25.940\n",
      "ARIMA(1, 2, 0) RMSE=31.784\n",
      "ARIMA(2, 0, 0) RMSE=25.991\n",
      "ARIMA(2, 1, 0) RMSE=25.659\n",
      "ARIMA(2, 2, 0) RMSE=30.766\n",
      "ARIMA(3, 0, 0) RMSE=25.820\n",
      "ARIMA(3, 0, 1) RMSE=25.250\n",
      "ARIMA(3, 1, 0) RMSE=25.765\n",
      "ARIMA(3, 2, 0) RMSE=30.978\n",
      "ARIMA(4, 0, 0) RMSE=26.056\n",
      "ARIMA(4, 1, 0) RMSE=25.190\n",
      "ARIMA(4, 2, 0) RMSE=29.503\n",
      "ARIMA(4, 2, 1) RMSE=25.848\n",
      "Best ARIMA(0, 1, 4) RMSE=22.830\n"
     ]
    }
   ],
   "source": [
    "evaluate_models(arr_Train_3, p_values, d_values, q_values)"
   ]
  },
  {
   "cell_type": "code",
   "execution_count": 193,
   "id": "ebab1954",
   "metadata": {},
   "outputs": [],
   "source": [
    "# load data\n",
    "train = read_csv('Airlines_Data.csv', header=0, index_col=0, parse_dates=True)\n",
    "# prepare data\n",
    "X = arr_Train_3.astype('float32')\n",
    "arr_Test_1_float = arr_Train_1.astype('float32')"
   ]
  },
  {
   "cell_type": "code",
   "execution_count": 194,
   "id": "aae54b70",
   "metadata": {},
   "outputs": [],
   "source": [
    "# fit model\n",
    "model = ARIMA(X, order=(0,1,4))\n",
    "model_fit = model.fit(disp=0)\n",
    "forecast=model_fit.forecast(steps=8)[0]"
   ]
  },
  {
   "cell_type": "code",
   "execution_count": 195,
   "id": "1257453d",
   "metadata": {},
   "outputs": [
    {
     "data": {
      "image/png": "[encoded data removed]",
      "text/plain": [
       "<Figure size 432x288 with 1 Axes>"
      ]
     },
     "execution_count": 195,
     "metadata": {},
     "output_type": "execute_result"
    },
    {
     "data": {
      "image/png": "[encoded data removed]",
      "text/plain": [
       "<Figure size 432x288 with 1 Axes>"
      ]
     },
     "metadata": {
      "needs_background": "light"
     },
     "output_type": "display_data"
    }
   ],
   "source": [
    "model_fit.plot_predict(2, 96)"
   ]
  },
  {
   "cell_type": "code",
   "execution_count": 197,
   "id": "3d5fea23",
   "metadata": {},
   "outputs": [
    {
     "data": {
      "text/plain": [
       "0.13178985241692578"
      ]
     },
     "execution_count": 197,
     "metadata": {},
     "output_type": "execute_result"
    }
   ],
   "source": [
    "evaluate_arima_model(arr_Train_3, (0,1,4))"
   ]
  },
  {
   "cell_type": "markdown",
   "id": "409ca6db",
   "metadata": {},
   "source": [
    "#### 8. Output Interpretation, Results Comparison and Conclusion"
   ]
  },
  {
   "cell_type": "code",
   "execution_count": 198,
   "id": "b8a051e8",
   "metadata": {},
   "outputs": [
    {
     "data": {
      "text/html": [
       "<div>\n",
       "<style scoped>\n",
       "    .dataframe tbody tr th:only-of-type {\n",
       "        vertical-align: middle;\n",
       "    }\n",
       "\n",
       "    .dataframe tbody tr th {\n",
       "        vertical-align: top;\n",
       "    }\n",
       "\n",
       "    .dataframe thead th {\n",
       "        text-align: right;\n",
       "    }\n",
       "</style>\n",
       "<table border=\"1\" class=\"dataframe\">\n",
       "  <thead>\n",
       "    <tr style=\"text-align: right;\">\n",
       "      <th></th>\n",
       "      <th>MODEL</th>\n",
       "      <th>RMSE_Values</th>\n",
       "    </tr>\n",
       "  </thead>\n",
       "  <tbody>\n",
       "    <tr>\n",
       "      <th>1</th>\n",
       "      <td>rmse_Exp</td>\n",
       "      <td>46.057361</td>\n",
       "    </tr>\n",
       "    <tr>\n",
       "      <th>2</th>\n",
       "      <td>rmse_Quad</td>\n",
       "      <td>46.908142</td>\n",
       "    </tr>\n",
       "    <tr>\n",
       "      <th>4</th>\n",
       "      <td>rmse_add_sea_quad</td>\n",
       "      <td>50.420245</td>\n",
       "    </tr>\n",
       "    <tr>\n",
       "      <th>0</th>\n",
       "      <td>rmse_linear</td>\n",
       "      <td>53.199237</td>\n",
       "    </tr>\n",
       "    <tr>\n",
       "      <th>6</th>\n",
       "      <td>rmse_Mult_add_sea</td>\n",
       "      <td>61.696654</td>\n",
       "    </tr>\n",
       "    <tr>\n",
       "      <th>3</th>\n",
       "      <td>rmse_add_sea</td>\n",
       "      <td>140.887000</td>\n",
       "    </tr>\n",
       "    <tr>\n",
       "      <th>5</th>\n",
       "      <td>rmse_Mult_sea</td>\n",
       "      <td>157.422440</td>\n",
       "    </tr>\n",
       "  </tbody>\n",
       "</table>\n",
       "</div>"
      ],
      "text/plain": [
       "               MODEL  RMSE_Values\n",
       "1           rmse_Exp    46.057361\n",
       "2          rmse_Quad    46.908142\n",
       "4  rmse_add_sea_quad    50.420245\n",
       "0        rmse_linear    53.199237\n",
       "6  rmse_Mult_add_sea    61.696654\n",
       "3       rmse_add_sea   140.887000\n",
       "5      rmse_Mult_sea   157.422440"
      ]
     },
     "execution_count": 198,
     "metadata": {},
     "output_type": "execute_result"
    }
   ],
   "source": [
    "#Compare the results (Model Base Method)\n",
    "data_comp = {\"MODEL\":pd.Series([\"rmse_linear\",\"rmse_Exp\",\"rmse_Quad\",\"rmse_add_sea\",\"rmse_add_sea_quad\",\"rmse_Mult_sea\",\"rmse_Mult_add_sea\"]),\"RMSE_Values\":pd.Series([rmse_linear,rmse_Exp,rmse_Quad,rmse_add_sea,rmse_add_sea_quad,rmse_Mult_sea,rmse_Mult_add_sea])}\n",
    "table_rmse=pd.DataFrame(data_comp)\n",
    "table_rmse.sort_values(['RMSE_Values'])"
   ]
  },
  {
   "cell_type": "code",
   "execution_count": 199,
   "id": "23ab759e",
   "metadata": {},
   "outputs": [
    {
     "data": {
      "text/html": [
       "<div>\n",
       "<style scoped>\n",
       "    .dataframe tbody tr th:only-of-type {\n",
       "        vertical-align: middle;\n",
       "    }\n",
       "\n",
       "    .dataframe tbody tr th {\n",
       "        vertical-align: top;\n",
       "    }\n",
       "\n",
       "    .dataframe thead th {\n",
       "        text-align: right;\n",
       "    }\n",
       "</style>\n",
       "<table border=\"1\" class=\"dataframe\">\n",
       "  <thead>\n",
       "    <tr style=\"text-align: right;\">\n",
       "      <th></th>\n",
       "      <th>MODEL</th>\n",
       "      <th>RMSE_Values</th>\n",
       "    </tr>\n",
       "  </thead>\n",
       "  <tbody>\n",
       "    <tr>\n",
       "      <th>3</th>\n",
       "      <td>Holts winter exponential smoothing with multip...</td>\n",
       "      <td>12.921284</td>\n",
       "    </tr>\n",
       "    <tr>\n",
       "      <th>2</th>\n",
       "      <td>Holts winter exponential smoothing with additi...</td>\n",
       "      <td>28.793915</td>\n",
       "    </tr>\n",
       "    <tr>\n",
       "      <th>0</th>\n",
       "      <td>Simple Exponential Method</td>\n",
       "      <td>64.844764</td>\n",
       "    </tr>\n",
       "    <tr>\n",
       "      <th>1</th>\n",
       "      <td>Holt method</td>\n",
       "      <td>95.766745</td>\n",
       "    </tr>\n",
       "  </tbody>\n",
       "</table>\n",
       "</div>"
      ],
      "text/plain": [
       "                                               MODEL  RMSE_Values\n",
       "3  Holts winter exponential smoothing with multip...    12.921284\n",
       "2  Holts winter exponential smoothing with additi...    28.793915\n",
       "0                          Simple Exponential Method    64.844764\n",
       "1                                       Holt method     95.766745"
      ]
     },
     "execution_count": 199,
     "metadata": {},
     "output_type": "execute_result"
    }
   ],
   "source": [
    "#Compare the results (Data Driven Model)\n",
    "data_comp = {\"MODEL\":pd.Series([\"Simple Exponential Method\",\"Holt method \",\"Holts winter exponential smoothing with additive seasonality and additive trend\",\"Holts winter exponential smoothing with multiplicative seasonality and additive trend\"]),\"RMSE_Values\":pd.Series([RMSE_ses,RMSE_hw,RMSE_hwe_add_add,RMSE_hwe_mul_add])}\n",
    "table_rmse=pd.DataFrame(data_comp)\n",
    "table_rmse.sort_values(['RMSE_Values'])"
   ]
  },
  {
   "cell_type": "code",
   "execution_count": 202,
   "id": "5b4d5194",
   "metadata": {},
   "outputs": [
    {
     "data": {
      "text/plain": [
       "0.13178985241692578"
      ]
     },
     "execution_count": 202,
     "metadata": {},
     "output_type": "execute_result"
    }
   ],
   "source": [
    "#Compare the results (ARIMA Model)\n",
    "evaluate_arima_model(arr_Train_3, (0,1,4))"
   ]
  },
  {
   "cell_type": "raw",
   "id": "16374b82",
   "metadata": {},
   "source": [
    "From Above results comparision it is clearly observed that ARIMA Method gives lowest RSME score."
   ]
  },
  {
   "cell_type": "code",
   "execution_count": null,
   "id": "c2b1a88a",
   "metadata": {},
   "outputs": [],
   "source": []
  }
 ],
 "metadata": {
  "kernelspec": {
   "display_name": "Python 3 (ipykernel)",
   "language": "python",
   "name": "python3"
  },
  "language_info": {
   "codemirror_mode": {
    "name": "ipython",
    "version": 3
   },
   "file_extension": ".py",
   "mimetype": "text/x-python",
   "name": "python",
   "nbconvert_exporter": "python",
   "pygments_lexer": "ipython3",
   "version": "3.9.7"
  }
 },
 "nbformat": 4,
 "nbformat_minor": 5
}
